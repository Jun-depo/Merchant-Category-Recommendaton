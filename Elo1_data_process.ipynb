{
 "cells": [
  {
   "cell_type": "code",
   "execution_count": 1,
   "metadata": {},
   "outputs": [],
   "source": [
    "import pandas as pd\n",
    "import numpy as np\n",
    "import matplotlib.pyplot as plt\n",
    "import seaborn as sns\n",
    "%matplotlib inline\n",
    "\n",
    "import warnings\n",
    "warnings.filterwarnings(\"ignore\")"
   ]
  },
  {
   "cell_type": "code",
   "execution_count": 2,
   "metadata": {},
   "outputs": [],
   "source": [
    "df_train = pd.read_csv(\"./input/train.csv\")"
   ]
  },
  {
   "cell_type": "code",
   "execution_count": 3,
   "metadata": {},
   "outputs": [
    {
     "data": {
      "text/html": [
       "<div>\n",
       "<style scoped>\n",
       "    .dataframe tbody tr th:only-of-type {\n",
       "        vertical-align: middle;\n",
       "    }\n",
       "\n",
       "    .dataframe tbody tr th {\n",
       "        vertical-align: top;\n",
       "    }\n",
       "\n",
       "    .dataframe thead th {\n",
       "        text-align: right;\n",
       "    }\n",
       "</style>\n",
       "<table border=\"1\" class=\"dataframe\">\n",
       "  <thead>\n",
       "    <tr style=\"text-align: right;\">\n",
       "      <th></th>\n",
       "      <th>first_active_month</th>\n",
       "      <th>card_id</th>\n",
       "      <th>feature_1</th>\n",
       "      <th>feature_2</th>\n",
       "      <th>feature_3</th>\n",
       "      <th>target</th>\n",
       "    </tr>\n",
       "  </thead>\n",
       "  <tbody>\n",
       "    <tr>\n",
       "      <th>0</th>\n",
       "      <td>2017-06</td>\n",
       "      <td>C_ID_92a2005557</td>\n",
       "      <td>5</td>\n",
       "      <td>2</td>\n",
       "      <td>1</td>\n",
       "      <td>-0.820283</td>\n",
       "    </tr>\n",
       "    <tr>\n",
       "      <th>1</th>\n",
       "      <td>2017-01</td>\n",
       "      <td>C_ID_3d0044924f</td>\n",
       "      <td>4</td>\n",
       "      <td>1</td>\n",
       "      <td>0</td>\n",
       "      <td>0.392913</td>\n",
       "    </tr>\n",
       "    <tr>\n",
       "      <th>2</th>\n",
       "      <td>2016-08</td>\n",
       "      <td>C_ID_d639edf6cd</td>\n",
       "      <td>2</td>\n",
       "      <td>2</td>\n",
       "      <td>0</td>\n",
       "      <td>0.688056</td>\n",
       "    </tr>\n",
       "    <tr>\n",
       "      <th>3</th>\n",
       "      <td>2017-09</td>\n",
       "      <td>C_ID_186d6a6901</td>\n",
       "      <td>4</td>\n",
       "      <td>3</td>\n",
       "      <td>0</td>\n",
       "      <td>0.142495</td>\n",
       "    </tr>\n",
       "    <tr>\n",
       "      <th>4</th>\n",
       "      <td>2017-11</td>\n",
       "      <td>C_ID_cdbd2c0db2</td>\n",
       "      <td>1</td>\n",
       "      <td>3</td>\n",
       "      <td>0</td>\n",
       "      <td>-0.159749</td>\n",
       "    </tr>\n",
       "  </tbody>\n",
       "</table>\n",
       "</div>"
      ],
      "text/plain": [
       "  first_active_month          card_id  feature_1  feature_2  feature_3  \\\n",
       "0            2017-06  C_ID_92a2005557          5          2          1   \n",
       "1            2017-01  C_ID_3d0044924f          4          1          0   \n",
       "2            2016-08  C_ID_d639edf6cd          2          2          0   \n",
       "3            2017-09  C_ID_186d6a6901          4          3          0   \n",
       "4            2017-11  C_ID_cdbd2c0db2          1          3          0   \n",
       "\n",
       "     target  \n",
       "0 -0.820283  \n",
       "1  0.392913  \n",
       "2  0.688056  \n",
       "3  0.142495  \n",
       "4 -0.159749  "
      ]
     },
     "execution_count": 3,
     "metadata": {},
     "output_type": "execute_result"
    }
   ],
   "source": [
    "df_train.head()"
   ]
  },
  {
   "cell_type": "code",
   "execution_count": 4,
   "metadata": {},
   "outputs": [],
   "source": [
    "df_test = pd.read_csv(\"./input/test.csv\")"
   ]
  },
  {
   "cell_type": "code",
   "execution_count": 5,
   "metadata": {},
   "outputs": [
    {
     "data": {
      "text/html": [
       "<div>\n",
       "<style scoped>\n",
       "    .dataframe tbody tr th:only-of-type {\n",
       "        vertical-align: middle;\n",
       "    }\n",
       "\n",
       "    .dataframe tbody tr th {\n",
       "        vertical-align: top;\n",
       "    }\n",
       "\n",
       "    .dataframe thead th {\n",
       "        text-align: right;\n",
       "    }\n",
       "</style>\n",
       "<table border=\"1\" class=\"dataframe\">\n",
       "  <thead>\n",
       "    <tr style=\"text-align: right;\">\n",
       "      <th></th>\n",
       "      <th>first_active_month</th>\n",
       "      <th>card_id</th>\n",
       "      <th>feature_1</th>\n",
       "      <th>feature_2</th>\n",
       "      <th>feature_3</th>\n",
       "    </tr>\n",
       "  </thead>\n",
       "  <tbody>\n",
       "    <tr>\n",
       "      <th>0</th>\n",
       "      <td>2017-04</td>\n",
       "      <td>C_ID_0ab67a22ab</td>\n",
       "      <td>3</td>\n",
       "      <td>3</td>\n",
       "      <td>1</td>\n",
       "    </tr>\n",
       "    <tr>\n",
       "      <th>1</th>\n",
       "      <td>2017-01</td>\n",
       "      <td>C_ID_130fd0cbdd</td>\n",
       "      <td>2</td>\n",
       "      <td>3</td>\n",
       "      <td>0</td>\n",
       "    </tr>\n",
       "    <tr>\n",
       "      <th>2</th>\n",
       "      <td>2017-08</td>\n",
       "      <td>C_ID_b709037bc5</td>\n",
       "      <td>5</td>\n",
       "      <td>1</td>\n",
       "      <td>1</td>\n",
       "    </tr>\n",
       "    <tr>\n",
       "      <th>3</th>\n",
       "      <td>2017-12</td>\n",
       "      <td>C_ID_d27d835a9f</td>\n",
       "      <td>2</td>\n",
       "      <td>1</td>\n",
       "      <td>0</td>\n",
       "    </tr>\n",
       "    <tr>\n",
       "      <th>4</th>\n",
       "      <td>2015-12</td>\n",
       "      <td>C_ID_2b5e3df5c2</td>\n",
       "      <td>5</td>\n",
       "      <td>1</td>\n",
       "      <td>1</td>\n",
       "    </tr>\n",
       "  </tbody>\n",
       "</table>\n",
       "</div>"
      ],
      "text/plain": [
       "  first_active_month          card_id  feature_1  feature_2  feature_3\n",
       "0            2017-04  C_ID_0ab67a22ab          3          3          1\n",
       "1            2017-01  C_ID_130fd0cbdd          2          3          0\n",
       "2            2017-08  C_ID_b709037bc5          5          1          1\n",
       "3            2017-12  C_ID_d27d835a9f          2          1          0\n",
       "4            2015-12  C_ID_2b5e3df5c2          5          1          1"
      ]
     },
     "execution_count": 5,
     "metadata": {},
     "output_type": "execute_result"
    }
   ],
   "source": [
    "df_test.head()"
   ]
  },
  {
   "cell_type": "code",
   "execution_count": 6,
   "metadata": {},
   "outputs": [],
   "source": [
    "df_data_dict = pd.read_excel(\"./input/Data_Dictionary.xlsx\")"
   ]
  },
  {
   "cell_type": "code",
   "execution_count": 7,
   "metadata": {},
   "outputs": [
    {
     "data": {
      "text/html": [
       "<div>\n",
       "<style scoped>\n",
       "    .dataframe tbody tr th:only-of-type {\n",
       "        vertical-align: middle;\n",
       "    }\n",
       "\n",
       "    .dataframe tbody tr th {\n",
       "        vertical-align: top;\n",
       "    }\n",
       "\n",
       "    .dataframe thead th {\n",
       "        text-align: right;\n",
       "    }\n",
       "</style>\n",
       "<table border=\"1\" class=\"dataframe\">\n",
       "  <thead>\n",
       "    <tr style=\"text-align: right;\">\n",
       "      <th></th>\n",
       "      <th>train.csv</th>\n",
       "      <th>Unnamed: 1</th>\n",
       "    </tr>\n",
       "  </thead>\n",
       "  <tbody>\n",
       "    <tr>\n",
       "      <th>0</th>\n",
       "      <td>NaN</td>\n",
       "      <td>NaN</td>\n",
       "    </tr>\n",
       "    <tr>\n",
       "      <th>1</th>\n",
       "      <td>Columns</td>\n",
       "      <td>Description</td>\n",
       "    </tr>\n",
       "    <tr>\n",
       "      <th>2</th>\n",
       "      <td>card_id</td>\n",
       "      <td>Unique card identifier</td>\n",
       "    </tr>\n",
       "    <tr>\n",
       "      <th>3</th>\n",
       "      <td>first_active_month</td>\n",
       "      <td>'YYYY-MM', month of first purchase</td>\n",
       "    </tr>\n",
       "    <tr>\n",
       "      <th>4</th>\n",
       "      <td>feature_1</td>\n",
       "      <td>Anonymized card categorical feature</td>\n",
       "    </tr>\n",
       "    <tr>\n",
       "      <th>5</th>\n",
       "      <td>feature_2</td>\n",
       "      <td>Anonymized card categorical feature</td>\n",
       "    </tr>\n",
       "    <tr>\n",
       "      <th>6</th>\n",
       "      <td>feature_3</td>\n",
       "      <td>Anonymized card categorical feature</td>\n",
       "    </tr>\n",
       "    <tr>\n",
       "      <th>7</th>\n",
       "      <td>target</td>\n",
       "      <td>Loyalty numerical score calculated 2 months af...</td>\n",
       "    </tr>\n",
       "  </tbody>\n",
       "</table>\n",
       "</div>"
      ],
      "text/plain": [
       "            train.csv                                         Unnamed: 1\n",
       "0                 NaN                                                NaN\n",
       "1             Columns                                        Description\n",
       "2             card_id                             Unique card identifier\n",
       "3  first_active_month                 'YYYY-MM', month of first purchase\n",
       "4           feature_1                Anonymized card categorical feature\n",
       "5           feature_2                Anonymized card categorical feature\n",
       "6           feature_3                Anonymized card categorical feature\n",
       "7              target  Loyalty numerical score calculated 2 months af..."
      ]
     },
     "execution_count": 7,
     "metadata": {},
     "output_type": "execute_result"
    }
   ],
   "source": [
    "df_data_dict"
   ]
  },
  {
   "cell_type": "code",
   "execution_count": 8,
   "metadata": {},
   "outputs": [],
   "source": [
    "df_merch = pd.read_csv(\"./input/merchants.csv\")"
   ]
  },
  {
   "cell_type": "code",
   "execution_count": 9,
   "metadata": {},
   "outputs": [
    {
     "data": {
      "text/html": [
       "<div>\n",
       "<style scoped>\n",
       "    .dataframe tbody tr th:only-of-type {\n",
       "        vertical-align: middle;\n",
       "    }\n",
       "\n",
       "    .dataframe tbody tr th {\n",
       "        vertical-align: top;\n",
       "    }\n",
       "\n",
       "    .dataframe thead th {\n",
       "        text-align: right;\n",
       "    }\n",
       "</style>\n",
       "<table border=\"1\" class=\"dataframe\">\n",
       "  <thead>\n",
       "    <tr style=\"text-align: right;\">\n",
       "      <th></th>\n",
       "      <th>0</th>\n",
       "      <th>1</th>\n",
       "      <th>2</th>\n",
       "      <th>3</th>\n",
       "      <th>4</th>\n",
       "    </tr>\n",
       "  </thead>\n",
       "  <tbody>\n",
       "    <tr>\n",
       "      <th>merchant_id</th>\n",
       "      <td>M_ID_838061e48c</td>\n",
       "      <td>M_ID_9339d880ad</td>\n",
       "      <td>M_ID_e726bbae1e</td>\n",
       "      <td>M_ID_a70e9c5f81</td>\n",
       "      <td>M_ID_64456c37ce</td>\n",
       "    </tr>\n",
       "    <tr>\n",
       "      <th>merchant_group_id</th>\n",
       "      <td>8353</td>\n",
       "      <td>3184</td>\n",
       "      <td>447</td>\n",
       "      <td>5026</td>\n",
       "      <td>2228</td>\n",
       "    </tr>\n",
       "    <tr>\n",
       "      <th>merchant_category_id</th>\n",
       "      <td>792</td>\n",
       "      <td>840</td>\n",
       "      <td>690</td>\n",
       "      <td>792</td>\n",
       "      <td>222</td>\n",
       "    </tr>\n",
       "    <tr>\n",
       "      <th>subsector_id</th>\n",
       "      <td>9</td>\n",
       "      <td>20</td>\n",
       "      <td>1</td>\n",
       "      <td>9</td>\n",
       "      <td>21</td>\n",
       "    </tr>\n",
       "    <tr>\n",
       "      <th>numerical_1</th>\n",
       "      <td>-0.0574706</td>\n",
       "      <td>-0.0574706</td>\n",
       "      <td>-0.0574706</td>\n",
       "      <td>-0.0574706</td>\n",
       "      <td>-0.0574706</td>\n",
       "    </tr>\n",
       "    <tr>\n",
       "      <th>numerical_2</th>\n",
       "      <td>-0.0574706</td>\n",
       "      <td>-0.0574706</td>\n",
       "      <td>-0.0574706</td>\n",
       "      <td>-0.0574706</td>\n",
       "      <td>-0.0574706</td>\n",
       "    </tr>\n",
       "    <tr>\n",
       "      <th>category_1</th>\n",
       "      <td>N</td>\n",
       "      <td>N</td>\n",
       "      <td>N</td>\n",
       "      <td>Y</td>\n",
       "      <td>Y</td>\n",
       "    </tr>\n",
       "    <tr>\n",
       "      <th>most_recent_sales_range</th>\n",
       "      <td>E</td>\n",
       "      <td>E</td>\n",
       "      <td>E</td>\n",
       "      <td>E</td>\n",
       "      <td>E</td>\n",
       "    </tr>\n",
       "    <tr>\n",
       "      <th>most_recent_purchases_range</th>\n",
       "      <td>E</td>\n",
       "      <td>E</td>\n",
       "      <td>E</td>\n",
       "      <td>E</td>\n",
       "      <td>E</td>\n",
       "    </tr>\n",
       "    <tr>\n",
       "      <th>avg_sales_lag3</th>\n",
       "      <td>-0.4</td>\n",
       "      <td>-0.72</td>\n",
       "      <td>-82.13</td>\n",
       "      <td>NaN</td>\n",
       "      <td>NaN</td>\n",
       "    </tr>\n",
       "    <tr>\n",
       "      <th>avg_purchases_lag3</th>\n",
       "      <td>9.66667</td>\n",
       "      <td>1.75</td>\n",
       "      <td>260</td>\n",
       "      <td>1.66667</td>\n",
       "      <td>0.5</td>\n",
       "    </tr>\n",
       "    <tr>\n",
       "      <th>active_months_lag3</th>\n",
       "      <td>3</td>\n",
       "      <td>3</td>\n",
       "      <td>2</td>\n",
       "      <td>3</td>\n",
       "      <td>3</td>\n",
       "    </tr>\n",
       "    <tr>\n",
       "      <th>avg_sales_lag6</th>\n",
       "      <td>-2.25</td>\n",
       "      <td>-0.74</td>\n",
       "      <td>-82.13</td>\n",
       "      <td>NaN</td>\n",
       "      <td>NaN</td>\n",
       "    </tr>\n",
       "    <tr>\n",
       "      <th>avg_purchases_lag6</th>\n",
       "      <td>18.6667</td>\n",
       "      <td>1.29167</td>\n",
       "      <td>260</td>\n",
       "      <td>4.66667</td>\n",
       "      <td>0.361111</td>\n",
       "    </tr>\n",
       "    <tr>\n",
       "      <th>active_months_lag6</th>\n",
       "      <td>6</td>\n",
       "      <td>6</td>\n",
       "      <td>2</td>\n",
       "      <td>6</td>\n",
       "      <td>6</td>\n",
       "    </tr>\n",
       "    <tr>\n",
       "      <th>avg_sales_lag12</th>\n",
       "      <td>-2.32</td>\n",
       "      <td>-0.57</td>\n",
       "      <td>-82.13</td>\n",
       "      <td>NaN</td>\n",
       "      <td>NaN</td>\n",
       "    </tr>\n",
       "    <tr>\n",
       "      <th>avg_purchases_lag12</th>\n",
       "      <td>13.9167</td>\n",
       "      <td>1.6875</td>\n",
       "      <td>260</td>\n",
       "      <td>3.83333</td>\n",
       "      <td>0.347222</td>\n",
       "    </tr>\n",
       "    <tr>\n",
       "      <th>active_months_lag12</th>\n",
       "      <td>12</td>\n",
       "      <td>12</td>\n",
       "      <td>2</td>\n",
       "      <td>12</td>\n",
       "      <td>12</td>\n",
       "    </tr>\n",
       "    <tr>\n",
       "      <th>category_4</th>\n",
       "      <td>N</td>\n",
       "      <td>N</td>\n",
       "      <td>N</td>\n",
       "      <td>Y</td>\n",
       "      <td>Y</td>\n",
       "    </tr>\n",
       "    <tr>\n",
       "      <th>city_id</th>\n",
       "      <td>242</td>\n",
       "      <td>22</td>\n",
       "      <td>-1</td>\n",
       "      <td>-1</td>\n",
       "      <td>-1</td>\n",
       "    </tr>\n",
       "    <tr>\n",
       "      <th>state_id</th>\n",
       "      <td>9</td>\n",
       "      <td>16</td>\n",
       "      <td>5</td>\n",
       "      <td>-1</td>\n",
       "      <td>-1</td>\n",
       "    </tr>\n",
       "    <tr>\n",
       "      <th>category_2</th>\n",
       "      <td>1</td>\n",
       "      <td>1</td>\n",
       "      <td>5</td>\n",
       "      <td>NaN</td>\n",
       "      <td>NaN</td>\n",
       "    </tr>\n",
       "  </tbody>\n",
       "</table>\n",
       "</div>"
      ],
      "text/plain": [
       "                                           0                1  \\\n",
       "merchant_id                  M_ID_838061e48c  M_ID_9339d880ad   \n",
       "merchant_group_id                       8353             3184   \n",
       "merchant_category_id                     792              840   \n",
       "subsector_id                               9               20   \n",
       "numerical_1                       -0.0574706       -0.0574706   \n",
       "numerical_2                       -0.0574706       -0.0574706   \n",
       "category_1                                 N                N   \n",
       "most_recent_sales_range                    E                E   \n",
       "most_recent_purchases_range                E                E   \n",
       "avg_sales_lag3                          -0.4            -0.72   \n",
       "avg_purchases_lag3                   9.66667             1.75   \n",
       "active_months_lag3                         3                3   \n",
       "avg_sales_lag6                         -2.25            -0.74   \n",
       "avg_purchases_lag6                   18.6667          1.29167   \n",
       "active_months_lag6                         6                6   \n",
       "avg_sales_lag12                        -2.32            -0.57   \n",
       "avg_purchases_lag12                  13.9167           1.6875   \n",
       "active_months_lag12                       12               12   \n",
       "category_4                                 N                N   \n",
       "city_id                                  242               22   \n",
       "state_id                                   9               16   \n",
       "category_2                                 1                1   \n",
       "\n",
       "                                           2                3                4  \n",
       "merchant_id                  M_ID_e726bbae1e  M_ID_a70e9c5f81  M_ID_64456c37ce  \n",
       "merchant_group_id                        447             5026             2228  \n",
       "merchant_category_id                     690              792              222  \n",
       "subsector_id                               1                9               21  \n",
       "numerical_1                       -0.0574706       -0.0574706       -0.0574706  \n",
       "numerical_2                       -0.0574706       -0.0574706       -0.0574706  \n",
       "category_1                                 N                Y                Y  \n",
       "most_recent_sales_range                    E                E                E  \n",
       "most_recent_purchases_range                E                E                E  \n",
       "avg_sales_lag3                        -82.13              NaN              NaN  \n",
       "avg_purchases_lag3                       260          1.66667              0.5  \n",
       "active_months_lag3                         2                3                3  \n",
       "avg_sales_lag6                        -82.13              NaN              NaN  \n",
       "avg_purchases_lag6                       260          4.66667         0.361111  \n",
       "active_months_lag6                         2                6                6  \n",
       "avg_sales_lag12                       -82.13              NaN              NaN  \n",
       "avg_purchases_lag12                      260          3.83333         0.347222  \n",
       "active_months_lag12                        2               12               12  \n",
       "category_4                                 N                Y                Y  \n",
       "city_id                                   -1               -1               -1  \n",
       "state_id                                   5               -1               -1  \n",
       "category_2                                 5              NaN              NaN  "
      ]
     },
     "execution_count": 9,
     "metadata": {},
     "output_type": "execute_result"
    }
   ],
   "source": [
    "df_merch.head().transpose()"
   ]
  },
  {
   "cell_type": "code",
   "execution_count": 10,
   "metadata": {},
   "outputs": [],
   "source": [
    "df_hist_trans = pd.read_csv(\"./input/historical_transactions.csv\")"
   ]
  },
  {
   "cell_type": "code",
   "execution_count": 11,
   "metadata": {},
   "outputs": [
    {
     "data": {
      "text/html": [
       "<div>\n",
       "<style scoped>\n",
       "    .dataframe tbody tr th:only-of-type {\n",
       "        vertical-align: middle;\n",
       "    }\n",
       "\n",
       "    .dataframe tbody tr th {\n",
       "        vertical-align: top;\n",
       "    }\n",
       "\n",
       "    .dataframe thead th {\n",
       "        text-align: right;\n",
       "    }\n",
       "</style>\n",
       "<table border=\"1\" class=\"dataframe\">\n",
       "  <thead>\n",
       "    <tr style=\"text-align: right;\">\n",
       "      <th></th>\n",
       "      <th>authorized_flag</th>\n",
       "      <th>card_id</th>\n",
       "      <th>city_id</th>\n",
       "      <th>category_1</th>\n",
       "      <th>installments</th>\n",
       "      <th>category_3</th>\n",
       "      <th>merchant_category_id</th>\n",
       "      <th>merchant_id</th>\n",
       "      <th>month_lag</th>\n",
       "      <th>purchase_amount</th>\n",
       "      <th>purchase_date</th>\n",
       "      <th>category_2</th>\n",
       "      <th>state_id</th>\n",
       "      <th>subsector_id</th>\n",
       "    </tr>\n",
       "  </thead>\n",
       "  <tbody>\n",
       "    <tr>\n",
       "      <th>0</th>\n",
       "      <td>Y</td>\n",
       "      <td>C_ID_4e6213e9bc</td>\n",
       "      <td>88</td>\n",
       "      <td>N</td>\n",
       "      <td>0</td>\n",
       "      <td>A</td>\n",
       "      <td>80</td>\n",
       "      <td>M_ID_e020e9b302</td>\n",
       "      <td>-8</td>\n",
       "      <td>-0.703331</td>\n",
       "      <td>2017-06-25 15:33:07</td>\n",
       "      <td>1.0</td>\n",
       "      <td>16</td>\n",
       "      <td>37</td>\n",
       "    </tr>\n",
       "    <tr>\n",
       "      <th>1</th>\n",
       "      <td>Y</td>\n",
       "      <td>C_ID_4e6213e9bc</td>\n",
       "      <td>88</td>\n",
       "      <td>N</td>\n",
       "      <td>0</td>\n",
       "      <td>A</td>\n",
       "      <td>367</td>\n",
       "      <td>M_ID_86ec983688</td>\n",
       "      <td>-7</td>\n",
       "      <td>-0.733128</td>\n",
       "      <td>2017-07-15 12:10:45</td>\n",
       "      <td>1.0</td>\n",
       "      <td>16</td>\n",
       "      <td>16</td>\n",
       "    </tr>\n",
       "    <tr>\n",
       "      <th>2</th>\n",
       "      <td>Y</td>\n",
       "      <td>C_ID_4e6213e9bc</td>\n",
       "      <td>88</td>\n",
       "      <td>N</td>\n",
       "      <td>0</td>\n",
       "      <td>A</td>\n",
       "      <td>80</td>\n",
       "      <td>M_ID_979ed661fc</td>\n",
       "      <td>-6</td>\n",
       "      <td>-0.720386</td>\n",
       "      <td>2017-08-09 22:04:29</td>\n",
       "      <td>1.0</td>\n",
       "      <td>16</td>\n",
       "      <td>37</td>\n",
       "    </tr>\n",
       "    <tr>\n",
       "      <th>3</th>\n",
       "      <td>Y</td>\n",
       "      <td>C_ID_4e6213e9bc</td>\n",
       "      <td>88</td>\n",
       "      <td>N</td>\n",
       "      <td>0</td>\n",
       "      <td>A</td>\n",
       "      <td>560</td>\n",
       "      <td>M_ID_e6d5ae8ea6</td>\n",
       "      <td>-5</td>\n",
       "      <td>-0.735352</td>\n",
       "      <td>2017-09-02 10:06:26</td>\n",
       "      <td>1.0</td>\n",
       "      <td>16</td>\n",
       "      <td>34</td>\n",
       "    </tr>\n",
       "    <tr>\n",
       "      <th>4</th>\n",
       "      <td>Y</td>\n",
       "      <td>C_ID_4e6213e9bc</td>\n",
       "      <td>88</td>\n",
       "      <td>N</td>\n",
       "      <td>0</td>\n",
       "      <td>A</td>\n",
       "      <td>80</td>\n",
       "      <td>M_ID_e020e9b302</td>\n",
       "      <td>-11</td>\n",
       "      <td>-0.722865</td>\n",
       "      <td>2017-03-10 01:14:19</td>\n",
       "      <td>1.0</td>\n",
       "      <td>16</td>\n",
       "      <td>37</td>\n",
       "    </tr>\n",
       "  </tbody>\n",
       "</table>\n",
       "</div>"
      ],
      "text/plain": [
       "  authorized_flag          card_id  city_id category_1  installments  \\\n",
       "0               Y  C_ID_4e6213e9bc       88          N             0   \n",
       "1               Y  C_ID_4e6213e9bc       88          N             0   \n",
       "2               Y  C_ID_4e6213e9bc       88          N             0   \n",
       "3               Y  C_ID_4e6213e9bc       88          N             0   \n",
       "4               Y  C_ID_4e6213e9bc       88          N             0   \n",
       "\n",
       "  category_3  merchant_category_id      merchant_id  month_lag  \\\n",
       "0          A                    80  M_ID_e020e9b302         -8   \n",
       "1          A                   367  M_ID_86ec983688         -7   \n",
       "2          A                    80  M_ID_979ed661fc         -6   \n",
       "3          A                   560  M_ID_e6d5ae8ea6         -5   \n",
       "4          A                    80  M_ID_e020e9b302        -11   \n",
       "\n",
       "   purchase_amount        purchase_date  category_2  state_id  subsector_id  \n",
       "0        -0.703331  2017-06-25 15:33:07         1.0        16            37  \n",
       "1        -0.733128  2017-07-15 12:10:45         1.0        16            16  \n",
       "2        -0.720386  2017-08-09 22:04:29         1.0        16            37  \n",
       "3        -0.735352  2017-09-02 10:06:26         1.0        16            34  \n",
       "4        -0.722865  2017-03-10 01:14:19         1.0        16            37  "
      ]
     },
     "execution_count": 11,
     "metadata": {},
     "output_type": "execute_result"
    }
   ],
   "source": [
    "df_hist_trans.head()"
   ]
  },
  {
   "cell_type": "code",
   "execution_count": 12,
   "metadata": {},
   "outputs": [],
   "source": [
    "df_new_merch_trans = pd.read_csv(\"./input/new_merchant_transactions.csv\")"
   ]
  },
  {
   "cell_type": "code",
   "execution_count": 13,
   "metadata": {},
   "outputs": [
    {
     "data": {
      "text/html": [
       "<div>\n",
       "<style scoped>\n",
       "    .dataframe tbody tr th:only-of-type {\n",
       "        vertical-align: middle;\n",
       "    }\n",
       "\n",
       "    .dataframe tbody tr th {\n",
       "        vertical-align: top;\n",
       "    }\n",
       "\n",
       "    .dataframe thead th {\n",
       "        text-align: right;\n",
       "    }\n",
       "</style>\n",
       "<table border=\"1\" class=\"dataframe\">\n",
       "  <thead>\n",
       "    <tr style=\"text-align: right;\">\n",
       "      <th></th>\n",
       "      <th>authorized_flag</th>\n",
       "      <th>card_id</th>\n",
       "      <th>city_id</th>\n",
       "      <th>category_1</th>\n",
       "      <th>installments</th>\n",
       "      <th>category_3</th>\n",
       "      <th>merchant_category_id</th>\n",
       "      <th>merchant_id</th>\n",
       "      <th>month_lag</th>\n",
       "      <th>purchase_amount</th>\n",
       "      <th>purchase_date</th>\n",
       "      <th>category_2</th>\n",
       "      <th>state_id</th>\n",
       "      <th>subsector_id</th>\n",
       "    </tr>\n",
       "  </thead>\n",
       "  <tbody>\n",
       "    <tr>\n",
       "      <th>0</th>\n",
       "      <td>Y</td>\n",
       "      <td>C_ID_415bb3a509</td>\n",
       "      <td>107</td>\n",
       "      <td>N</td>\n",
       "      <td>1</td>\n",
       "      <td>B</td>\n",
       "      <td>307</td>\n",
       "      <td>M_ID_b0c793002c</td>\n",
       "      <td>1</td>\n",
       "      <td>-0.557574</td>\n",
       "      <td>2018-03-11 14:57:36</td>\n",
       "      <td>1.0</td>\n",
       "      <td>9</td>\n",
       "      <td>19</td>\n",
       "    </tr>\n",
       "    <tr>\n",
       "      <th>1</th>\n",
       "      <td>Y</td>\n",
       "      <td>C_ID_415bb3a509</td>\n",
       "      <td>140</td>\n",
       "      <td>N</td>\n",
       "      <td>1</td>\n",
       "      <td>B</td>\n",
       "      <td>307</td>\n",
       "      <td>M_ID_88920c89e8</td>\n",
       "      <td>1</td>\n",
       "      <td>-0.569580</td>\n",
       "      <td>2018-03-19 18:53:37</td>\n",
       "      <td>1.0</td>\n",
       "      <td>9</td>\n",
       "      <td>19</td>\n",
       "    </tr>\n",
       "    <tr>\n",
       "      <th>2</th>\n",
       "      <td>Y</td>\n",
       "      <td>C_ID_415bb3a509</td>\n",
       "      <td>330</td>\n",
       "      <td>N</td>\n",
       "      <td>1</td>\n",
       "      <td>B</td>\n",
       "      <td>507</td>\n",
       "      <td>M_ID_ad5237ef6b</td>\n",
       "      <td>2</td>\n",
       "      <td>-0.551037</td>\n",
       "      <td>2018-04-26 14:08:44</td>\n",
       "      <td>1.0</td>\n",
       "      <td>9</td>\n",
       "      <td>14</td>\n",
       "    </tr>\n",
       "    <tr>\n",
       "      <th>3</th>\n",
       "      <td>Y</td>\n",
       "      <td>C_ID_415bb3a509</td>\n",
       "      <td>-1</td>\n",
       "      <td>Y</td>\n",
       "      <td>1</td>\n",
       "      <td>B</td>\n",
       "      <td>661</td>\n",
       "      <td>M_ID_9e84cda3b1</td>\n",
       "      <td>1</td>\n",
       "      <td>-0.671925</td>\n",
       "      <td>2018-03-07 09:43:21</td>\n",
       "      <td>NaN</td>\n",
       "      <td>-1</td>\n",
       "      <td>8</td>\n",
       "    </tr>\n",
       "    <tr>\n",
       "      <th>4</th>\n",
       "      <td>Y</td>\n",
       "      <td>C_ID_ef55cf8d4b</td>\n",
       "      <td>-1</td>\n",
       "      <td>Y</td>\n",
       "      <td>1</td>\n",
       "      <td>B</td>\n",
       "      <td>166</td>\n",
       "      <td>M_ID_3c86fa3831</td>\n",
       "      <td>1</td>\n",
       "      <td>-0.659904</td>\n",
       "      <td>2018-03-22 21:07:53</td>\n",
       "      <td>NaN</td>\n",
       "      <td>-1</td>\n",
       "      <td>29</td>\n",
       "    </tr>\n",
       "  </tbody>\n",
       "</table>\n",
       "</div>"
      ],
      "text/plain": [
       "  authorized_flag          card_id  city_id category_1  installments  \\\n",
       "0               Y  C_ID_415bb3a509      107          N             1   \n",
       "1               Y  C_ID_415bb3a509      140          N             1   \n",
       "2               Y  C_ID_415bb3a509      330          N             1   \n",
       "3               Y  C_ID_415bb3a509       -1          Y             1   \n",
       "4               Y  C_ID_ef55cf8d4b       -1          Y             1   \n",
       "\n",
       "  category_3  merchant_category_id      merchant_id  month_lag  \\\n",
       "0          B                   307  M_ID_b0c793002c          1   \n",
       "1          B                   307  M_ID_88920c89e8          1   \n",
       "2          B                   507  M_ID_ad5237ef6b          2   \n",
       "3          B                   661  M_ID_9e84cda3b1          1   \n",
       "4          B                   166  M_ID_3c86fa3831          1   \n",
       "\n",
       "   purchase_amount        purchase_date  category_2  state_id  subsector_id  \n",
       "0        -0.557574  2018-03-11 14:57:36         1.0         9            19  \n",
       "1        -0.569580  2018-03-19 18:53:37         1.0         9            19  \n",
       "2        -0.551037  2018-04-26 14:08:44         1.0         9            14  \n",
       "3        -0.671925  2018-03-07 09:43:21         NaN        -1             8  \n",
       "4        -0.659904  2018-03-22 21:07:53         NaN        -1            29  "
      ]
     },
     "execution_count": 13,
     "metadata": {},
     "output_type": "execute_result"
    }
   ],
   "source": [
    "df_new_merch_trans.head()"
   ]
  },
  {
   "cell_type": "code",
   "execution_count": 14,
   "metadata": {},
   "outputs": [
    {
     "data": {
      "text/plain": [
       "1963031"
      ]
     },
     "execution_count": 14,
     "metadata": {},
     "output_type": "execute_result"
    }
   ],
   "source": [
    "len(df_new_merch_trans)"
   ]
  },
  {
   "cell_type": "code",
   "execution_count": 15,
   "metadata": {},
   "outputs": [
    {
     "data": {
      "text/plain": [
       "29112361"
      ]
     },
     "execution_count": 15,
     "metadata": {},
     "output_type": "execute_result"
    }
   ],
   "source": [
    "len(df_hist_trans)"
   ]
  },
  {
   "cell_type": "code",
   "execution_count": 16,
   "metadata": {},
   "outputs": [],
   "source": [
    "df_trans = pd.concat([df_hist_trans, df_new_merch_trans])"
   ]
  },
  {
   "cell_type": "code",
   "execution_count": 17,
   "metadata": {},
   "outputs": [
    {
     "data": {
      "text/plain": [
       "31075392"
      ]
     },
     "execution_count": 17,
     "metadata": {},
     "output_type": "execute_result"
    }
   ],
   "source": [
    "len(df_trans)"
   ]
  },
  {
   "cell_type": "code",
   "execution_count": 18,
   "metadata": {},
   "outputs": [],
   "source": [
    "df_train_merg = df_train.merge(df_hist_trans, how='inner', on=\"card_id\")"
   ]
  },
  {
   "cell_type": "code",
   "execution_count": 19,
   "metadata": {},
   "outputs": [
    {
     "data": {
      "text/plain": [
       "201917"
      ]
     },
     "execution_count": 19,
     "metadata": {},
     "output_type": "execute_result"
    }
   ],
   "source": [
    "len(df_train)"
   ]
  },
  {
   "cell_type": "code",
   "execution_count": 20,
   "metadata": {},
   "outputs": [
    {
     "data": {
      "text/plain": [
       "18030009"
      ]
     },
     "execution_count": 20,
     "metadata": {},
     "output_type": "execute_result"
    }
   ],
   "source": [
    "len(df_train_merg)"
   ]
  },
  {
   "cell_type": "code",
   "execution_count": 21,
   "metadata": {},
   "outputs": [
    {
     "data": {
      "text/html": [
       "<div>\n",
       "<style scoped>\n",
       "    .dataframe tbody tr th:only-of-type {\n",
       "        vertical-align: middle;\n",
       "    }\n",
       "\n",
       "    .dataframe tbody tr th {\n",
       "        vertical-align: top;\n",
       "    }\n",
       "\n",
       "    .dataframe thead th {\n",
       "        text-align: right;\n",
       "    }\n",
       "</style>\n",
       "<table border=\"1\" class=\"dataframe\">\n",
       "  <thead>\n",
       "    <tr style=\"text-align: right;\">\n",
       "      <th></th>\n",
       "      <th>first_active_month</th>\n",
       "      <th>card_id</th>\n",
       "      <th>feature_1</th>\n",
       "      <th>feature_2</th>\n",
       "      <th>feature_3</th>\n",
       "      <th>target</th>\n",
       "      <th>authorized_flag</th>\n",
       "      <th>city_id</th>\n",
       "      <th>category_1</th>\n",
       "      <th>installments</th>\n",
       "      <th>category_3</th>\n",
       "      <th>merchant_category_id</th>\n",
       "      <th>merchant_id</th>\n",
       "      <th>month_lag</th>\n",
       "      <th>purchase_amount</th>\n",
       "      <th>purchase_date</th>\n",
       "      <th>category_2</th>\n",
       "      <th>state_id</th>\n",
       "      <th>subsector_id</th>\n",
       "    </tr>\n",
       "  </thead>\n",
       "  <tbody>\n",
       "    <tr>\n",
       "      <th>0</th>\n",
       "      <td>2017-06</td>\n",
       "      <td>C_ID_92a2005557</td>\n",
       "      <td>5</td>\n",
       "      <td>2</td>\n",
       "      <td>1</td>\n",
       "      <td>-0.820283</td>\n",
       "      <td>Y</td>\n",
       "      <td>69</td>\n",
       "      <td>N</td>\n",
       "      <td>0</td>\n",
       "      <td>A</td>\n",
       "      <td>195</td>\n",
       "      <td>M_ID_cc72dac895</td>\n",
       "      <td>-3</td>\n",
       "      <td>-0.506033</td>\n",
       "      <td>2017-11-25 16:37:11</td>\n",
       "      <td>1.0</td>\n",
       "      <td>9</td>\n",
       "      <td>34</td>\n",
       "    </tr>\n",
       "    <tr>\n",
       "      <th>1</th>\n",
       "      <td>2017-06</td>\n",
       "      <td>C_ID_92a2005557</td>\n",
       "      <td>5</td>\n",
       "      <td>2</td>\n",
       "      <td>1</td>\n",
       "      <td>-0.820283</td>\n",
       "      <td>Y</td>\n",
       "      <td>69</td>\n",
       "      <td>N</td>\n",
       "      <td>0</td>\n",
       "      <td>A</td>\n",
       "      <td>278</td>\n",
       "      <td>M_ID_c9c0f1cb3f</td>\n",
       "      <td>-7</td>\n",
       "      <td>-0.722114</td>\n",
       "      <td>2017-07-16 12:21:00</td>\n",
       "      <td>1.0</td>\n",
       "      <td>9</td>\n",
       "      <td>37</td>\n",
       "    </tr>\n",
       "    <tr>\n",
       "      <th>2</th>\n",
       "      <td>2017-06</td>\n",
       "      <td>C_ID_92a2005557</td>\n",
       "      <td>5</td>\n",
       "      <td>2</td>\n",
       "      <td>1</td>\n",
       "      <td>-0.820283</td>\n",
       "      <td>Y</td>\n",
       "      <td>69</td>\n",
       "      <td>N</td>\n",
       "      <td>0</td>\n",
       "      <td>A</td>\n",
       "      <td>683</td>\n",
       "      <td>M_ID_36f9e41993</td>\n",
       "      <td>-6</td>\n",
       "      <td>-0.726171</td>\n",
       "      <td>2017-08-10 21:01:16</td>\n",
       "      <td>1.0</td>\n",
       "      <td>9</td>\n",
       "      <td>34</td>\n",
       "    </tr>\n",
       "    <tr>\n",
       "      <th>3</th>\n",
       "      <td>2017-06</td>\n",
       "      <td>C_ID_92a2005557</td>\n",
       "      <td>5</td>\n",
       "      <td>2</td>\n",
       "      <td>1</td>\n",
       "      <td>-0.820283</td>\n",
       "      <td>Y</td>\n",
       "      <td>69</td>\n",
       "      <td>N</td>\n",
       "      <td>0</td>\n",
       "      <td>A</td>\n",
       "      <td>309</td>\n",
       "      <td>M_ID_b790230ee9</td>\n",
       "      <td>-2</td>\n",
       "      <td>-0.610167</td>\n",
       "      <td>2017-12-15 12:06:58</td>\n",
       "      <td>1.0</td>\n",
       "      <td>9</td>\n",
       "      <td>21</td>\n",
       "    </tr>\n",
       "    <tr>\n",
       "      <th>4</th>\n",
       "      <td>2017-06</td>\n",
       "      <td>C_ID_92a2005557</td>\n",
       "      <td>5</td>\n",
       "      <td>2</td>\n",
       "      <td>1</td>\n",
       "      <td>-0.820283</td>\n",
       "      <td>Y</td>\n",
       "      <td>69</td>\n",
       "      <td>N</td>\n",
       "      <td>0</td>\n",
       "      <td>A</td>\n",
       "      <td>278</td>\n",
       "      <td>M_ID_ab67f6c982</td>\n",
       "      <td>-7</td>\n",
       "      <td>-0.307232</td>\n",
       "      <td>2017-07-08 15:13:18</td>\n",
       "      <td>1.0</td>\n",
       "      <td>9</td>\n",
       "      <td>37</td>\n",
       "    </tr>\n",
       "  </tbody>\n",
       "</table>\n",
       "</div>"
      ],
      "text/plain": [
       "  first_active_month          card_id  feature_1  feature_2  feature_3  \\\n",
       "0            2017-06  C_ID_92a2005557          5          2          1   \n",
       "1            2017-06  C_ID_92a2005557          5          2          1   \n",
       "2            2017-06  C_ID_92a2005557          5          2          1   \n",
       "3            2017-06  C_ID_92a2005557          5          2          1   \n",
       "4            2017-06  C_ID_92a2005557          5          2          1   \n",
       "\n",
       "     target authorized_flag  city_id category_1  installments category_3  \\\n",
       "0 -0.820283               Y       69          N             0          A   \n",
       "1 -0.820283               Y       69          N             0          A   \n",
       "2 -0.820283               Y       69          N             0          A   \n",
       "3 -0.820283               Y       69          N             0          A   \n",
       "4 -0.820283               Y       69          N             0          A   \n",
       "\n",
       "   merchant_category_id      merchant_id  month_lag  purchase_amount  \\\n",
       "0                   195  M_ID_cc72dac895         -3        -0.506033   \n",
       "1                   278  M_ID_c9c0f1cb3f         -7        -0.722114   \n",
       "2                   683  M_ID_36f9e41993         -6        -0.726171   \n",
       "3                   309  M_ID_b790230ee9         -2        -0.610167   \n",
       "4                   278  M_ID_ab67f6c982         -7        -0.307232   \n",
       "\n",
       "         purchase_date  category_2  state_id  subsector_id  \n",
       "0  2017-11-25 16:37:11         1.0         9            34  \n",
       "1  2017-07-16 12:21:00         1.0         9            37  \n",
       "2  2017-08-10 21:01:16         1.0         9            34  \n",
       "3  2017-12-15 12:06:58         1.0         9            21  \n",
       "4  2017-07-08 15:13:18         1.0         9            37  "
      ]
     },
     "execution_count": 21,
     "metadata": {},
     "output_type": "execute_result"
    }
   ],
   "source": [
    "df_train_merg.head()\n",
    "# Month_lag is the difference in months between purchase date month and reference date month, I'm assuming reference month is feb 2018."
   ]
  },
  {
   "cell_type": "code",
   "execution_count": 22,
   "metadata": {},
   "outputs": [
    {
     "data": {
      "text/plain": [
       "-2     2389787\n",
       "-1     2248468\n",
       " 0     2151419\n",
       "-3     1920958\n",
       "-4     1635925\n",
       "-5     1466671\n",
       "-6     1271559\n",
       "-7     1098685\n",
       "-8      882416\n",
       "-9      761224\n",
       "-10     668862\n",
       "-11     620200\n",
       "-12     488207\n",
       "-13     425628\n",
       "Name: month_lag, dtype: int64"
      ]
     },
     "execution_count": 22,
     "metadata": {},
     "output_type": "execute_result"
    }
   ],
   "source": [
    "df_train_merg[\"month_lag\"].value_counts()"
   ]
  },
  {
   "cell_type": "code",
   "execution_count": 23,
   "metadata": {},
   "outputs": [
    {
     "data": {
      "text/plain": [
       "<BarContainer object of 14 artists>"
      ]
     },
     "execution_count": 23,
     "metadata": {},
     "output_type": "execute_result"
    },
    {
     "data": {
      "image/png": "[encoded data removed]",
      "text/plain": [
       "<Figure size 432x288 with 1 Axes>"
      ]
     },
     "metadata": {},
     "output_type": "display_data"
    }
   ],
   "source": [
    "plt.bar(x=df_hist_trans[\"month_lag\"].value_counts().index, height=df_hist_trans[\"month_lag\"].value_counts())"
   ]
  },
  {
   "cell_type": "code",
   "execution_count": 24,
   "metadata": {},
   "outputs": [
    {
     "data": {
      "text/plain": [
       "<BarContainer object of 14 artists>"
      ]
     },
     "execution_count": 24,
     "metadata": {},
     "output_type": "execute_result"
    },
    {
     "data": {
      "image/png": "[encoded data removed]",
      "text/plain": [
       "<Figure size 432x288 with 1 Axes>"
      ]
     },
     "metadata": {},
     "output_type": "display_data"
    }
   ],
   "source": [
    "plt.bar(x=df_train_merg[\"month_lag\"].value_counts().index, height=df_train_merg[\"month_lag\"].value_counts())\n",
    "# month lag 1, 2 are from new transaction "
   ]
  },
  {
   "cell_type": "code",
   "execution_count": 25,
   "metadata": {},
   "outputs": [
    {
     "data": {
      "text/plain": [
       "(array([1.8030008e+07, 0.0000000e+00, 0.0000000e+00, 0.0000000e+00,\n",
       "        0.0000000e+00, 0.0000000e+00, 0.0000000e+00, 0.0000000e+00,\n",
       "        0.0000000e+00, 1.0000000e+00]),\n",
       " array([-7.46907800e-01,  6.01059725e+05,  1.20212020e+06,  1.80318067e+06,\n",
       "         2.40424114e+06,  3.00530161e+06,  3.60636208e+06,  4.20742256e+06,\n",
       "         4.80848303e+06,  5.40954350e+06,  6.01060397e+06]),\n",
       " <a list of 10 Patch objects>)"
      ]
     },
     "execution_count": 25,
     "metadata": {},
     "output_type": "execute_result"
    },
    {
     "data": {
      "image/png": "[encoded data removed]",
      "text/plain": [
       "<Figure size 432x288 with 1 Axes>"
      ]
     },
     "metadata": {},
     "output_type": "display_data"
    }
   ],
   "source": [
    "plt.hist(df_train_merg[\"purchase_amount\"])"
   ]
  },
  {
   "cell_type": "code",
   "execution_count": 26,
   "metadata": {},
   "outputs": [
    {
     "data": {
      "text/plain": [
       "Text(0.5, 0, 'Target')"
      ]
     },
     "execution_count": 26,
     "metadata": {},
     "output_type": "execute_result"
    },
    {
     "data": {
      "image/png": "[encoded data removed]",
      "text/plain": [
       "<Figure size 432x288 with 1 Axes>"
      ]
     },
     "metadata": {},
     "output_type": "display_data"
    }
   ],
   "source": [
    "plt.hist(df_train_merg['target'])\n",
    "plt.xlabel(\"Target\")"
   ]
  },
  {
   "cell_type": "code",
   "execution_count": 27,
   "metadata": {},
   "outputs": [
    {
     "data": {
      "text/plain": [
       "(-2, 3)"
      ]
     },
     "execution_count": 27,
     "metadata": {},
     "output_type": "execute_result"
    },
    {
     "data": {
      "image/png": "[encoded data removed]",
      "text/plain": [
       "<Figure size 432x720 with 1 Axes>"
      ]
     },
     "metadata": {},
     "output_type": "display_data"
    }
   ],
   "source": [
    "plt.figure(figsize=(6,10))\n",
    "sns.boxplot(x='feature_1', y= \"purchase_amount\", data=df_train_merg.iloc[0:100000])\n",
    "plt.ylim(-2, 3)"
   ]
  },
  {
   "cell_type": "code",
   "execution_count": 28,
   "metadata": {},
   "outputs": [
    {
     "data": {
      "text/plain": [
       "array([  0,   1,   3,   5,   4,   6,   2,  -1,  10,   7,  12,   8,   9,\n",
       "        11, 999])"
      ]
     },
     "execution_count": 28,
     "metadata": {},
     "output_type": "execute_result"
    }
   ],
   "source": [
    "df_train_merg['installments'].unique()"
   ]
  },
  {
   "cell_type": "code",
   "execution_count": 29,
   "metadata": {},
   "outputs": [],
   "source": [
    "a = df_train_merg['installments'].mean()\n",
    "df_train_merg.loc[(df_train_merg['installments']==-1),'installments'] = a\n",
    "# -1 is missing value\n",
    "df_train_merg.loc[(df_train_merg['installments']==999),'installments'] = a\n",
    "# 999 is missing value"
   ]
  },
  {
   "cell_type": "code",
   "execution_count": 30,
   "metadata": {},
   "outputs": [
    {
     "data": {
      "text/plain": [
       "array([ 0.        ,  1.        ,  3.        ,  5.        ,  4.        ,\n",
       "        6.        ,  2.        ,  0.64790406, 10.        ,  7.        ,\n",
       "       12.        ,  8.        ,  9.        , 11.        ])"
      ]
     },
     "execution_count": 30,
     "metadata": {},
     "output_type": "execute_result"
    }
   ],
   "source": [
    "df_train_merg['installments'].unique()"
   ]
  },
  {
   "cell_type": "code",
   "execution_count": 31,
   "metadata": {},
   "outputs": [
    {
     "data": {
      "text/plain": [
       "14"
      ]
     },
     "execution_count": 31,
     "metadata": {},
     "output_type": "execute_result"
    }
   ],
   "source": [
    "len(df_train_merg['installments'].unique())"
   ]
  },
  {
   "cell_type": "code",
   "execution_count": 32,
   "metadata": {},
   "outputs": [],
   "source": [
    "df_train_mean = df_train_merg.groupby(by=\"card_id\", sort=False).mean()"
   ]
  },
  {
   "cell_type": "code",
   "execution_count": 33,
   "metadata": {},
   "outputs": [
    {
     "data": {
      "text/plain": [
       "201917"
      ]
     },
     "execution_count": 33,
     "metadata": {},
     "output_type": "execute_result"
    }
   ],
   "source": [
    "len(df_train_mean)"
   ]
  },
  {
   "cell_type": "code",
   "execution_count": 34,
   "metadata": {},
   "outputs": [
    {
     "data": {
      "text/plain": [
       "201917"
      ]
     },
     "execution_count": 34,
     "metadata": {},
     "output_type": "execute_result"
    }
   ],
   "source": [
    "len(df_train)"
   ]
  },
  {
   "cell_type": "code",
   "execution_count": 35,
   "metadata": {},
   "outputs": [],
   "source": [
    "df_train_mean.reset_index(inplace=True)"
   ]
  },
  {
   "cell_type": "code",
   "execution_count": 36,
   "metadata": {},
   "outputs": [
    {
     "data": {
      "text/html": [
       "<div>\n",
       "<style scoped>\n",
       "    .dataframe tbody tr th:only-of-type {\n",
       "        vertical-align: middle;\n",
       "    }\n",
       "\n",
       "    .dataframe tbody tr th {\n",
       "        vertical-align: top;\n",
       "    }\n",
       "\n",
       "    .dataframe thead th {\n",
       "        text-align: right;\n",
       "    }\n",
       "</style>\n",
       "<table border=\"1\" class=\"dataframe\">\n",
       "  <thead>\n",
       "    <tr style=\"text-align: right;\">\n",
       "      <th></th>\n",
       "      <th>card_id</th>\n",
       "      <th>feature_1</th>\n",
       "      <th>feature_2</th>\n",
       "      <th>feature_3</th>\n",
       "      <th>target</th>\n",
       "      <th>city_id</th>\n",
       "      <th>installments</th>\n",
       "      <th>merchant_category_id</th>\n",
       "      <th>month_lag</th>\n",
       "      <th>purchase_amount</th>\n",
       "      <th>category_2</th>\n",
       "      <th>state_id</th>\n",
       "      <th>subsector_id</th>\n",
       "    </tr>\n",
       "  </thead>\n",
       "  <tbody>\n",
       "    <tr>\n",
       "      <th>201912</th>\n",
       "      <td>C_ID_963962de2c</td>\n",
       "      <td>3.0</td>\n",
       "      <td>2.0</td>\n",
       "      <td>1.0</td>\n",
       "      <td>-2.740821</td>\n",
       "      <td>87.500000</td>\n",
       "      <td>0.021739</td>\n",
       "      <td>654.586957</td>\n",
       "      <td>-2.065217</td>\n",
       "      <td>-0.709244</td>\n",
       "      <td>2.391304</td>\n",
       "      <td>7.608696</td>\n",
       "      <td>26.565217</td>\n",
       "    </tr>\n",
       "    <tr>\n",
       "      <th>201913</th>\n",
       "      <td>C_ID_1314773c0b</td>\n",
       "      <td>3.0</td>\n",
       "      <td>1.0</td>\n",
       "      <td>1.0</td>\n",
       "      <td>0.312917</td>\n",
       "      <td>89.255319</td>\n",
       "      <td>0.021277</td>\n",
       "      <td>365.787234</td>\n",
       "      <td>-3.872340</td>\n",
       "      <td>-0.711339</td>\n",
       "      <td>1.000000</td>\n",
       "      <td>15.000000</td>\n",
       "      <td>29.191489</td>\n",
       "    </tr>\n",
       "    <tr>\n",
       "      <th>201914</th>\n",
       "      <td>C_ID_7666735b3d</td>\n",
       "      <td>4.0</td>\n",
       "      <td>3.0</td>\n",
       "      <td>0.0</td>\n",
       "      <td>0.093494</td>\n",
       "      <td>205.528736</td>\n",
       "      <td>1.260321</td>\n",
       "      <td>447.735632</td>\n",
       "      <td>-3.735632</td>\n",
       "      <td>-0.381465</td>\n",
       "      <td>2.859155</td>\n",
       "      <td>6.448276</td>\n",
       "      <td>24.528736</td>\n",
       "    </tr>\n",
       "    <tr>\n",
       "      <th>201915</th>\n",
       "      <td>C_ID_73f5a0efd0</td>\n",
       "      <td>3.0</td>\n",
       "      <td>2.0</td>\n",
       "      <td>1.0</td>\n",
       "      <td>-4.676589</td>\n",
       "      <td>77.230769</td>\n",
       "      <td>0.000000</td>\n",
       "      <td>606.461538</td>\n",
       "      <td>-3.346154</td>\n",
       "      <td>-0.688037</td>\n",
       "      <td>1.000000</td>\n",
       "      <td>9.000000</td>\n",
       "      <td>20.461538</td>\n",
       "    </tr>\n",
       "    <tr>\n",
       "      <th>201916</th>\n",
       "      <td>C_ID_92c9984c58</td>\n",
       "      <td>3.0</td>\n",
       "      <td>1.0</td>\n",
       "      <td>1.0</td>\n",
       "      <td>-1.859413</td>\n",
       "      <td>9.089552</td>\n",
       "      <td>1.161552</td>\n",
       "      <td>666.097015</td>\n",
       "      <td>-5.082090</td>\n",
       "      <td>-0.619683</td>\n",
       "      <td>2.478261</td>\n",
       "      <td>0.462687</td>\n",
       "      <td>22.529851</td>\n",
       "    </tr>\n",
       "  </tbody>\n",
       "</table>\n",
       "</div>"
      ],
      "text/plain": [
       "                card_id  feature_1  feature_2  feature_3    target  \\\n",
       "201912  C_ID_963962de2c        3.0        2.0        1.0 -2.740821   \n",
       "201913  C_ID_1314773c0b        3.0        1.0        1.0  0.312917   \n",
       "201914  C_ID_7666735b3d        4.0        3.0        0.0  0.093494   \n",
       "201915  C_ID_73f5a0efd0        3.0        2.0        1.0 -4.676589   \n",
       "201916  C_ID_92c9984c58        3.0        1.0        1.0 -1.859413   \n",
       "\n",
       "           city_id  installments  merchant_category_id  month_lag  \\\n",
       "201912   87.500000      0.021739            654.586957  -2.065217   \n",
       "201913   89.255319      0.021277            365.787234  -3.872340   \n",
       "201914  205.528736      1.260321            447.735632  -3.735632   \n",
       "201915   77.230769      0.000000            606.461538  -3.346154   \n",
       "201916    9.089552      1.161552            666.097015  -5.082090   \n",
       "\n",
       "        purchase_amount  category_2   state_id  subsector_id  \n",
       "201912        -0.709244    2.391304   7.608696     26.565217  \n",
       "201913        -0.711339    1.000000  15.000000     29.191489  \n",
       "201914        -0.381465    2.859155   6.448276     24.528736  \n",
       "201915        -0.688037    1.000000   9.000000     20.461538  \n",
       "201916        -0.619683    2.478261   0.462687     22.529851  "
      ]
     },
     "execution_count": 36,
     "metadata": {},
     "output_type": "execute_result"
    }
   ],
   "source": [
    "df_train_mean.tail()"
   ]
  },
  {
   "cell_type": "code",
   "execution_count": 37,
   "metadata": {},
   "outputs": [],
   "source": [
    "df_train[[\"ave_installments\", \"ave_month_lag\", \"ave_purchase_amount\"]] = df_train_mean[[\"installments\", \"month_lag\", \"purchase_amount\"]] "
   ]
  },
  {
   "cell_type": "code",
   "execution_count": 38,
   "metadata": {},
   "outputs": [
    {
     "data": {
      "text/html": [
       "<div>\n",
       "<style scoped>\n",
       "    .dataframe tbody tr th:only-of-type {\n",
       "        vertical-align: middle;\n",
       "    }\n",
       "\n",
       "    .dataframe tbody tr th {\n",
       "        vertical-align: top;\n",
       "    }\n",
       "\n",
       "    .dataframe thead th {\n",
       "        text-align: right;\n",
       "    }\n",
       "</style>\n",
       "<table border=\"1\" class=\"dataframe\">\n",
       "  <thead>\n",
       "    <tr style=\"text-align: right;\">\n",
       "      <th></th>\n",
       "      <th>first_active_month</th>\n",
       "      <th>card_id</th>\n",
       "      <th>feature_1</th>\n",
       "      <th>feature_2</th>\n",
       "      <th>feature_3</th>\n",
       "      <th>target</th>\n",
       "      <th>ave_installments</th>\n",
       "      <th>ave_month_lag</th>\n",
       "      <th>ave_purchase_amount</th>\n",
       "    </tr>\n",
       "  </thead>\n",
       "  <tbody>\n",
       "    <tr>\n",
       "      <th>201912</th>\n",
       "      <td>2017-09</td>\n",
       "      <td>C_ID_963962de2c</td>\n",
       "      <td>3</td>\n",
       "      <td>2</td>\n",
       "      <td>1</td>\n",
       "      <td>-2.740821</td>\n",
       "      <td>0.021739</td>\n",
       "      <td>-2.065217</td>\n",
       "      <td>-0.709244</td>\n",
       "    </tr>\n",
       "    <tr>\n",
       "      <th>201913</th>\n",
       "      <td>2015-10</td>\n",
       "      <td>C_ID_1314773c0b</td>\n",
       "      <td>3</td>\n",
       "      <td>1</td>\n",
       "      <td>1</td>\n",
       "      <td>0.312917</td>\n",
       "      <td>0.021277</td>\n",
       "      <td>-3.872340</td>\n",
       "      <td>-0.711339</td>\n",
       "    </tr>\n",
       "    <tr>\n",
       "      <th>201914</th>\n",
       "      <td>2017-08</td>\n",
       "      <td>C_ID_7666735b3d</td>\n",
       "      <td>4</td>\n",
       "      <td>3</td>\n",
       "      <td>0</td>\n",
       "      <td>0.093494</td>\n",
       "      <td>1.260321</td>\n",
       "      <td>-3.735632</td>\n",
       "      <td>-0.381465</td>\n",
       "    </tr>\n",
       "    <tr>\n",
       "      <th>201915</th>\n",
       "      <td>2016-07</td>\n",
       "      <td>C_ID_73f5a0efd0</td>\n",
       "      <td>3</td>\n",
       "      <td>2</td>\n",
       "      <td>1</td>\n",
       "      <td>-4.676589</td>\n",
       "      <td>0.000000</td>\n",
       "      <td>-3.346154</td>\n",
       "      <td>-0.688037</td>\n",
       "    </tr>\n",
       "    <tr>\n",
       "      <th>201916</th>\n",
       "      <td>2017-07</td>\n",
       "      <td>C_ID_92c9984c58</td>\n",
       "      <td>3</td>\n",
       "      <td>1</td>\n",
       "      <td>1</td>\n",
       "      <td>-1.859413</td>\n",
       "      <td>1.161552</td>\n",
       "      <td>-5.082090</td>\n",
       "      <td>-0.619683</td>\n",
       "    </tr>\n",
       "  </tbody>\n",
       "</table>\n",
       "</div>"
      ],
      "text/plain": [
       "       first_active_month          card_id  feature_1  feature_2  feature_3  \\\n",
       "201912            2017-09  C_ID_963962de2c          3          2          1   \n",
       "201913            2015-10  C_ID_1314773c0b          3          1          1   \n",
       "201914            2017-08  C_ID_7666735b3d          4          3          0   \n",
       "201915            2016-07  C_ID_73f5a0efd0          3          2          1   \n",
       "201916            2017-07  C_ID_92c9984c58          3          1          1   \n",
       "\n",
       "          target  ave_installments  ave_month_lag  ave_purchase_amount  \n",
       "201912 -2.740821          0.021739      -2.065217            -0.709244  \n",
       "201913  0.312917          0.021277      -3.872340            -0.711339  \n",
       "201914  0.093494          1.260321      -3.735632            -0.381465  \n",
       "201915 -4.676589          0.000000      -3.346154            -0.688037  \n",
       "201916 -1.859413          1.161552      -5.082090            -0.619683  "
      ]
     },
     "execution_count": 38,
     "metadata": {},
     "output_type": "execute_result"
    }
   ],
   "source": [
    "df_train.tail()"
   ]
  },
  {
   "cell_type": "code",
   "execution_count": 39,
   "metadata": {},
   "outputs": [],
   "source": [
    "df_train_merg.loc[:, \"for_count\"] = 1"
   ]
  },
  {
   "cell_type": "code",
   "execution_count": 40,
   "metadata": {},
   "outputs": [
    {
     "data": {
      "text/html": [
       "<div>\n",
       "<style scoped>\n",
       "    .dataframe tbody tr th:only-of-type {\n",
       "        vertical-align: middle;\n",
       "    }\n",
       "\n",
       "    .dataframe tbody tr th {\n",
       "        vertical-align: top;\n",
       "    }\n",
       "\n",
       "    .dataframe thead th {\n",
       "        text-align: right;\n",
       "    }\n",
       "</style>\n",
       "<table border=\"1\" class=\"dataframe\">\n",
       "  <thead>\n",
       "    <tr style=\"text-align: right;\">\n",
       "      <th></th>\n",
       "      <th>first_active_month</th>\n",
       "      <th>card_id</th>\n",
       "      <th>feature_1</th>\n",
       "      <th>feature_2</th>\n",
       "      <th>feature_3</th>\n",
       "      <th>target</th>\n",
       "      <th>authorized_flag</th>\n",
       "      <th>city_id</th>\n",
       "      <th>category_1</th>\n",
       "      <th>installments</th>\n",
       "      <th>category_3</th>\n",
       "      <th>merchant_category_id</th>\n",
       "      <th>merchant_id</th>\n",
       "      <th>month_lag</th>\n",
       "      <th>purchase_amount</th>\n",
       "      <th>purchase_date</th>\n",
       "      <th>category_2</th>\n",
       "      <th>state_id</th>\n",
       "      <th>subsector_id</th>\n",
       "      <th>for_count</th>\n",
       "    </tr>\n",
       "  </thead>\n",
       "  <tbody>\n",
       "    <tr>\n",
       "      <th>0</th>\n",
       "      <td>2017-06</td>\n",
       "      <td>C_ID_92a2005557</td>\n",
       "      <td>5</td>\n",
       "      <td>2</td>\n",
       "      <td>1</td>\n",
       "      <td>-0.820283</td>\n",
       "      <td>Y</td>\n",
       "      <td>69</td>\n",
       "      <td>N</td>\n",
       "      <td>0.0</td>\n",
       "      <td>A</td>\n",
       "      <td>195</td>\n",
       "      <td>M_ID_cc72dac895</td>\n",
       "      <td>-3</td>\n",
       "      <td>-0.506033</td>\n",
       "      <td>2017-11-25 16:37:11</td>\n",
       "      <td>1.0</td>\n",
       "      <td>9</td>\n",
       "      <td>34</td>\n",
       "      <td>1</td>\n",
       "    </tr>\n",
       "    <tr>\n",
       "      <th>1</th>\n",
       "      <td>2017-06</td>\n",
       "      <td>C_ID_92a2005557</td>\n",
       "      <td>5</td>\n",
       "      <td>2</td>\n",
       "      <td>1</td>\n",
       "      <td>-0.820283</td>\n",
       "      <td>Y</td>\n",
       "      <td>69</td>\n",
       "      <td>N</td>\n",
       "      <td>0.0</td>\n",
       "      <td>A</td>\n",
       "      <td>278</td>\n",
       "      <td>M_ID_c9c0f1cb3f</td>\n",
       "      <td>-7</td>\n",
       "      <td>-0.722114</td>\n",
       "      <td>2017-07-16 12:21:00</td>\n",
       "      <td>1.0</td>\n",
       "      <td>9</td>\n",
       "      <td>37</td>\n",
       "      <td>1</td>\n",
       "    </tr>\n",
       "  </tbody>\n",
       "</table>\n",
       "</div>"
      ],
      "text/plain": [
       "  first_active_month          card_id  feature_1  feature_2  feature_3  \\\n",
       "0            2017-06  C_ID_92a2005557          5          2          1   \n",
       "1            2017-06  C_ID_92a2005557          5          2          1   \n",
       "\n",
       "     target authorized_flag  city_id category_1  installments category_3  \\\n",
       "0 -0.820283               Y       69          N           0.0          A   \n",
       "1 -0.820283               Y       69          N           0.0          A   \n",
       "\n",
       "   merchant_category_id      merchant_id  month_lag  purchase_amount  \\\n",
       "0                   195  M_ID_cc72dac895         -3        -0.506033   \n",
       "1                   278  M_ID_c9c0f1cb3f         -7        -0.722114   \n",
       "\n",
       "         purchase_date  category_2  state_id  subsector_id  for_count  \n",
       "0  2017-11-25 16:37:11         1.0         9            34          1  \n",
       "1  2017-07-16 12:21:00         1.0         9            37          1  "
      ]
     },
     "execution_count": 40,
     "metadata": {},
     "output_type": "execute_result"
    }
   ],
   "source": [
    "df_train_merg.head(2)"
   ]
  },
  {
   "cell_type": "code",
   "execution_count": 41,
   "metadata": {},
   "outputs": [],
   "source": [
    "df_train_sum = df_train_merg.groupby(by=\"card_id\", sort=False).sum()"
   ]
  },
  {
   "cell_type": "code",
   "execution_count": 42,
   "metadata": {},
   "outputs": [],
   "source": [
    "df_train_sum.reset_index(inplace=True)"
   ]
  },
  {
   "cell_type": "code",
   "execution_count": 43,
   "metadata": {},
   "outputs": [
    {
     "data": {
      "text/html": [
       "<div>\n",
       "<style scoped>\n",
       "    .dataframe tbody tr th:only-of-type {\n",
       "        vertical-align: middle;\n",
       "    }\n",
       "\n",
       "    .dataframe tbody tr th {\n",
       "        vertical-align: top;\n",
       "    }\n",
       "\n",
       "    .dataframe thead th {\n",
       "        text-align: right;\n",
       "    }\n",
       "</style>\n",
       "<table border=\"1\" class=\"dataframe\">\n",
       "  <thead>\n",
       "    <tr style=\"text-align: right;\">\n",
       "      <th></th>\n",
       "      <th>card_id</th>\n",
       "      <th>feature_1</th>\n",
       "      <th>feature_2</th>\n",
       "      <th>feature_3</th>\n",
       "      <th>target</th>\n",
       "      <th>city_id</th>\n",
       "      <th>installments</th>\n",
       "      <th>merchant_category_id</th>\n",
       "      <th>month_lag</th>\n",
       "      <th>purchase_amount</th>\n",
       "      <th>category_2</th>\n",
       "      <th>state_id</th>\n",
       "      <th>subsector_id</th>\n",
       "      <th>for_count</th>\n",
       "    </tr>\n",
       "  </thead>\n",
       "  <tbody>\n",
       "    <tr>\n",
       "      <th>0</th>\n",
       "      <td>C_ID_92a2005557</td>\n",
       "      <td>1300</td>\n",
       "      <td>520</td>\n",
       "      <td>260</td>\n",
       "      <td>-213.273476</td>\n",
       "      <td>19572</td>\n",
       "      <td>4.000000</td>\n",
       "      <td>112206</td>\n",
       "      <td>-1017</td>\n",
       "      <td>-165.968739</td>\n",
       "      <td>272.0</td>\n",
       "      <td>2343</td>\n",
       "      <td>8181</td>\n",
       "      <td>260</td>\n",
       "    </tr>\n",
       "    <tr>\n",
       "      <th>1</th>\n",
       "      <td>C_ID_3d0044924f</td>\n",
       "      <td>1400</td>\n",
       "      <td>350</td>\n",
       "      <td>0</td>\n",
       "      <td>137.519638</td>\n",
       "      <td>24599</td>\n",
       "      <td>546.295808</td>\n",
       "      <td>144595</td>\n",
       "      <td>-1761</td>\n",
       "      <td>-210.006336</td>\n",
       "      <td>319.0</td>\n",
       "      <td>2900</td>\n",
       "      <td>9460</td>\n",
       "      <td>350</td>\n",
       "    </tr>\n",
       "  </tbody>\n",
       "</table>\n",
       "</div>"
      ],
      "text/plain": [
       "           card_id  feature_1  feature_2  feature_3      target  city_id  \\\n",
       "0  C_ID_92a2005557       1300        520        260 -213.273476    19572   \n",
       "1  C_ID_3d0044924f       1400        350          0  137.519638    24599   \n",
       "\n",
       "   installments  merchant_category_id  month_lag  purchase_amount  category_2  \\\n",
       "0      4.000000                112206      -1017      -165.968739       272.0   \n",
       "1    546.295808                144595      -1761      -210.006336       319.0   \n",
       "\n",
       "   state_id  subsector_id  for_count  \n",
       "0      2343          8181        260  \n",
       "1      2900          9460        350  "
      ]
     },
     "execution_count": 43,
     "metadata": {},
     "output_type": "execute_result"
    }
   ],
   "source": [
    "df_train_sum.head(2)"
   ]
  },
  {
   "cell_type": "code",
   "execution_count": 44,
   "metadata": {},
   "outputs": [],
   "source": [
    "df_train[[\"total_purchase_amount\", \"total_purchase_numbers\"]] = df_train_sum[[\"purchase_amount\",\"for_count\"]]"
   ]
  },
  {
   "cell_type": "code",
   "execution_count": 46,
   "metadata": {},
   "outputs": [
    {
     "data": {
      "text/html": [
       "<div>\n",
       "<style scoped>\n",
       "    .dataframe tbody tr th:only-of-type {\n",
       "        vertical-align: middle;\n",
       "    }\n",
       "\n",
       "    .dataframe tbody tr th {\n",
       "        vertical-align: top;\n",
       "    }\n",
       "\n",
       "    .dataframe thead th {\n",
       "        text-align: right;\n",
       "    }\n",
       "</style>\n",
       "<table border=\"1\" class=\"dataframe\">\n",
       "  <thead>\n",
       "    <tr style=\"text-align: right;\">\n",
       "      <th></th>\n",
       "      <th>first_active_month</th>\n",
       "      <th>card_id</th>\n",
       "      <th>feature_1</th>\n",
       "      <th>feature_2</th>\n",
       "      <th>feature_3</th>\n",
       "      <th>target</th>\n",
       "      <th>ave_installments</th>\n",
       "      <th>ave_month_lag</th>\n",
       "      <th>ave_purchase_amount</th>\n",
       "      <th>total_purchase_amount</th>\n",
       "      <th>total_purchase_numbers</th>\n",
       "    </tr>\n",
       "  </thead>\n",
       "  <tbody>\n",
       "    <tr>\n",
       "      <th>0</th>\n",
       "      <td>2017-06</td>\n",
       "      <td>C_ID_92a2005557</td>\n",
       "      <td>5</td>\n",
       "      <td>2</td>\n",
       "      <td>1</td>\n",
       "      <td>-0.820283</td>\n",
       "      <td>0.015385</td>\n",
       "      <td>-3.911538</td>\n",
       "      <td>-0.638341</td>\n",
       "      <td>-165.968739</td>\n",
       "      <td>260</td>\n",
       "    </tr>\n",
       "    <tr>\n",
       "      <th>1</th>\n",
       "      <td>2017-01</td>\n",
       "      <td>C_ID_3d0044924f</td>\n",
       "      <td>4</td>\n",
       "      <td>1</td>\n",
       "      <td>0</td>\n",
       "      <td>0.392913</td>\n",
       "      <td>1.560845</td>\n",
       "      <td>-5.031429</td>\n",
       "      <td>-0.600018</td>\n",
       "      <td>-210.006336</td>\n",
       "      <td>350</td>\n",
       "    </tr>\n",
       "  </tbody>\n",
       "</table>\n",
       "</div>"
      ],
      "text/plain": [
       "  first_active_month          card_id  feature_1  feature_2  feature_3  \\\n",
       "0            2017-06  C_ID_92a2005557          5          2          1   \n",
       "1            2017-01  C_ID_3d0044924f          4          1          0   \n",
       "\n",
       "     target  ave_installments  ave_month_lag  ave_purchase_amount  \\\n",
       "0 -0.820283          0.015385      -3.911538            -0.638341   \n",
       "1  0.392913          1.560845      -5.031429            -0.600018   \n",
       "\n",
       "   total_purchase_amount  total_purchase_numbers  \n",
       "0            -165.968739                     260  \n",
       "1            -210.006336                     350  "
      ]
     },
     "execution_count": 46,
     "metadata": {},
     "output_type": "execute_result"
    }
   ],
   "source": [
    "df_train.head(2)"
   ]
  },
  {
   "cell_type": "code",
   "execution_count": 48,
   "metadata": {},
   "outputs": [
    {
     "data": {
      "text/plain": [
       "array([195, 278, 683, 309, 560,  80, 130, 454, 637, 526, 108, 884, 561,\n",
       "       478, 879, 705, 369, 367, 360,  45, 823, 792, 528, 333, 469, 842,\n",
       "       763, 813, 171, 210,  87, 307, 387, 225, 179,  33, 779, 834, 420,\n",
       "       606, 818,  68, 839, 793, 650, 178, 703, 437, 302, 651, 340, 222,\n",
       "       574, 527, 690,  90, 422, 702, 889, 511, 383, 419, 385, 771, 557,\n",
       "       206, 554, 434, 317, 273, 181, 292, 111, 386, 518, 427, 665, 506,\n",
       "       656, 480, 400, 550, 289, 172, 299, 241, 489,  19, 623,  60, 531,\n",
       "       544, 642, 607, 443,   2, 836, 840, 755, 184, 414, 248,  63, 412,\n",
       "       783, 806, 363, 416, 274, 298, 507, 734, 829, 713, 795, 891, 415,\n",
       "       398, 748, 432, 180, 217, 491, 409, 356, 529,  14, 706, 661, 126,\n",
       "       373, 411, 667, 166, 216, 509, 332, 342,  40,  69, 737, 534, 774,\n",
       "       769, 605, 685, 215,  36, 451, 357, 751, 630, 497, 348, 462, 391,\n",
       "       110,  81, 670, 614,  56, 613, 472,  34, 430, 259, 514, 580, 761,\n",
       "        -1, 154, 536, 843, 343, 115, 105, 198, 458, 645, 669, 224, 117,\n",
       "       819, 401, 796, 290, 854, 114, 276,   9, 319, 717, 631, 593, 885,\n",
       "       498, 556, 320, 438, 456, 330,  78, 246, 315,  16, 267, 695, 692,\n",
       "       265,  21, 157, 499, 504, 712, 573, 140, 482, 358, 878, 847, 260,\n",
       "       671,  53, 417,  83, 827, 873,  57, 209, 384, 546, 676, 568, 781,\n",
       "       519, 471,  38, 223, 457, 396, 474, 551, 696, 312, 881, 653, 648,\n",
       "       247, 790, 808, 245, 119, 436,  71, 686, 652, 421, 182, 351, 334,\n",
       "       374, 187, 599,  52, 448, 183, 803, 598, 190, 101, 757, 591, 164,\n",
       "       261, 109, 814,  11, 743, 162, 141, 662, 668, 664, 201, 714, 268,\n",
       "       587, 381,  59, 513, 523, 780, 628, 634, 583,  27,  49, 345,  31,\n",
       "       542, 145,  67, 530, 131, 805, 355,  18, 579, 249, 393, 192,  37,\n",
       "       718, 741, 882, 464, 311, 226, 601, 153,  86, 875, 817, 266])"
      ]
     },
     "execution_count": 48,
     "metadata": {},
     "output_type": "execute_result"
    }
   ],
   "source": [
    "df_train_merg['merchant_category_id'].unique()"
   ]
  },
  {
   "cell_type": "code",
   "execution_count": 49,
   "metadata": {},
   "outputs": [],
   "source": [
    "df_merch_cat_id = df_train_merg.groupby('card_id', sort=False)['merchant_category_id'].apply(list)"
   ]
  },
  {
   "cell_type": "code",
   "execution_count": 50,
   "metadata": {},
   "outputs": [
    {
     "data": {
      "text/plain": [
       "card_id\n",
       "C_ID_92a2005557    [195, 278, 683, 309, 278, 560, 560, 560, 80, 5...\n",
       "C_ID_3d0044924f    [68, 528, 68, 80, 278, 278, 879, 560, 307, 560...\n",
       "C_ID_d639edf6cd    [705, 705, 705, 705, 705, 705, 705, 705, 705, ...\n",
       "C_ID_186d6a6901    [195, 683, 80, 651, 454, 278, 879, 386, 278, 8...\n",
       "C_ID_cdbd2c0db2    [879, 278, 278, 656, 278, 80, 278, 705, 278, 8...\n",
       "Name: merchant_category_id, dtype: object"
      ]
     },
     "execution_count": 50,
     "metadata": {},
     "output_type": "execute_result"
    }
   ],
   "source": [
    "df_merch_cat_id.head()"
   ]
  },
  {
   "cell_type": "code",
   "execution_count": 51,
   "metadata": {},
   "outputs": [],
   "source": [
    "df_merch_cat_id = df_merch_cat_id.reset_index()"
   ]
  },
  {
   "cell_type": "code",
   "execution_count": 52,
   "metadata": {},
   "outputs": [],
   "source": [
    "df_train[\"merchant_category_id\"] = df_merch_cat_id[\"merchant_category_id\"]"
   ]
  },
  {
   "cell_type": "code",
   "execution_count": 53,
   "metadata": {},
   "outputs": [
    {
     "data": {
      "text/html": [
       "<div>\n",
       "<style scoped>\n",
       "    .dataframe tbody tr th:only-of-type {\n",
       "        vertical-align: middle;\n",
       "    }\n",
       "\n",
       "    .dataframe tbody tr th {\n",
       "        vertical-align: top;\n",
       "    }\n",
       "\n",
       "    .dataframe thead th {\n",
       "        text-align: right;\n",
       "    }\n",
       "</style>\n",
       "<table border=\"1\" class=\"dataframe\">\n",
       "  <thead>\n",
       "    <tr style=\"text-align: right;\">\n",
       "      <th></th>\n",
       "      <th>first_active_month</th>\n",
       "      <th>card_id</th>\n",
       "      <th>feature_1</th>\n",
       "      <th>feature_2</th>\n",
       "      <th>feature_3</th>\n",
       "      <th>target</th>\n",
       "      <th>ave_installments</th>\n",
       "      <th>ave_month_lag</th>\n",
       "      <th>ave_purchase_amount</th>\n",
       "      <th>total_purchase_amount</th>\n",
       "      <th>total_purchase_numbers</th>\n",
       "      <th>merchant_category_id</th>\n",
       "    </tr>\n",
       "  </thead>\n",
       "  <tbody>\n",
       "    <tr>\n",
       "      <th>0</th>\n",
       "      <td>2017-06</td>\n",
       "      <td>C_ID_92a2005557</td>\n",
       "      <td>5</td>\n",
       "      <td>2</td>\n",
       "      <td>1</td>\n",
       "      <td>-0.820283</td>\n",
       "      <td>0.015385</td>\n",
       "      <td>-3.911538</td>\n",
       "      <td>-0.638341</td>\n",
       "      <td>-165.968739</td>\n",
       "      <td>260</td>\n",
       "      <td>[195, 278, 683, 309, 278, 560, 560, 560, 80, 5...</td>\n",
       "    </tr>\n",
       "    <tr>\n",
       "      <th>1</th>\n",
       "      <td>2017-01</td>\n",
       "      <td>C_ID_3d0044924f</td>\n",
       "      <td>4</td>\n",
       "      <td>1</td>\n",
       "      <td>0</td>\n",
       "      <td>0.392913</td>\n",
       "      <td>1.560845</td>\n",
       "      <td>-5.031429</td>\n",
       "      <td>-0.600018</td>\n",
       "      <td>-210.006336</td>\n",
       "      <td>350</td>\n",
       "      <td>[68, 528, 68, 80, 278, 278, 879, 560, 307, 560...</td>\n",
       "    </tr>\n",
       "    <tr>\n",
       "      <th>2</th>\n",
       "      <td>2016-08</td>\n",
       "      <td>C_ID_d639edf6cd</td>\n",
       "      <td>2</td>\n",
       "      <td>2</td>\n",
       "      <td>0</td>\n",
       "      <td>0.688056</td>\n",
       "      <td>0.000000</td>\n",
       "      <td>-8.604651</td>\n",
       "      <td>-0.678311</td>\n",
       "      <td>-29.167391</td>\n",
       "      <td>43</td>\n",
       "      <td>[705, 705, 705, 705, 705, 705, 705, 705, 705, ...</td>\n",
       "    </tr>\n",
       "    <tr>\n",
       "      <th>3</th>\n",
       "      <td>2017-09</td>\n",
       "      <td>C_ID_186d6a6901</td>\n",
       "      <td>4</td>\n",
       "      <td>3</td>\n",
       "      <td>0</td>\n",
       "      <td>0.142495</td>\n",
       "      <td>1.133712</td>\n",
       "      <td>-2.831169</td>\n",
       "      <td>-0.642745</td>\n",
       "      <td>-49.491364</td>\n",
       "      <td>77</td>\n",
       "      <td>[195, 683, 80, 651, 454, 278, 879, 386, 278, 8...</td>\n",
       "    </tr>\n",
       "    <tr>\n",
       "      <th>4</th>\n",
       "      <td>2017-11</td>\n",
       "      <td>C_ID_cdbd2c0db2</td>\n",
       "      <td>1</td>\n",
       "      <td>3</td>\n",
       "      <td>0</td>\n",
       "      <td>-0.159749</td>\n",
       "      <td>1.368421</td>\n",
       "      <td>-1.285714</td>\n",
       "      <td>-0.366073</td>\n",
       "      <td>-48.687656</td>\n",
       "      <td>133</td>\n",
       "      <td>[879, 278, 278, 656, 278, 80, 278, 705, 278, 8...</td>\n",
       "    </tr>\n",
       "  </tbody>\n",
       "</table>\n",
       "</div>"
      ],
      "text/plain": [
       "  first_active_month          card_id  feature_1  feature_2  feature_3  \\\n",
       "0            2017-06  C_ID_92a2005557          5          2          1   \n",
       "1            2017-01  C_ID_3d0044924f          4          1          0   \n",
       "2            2016-08  C_ID_d639edf6cd          2          2          0   \n",
       "3            2017-09  C_ID_186d6a6901          4          3          0   \n",
       "4            2017-11  C_ID_cdbd2c0db2          1          3          0   \n",
       "\n",
       "     target  ave_installments  ave_month_lag  ave_purchase_amount  \\\n",
       "0 -0.820283          0.015385      -3.911538            -0.638341   \n",
       "1  0.392913          1.560845      -5.031429            -0.600018   \n",
       "2  0.688056          0.000000      -8.604651            -0.678311   \n",
       "3  0.142495          1.133712      -2.831169            -0.642745   \n",
       "4 -0.159749          1.368421      -1.285714            -0.366073   \n",
       "\n",
       "   total_purchase_amount  total_purchase_numbers  \\\n",
       "0            -165.968739                     260   \n",
       "1            -210.006336                     350   \n",
       "2             -29.167391                      43   \n",
       "3             -49.491364                      77   \n",
       "4             -48.687656                     133   \n",
       "\n",
       "                                merchant_category_id  \n",
       "0  [195, 278, 683, 309, 278, 560, 560, 560, 80, 5...  \n",
       "1  [68, 528, 68, 80, 278, 278, 879, 560, 307, 560...  \n",
       "2  [705, 705, 705, 705, 705, 705, 705, 705, 705, ...  \n",
       "3  [195, 683, 80, 651, 454, 278, 879, 386, 278, 8...  \n",
       "4  [879, 278, 278, 656, 278, 80, 278, 705, 278, 8...  "
      ]
     },
     "execution_count": 53,
     "metadata": {},
     "output_type": "execute_result"
    }
   ],
   "source": [
    "df_train.head()"
   ]
  },
  {
   "cell_type": "code",
   "execution_count": 54,
   "metadata": {},
   "outputs": [
    {
     "data": {
      "text/plain": [
       "array(['N', 'Y'], dtype=object)"
      ]
     },
     "execution_count": 54,
     "metadata": {},
     "output_type": "execute_result"
    }
   ],
   "source": [
    "df_train_merg['category_1'].unique()"
   ]
  },
  {
   "cell_type": "code",
   "execution_count": 58,
   "metadata": {},
   "outputs": [
    {
     "data": {
      "text/plain": [
       "nan"
      ]
     },
     "execution_count": 58,
     "metadata": {},
     "output_type": "execute_result"
    }
   ],
   "source": [
    "df_train_merg['category_2'].unique()"
   ]
  },
  {
   "cell_type": "code",
   "execution_count": 69,
   "metadata": {},
   "outputs": [],
   "source": [
    "### category_3 : 145197 missing value\n",
    "### merchant_id : 102297 missing value\n",
    "### category_2 : 706443 missing value"
   ]
  },
  {
   "cell_type": "code",
   "execution_count": 63,
   "metadata": {},
   "outputs": [],
   "source": [
    "repl = {np.nan: 0}"
   ]
  },
  {
   "cell_type": "code",
   "execution_count": 64,
   "metadata": {},
   "outputs": [],
   "source": [
    "df_train_merg.replace(to_replace=repl, value=None, inplace=True, limit=None, regex=False, method='pad')\n",
    "# replace nan to 0"
   ]
  },
  {
   "cell_type": "code",
   "execution_count": 65,
   "metadata": {},
   "outputs": [
    {
     "data": {
      "text/plain": [
       "array([1., 5., 0., 4., 3., 2.])"
      ]
     },
     "execution_count": 65,
     "metadata": {},
     "output_type": "execute_result"
    }
   ],
   "source": [
    "df_train_merg['category_2'].unique()"
   ]
  },
  {
   "cell_type": "code",
   "execution_count": 67,
   "metadata": {},
   "outputs": [],
   "source": [
    "repl2 = {0:\"D\"}\n",
    "# the approach doesn't work for 'category_3'.  Convert 0 to D.  A, B, C, D are the same data type.  "
   ]
  },
  {
   "cell_type": "code",
   "execution_count": 68,
   "metadata": {},
   "outputs": [],
   "source": [
    "df_train_merg['category_3'].replace(to_replace=repl2, value=None, inplace=True, limit=None, regex=False, method='pad')"
   ]
  },
  {
   "cell_type": "code",
   "execution_count": 69,
   "metadata": {},
   "outputs": [
    {
     "data": {
      "text/plain": [
       "array(['A', 'B', 'C', 'D'], dtype=object)"
      ]
     },
     "execution_count": 69,
     "metadata": {},
     "output_type": "execute_result"
    }
   ],
   "source": [
    "df_train_merg['category_3'].unique()"
   ]
  },
  {
   "cell_type": "code",
   "execution_count": 70,
   "metadata": {},
   "outputs": [
    {
     "data": {
      "text/plain": [
       "303898"
      ]
     },
     "execution_count": 70,
     "metadata": {},
     "output_type": "execute_result"
    }
   ],
   "source": [
    "len(df_train_merg['merchant_id'].unique())"
   ]
  },
  {
   "cell_type": "code",
   "execution_count": 71,
   "metadata": {},
   "outputs": [
    {
     "data": {
      "text/plain": [
       "308"
      ]
     },
     "execution_count": 71,
     "metadata": {},
     "output_type": "execute_result"
    }
   ],
   "source": [
    "len(df_train_merg['city_id'].unique())"
   ]
  },
  {
   "cell_type": "code",
   "execution_count": 72,
   "metadata": {},
   "outputs": [
    {
     "data": {
      "text/plain": [
       "array([ 9,  5, 20, 15, -1, 22, 16,  4, 21, 13, 19,  7,  3, 11, 12,  2, 14,\n",
       "        1, 23, 18,  8, 17, 24, 10,  6])"
      ]
     },
     "execution_count": 72,
     "metadata": {},
     "output_type": "execute_result"
    }
   ],
   "source": [
    "df_train_merg['state_id'].unique()"
   ]
  },
  {
   "cell_type": "code",
   "execution_count": 73,
   "metadata": {},
   "outputs": [
    {
     "data": {
      "text/plain": [
       "25"
      ]
     },
     "execution_count": 73,
     "metadata": {},
     "output_type": "execute_result"
    }
   ],
   "source": [
    "len(df_train_merg['state_id'].unique())"
   ]
  },
  {
   "cell_type": "code",
   "execution_count": 74,
   "metadata": {},
   "outputs": [
    {
     "data": {
      "text/plain": [
       "41"
      ]
     },
     "execution_count": 74,
     "metadata": {},
     "output_type": "execute_result"
    }
   ],
   "source": [
    "len(df_train_merg['subsector_id'].unique())"
   ]
  },
  {
   "cell_type": "code",
   "execution_count": 75,
   "metadata": {},
   "outputs": [
    {
     "data": {
      "text/plain": [
       "array([34, 37, 21, 41, 39, 25, 27,  7, 29, 33, 16, 18,  9, 10, 36, 35, 19,\n",
       "        8, 31, 17, 12, 38, 15, 22,  2,  1, 20, 32,  3, 30, 24,  4, 13,  5,\n",
       "       40, 14, 26, -1, 11, 23, 28])"
      ]
     },
     "execution_count": 75,
     "metadata": {},
     "output_type": "execute_result"
    }
   ],
   "source": [
    "df_train_merg['subsector_id'].unique()"
   ]
  },
  {
   "cell_type": "code",
   "execution_count": 76,
   "metadata": {},
   "outputs": [
    {
     "data": {
      "text/plain": [
       "324"
      ]
     },
     "execution_count": 76,
     "metadata": {},
     "output_type": "execute_result"
    }
   ],
   "source": [
    "len(df_train_merg['merchant_category_id'].unique())"
   ]
  },
  {
   "cell_type": "code",
   "execution_count": 77,
   "metadata": {},
   "outputs": [],
   "source": [
    "df_cat1_lst = df_train_merg.groupby('card_id', sort=False)['category_1'].apply(list)"
   ]
  },
  {
   "cell_type": "code",
   "execution_count": 78,
   "metadata": {},
   "outputs": [],
   "source": [
    "df_cat1_lst = df_cat1_lst.reset_index()"
   ]
  },
  {
   "cell_type": "code",
   "execution_count": 79,
   "metadata": {},
   "outputs": [
    {
     "data": {
      "text/html": [
       "<div>\n",
       "<style scoped>\n",
       "    .dataframe tbody tr th:only-of-type {\n",
       "        vertical-align: middle;\n",
       "    }\n",
       "\n",
       "    .dataframe tbody tr th {\n",
       "        vertical-align: top;\n",
       "    }\n",
       "\n",
       "    .dataframe thead th {\n",
       "        text-align: right;\n",
       "    }\n",
       "</style>\n",
       "<table border=\"1\" class=\"dataframe\">\n",
       "  <thead>\n",
       "    <tr style=\"text-align: right;\">\n",
       "      <th></th>\n",
       "      <th>card_id</th>\n",
       "      <th>category_1</th>\n",
       "    </tr>\n",
       "  </thead>\n",
       "  <tbody>\n",
       "    <tr>\n",
       "      <th>0</th>\n",
       "      <td>C_ID_92a2005557</td>\n",
       "      <td>[N, N, N, N, N, N, N, N, N, N, N, N, N, N, N, ...</td>\n",
       "    </tr>\n",
       "    <tr>\n",
       "      <th>1</th>\n",
       "      <td>C_ID_3d0044924f</td>\n",
       "      <td>[N, N, N, N, N, N, N, N, N, N, N, N, N, N, N, ...</td>\n",
       "    </tr>\n",
       "    <tr>\n",
       "      <th>2</th>\n",
       "      <td>C_ID_d639edf6cd</td>\n",
       "      <td>[N, N, N, N, N, N, N, N, N, N, N, N, N, N, N, ...</td>\n",
       "    </tr>\n",
       "    <tr>\n",
       "      <th>3</th>\n",
       "      <td>C_ID_186d6a6901</td>\n",
       "      <td>[N, N, N, N, N, N, Y, N, N, N, N, N, N, N, N, ...</td>\n",
       "    </tr>\n",
       "    <tr>\n",
       "      <th>4</th>\n",
       "      <td>C_ID_cdbd2c0db2</td>\n",
       "      <td>[Y, N, N, Y, N, N, N, N, N, N, N, N, N, N, N, ...</td>\n",
       "    </tr>\n",
       "  </tbody>\n",
       "</table>\n",
       "</div>"
      ],
      "text/plain": [
       "           card_id                                         category_1\n",
       "0  C_ID_92a2005557  [N, N, N, N, N, N, N, N, N, N, N, N, N, N, N, ...\n",
       "1  C_ID_3d0044924f  [N, N, N, N, N, N, N, N, N, N, N, N, N, N, N, ...\n",
       "2  C_ID_d639edf6cd  [N, N, N, N, N, N, N, N, N, N, N, N, N, N, N, ...\n",
       "3  C_ID_186d6a6901  [N, N, N, N, N, N, Y, N, N, N, N, N, N, N, N, ...\n",
       "4  C_ID_cdbd2c0db2  [Y, N, N, Y, N, N, N, N, N, N, N, N, N, N, N, ..."
      ]
     },
     "execution_count": 79,
     "metadata": {},
     "output_type": "execute_result"
    }
   ],
   "source": [
    "df_cat1_lst.head()"
   ]
  },
  {
   "cell_type": "code",
   "execution_count": 80,
   "metadata": {},
   "outputs": [],
   "source": [
    "df_train[\"category_1\"] = df_cat1_lst['category_1']"
   ]
  },
  {
   "cell_type": "code",
   "execution_count": 81,
   "metadata": {},
   "outputs": [],
   "source": [
    "df_cat2_lst = df_train_merg.groupby('card_id', sort=False)['category_2'].apply(list)"
   ]
  },
  {
   "cell_type": "code",
   "execution_count": 82,
   "metadata": {},
   "outputs": [],
   "source": [
    "df_cat2_lst = df_cat2_lst.reset_index()"
   ]
  },
  {
   "cell_type": "code",
   "execution_count": 83,
   "metadata": {},
   "outputs": [
    {
     "data": {
      "text/html": [
       "<div>\n",
       "<style scoped>\n",
       "    .dataframe tbody tr th:only-of-type {\n",
       "        vertical-align: middle;\n",
       "    }\n",
       "\n",
       "    .dataframe tbody tr th {\n",
       "        vertical-align: top;\n",
       "    }\n",
       "\n",
       "    .dataframe thead th {\n",
       "        text-align: right;\n",
       "    }\n",
       "</style>\n",
       "<table border=\"1\" class=\"dataframe\">\n",
       "  <thead>\n",
       "    <tr style=\"text-align: right;\">\n",
       "      <th></th>\n",
       "      <th>card_id</th>\n",
       "      <th>category_2</th>\n",
       "    </tr>\n",
       "  </thead>\n",
       "  <tbody>\n",
       "    <tr>\n",
       "      <th>0</th>\n",
       "      <td>C_ID_92a2005557</td>\n",
       "      <td>[1.0, 1.0, 1.0, 1.0, 1.0, 1.0, 1.0, 1.0, 1.0, ...</td>\n",
       "    </tr>\n",
       "    <tr>\n",
       "      <th>1</th>\n",
       "      <td>C_ID_3d0044924f</td>\n",
       "      <td>[1.0, 1.0, 1.0, 1.0, 1.0, 1.0, 1.0, 1.0, 1.0, ...</td>\n",
       "    </tr>\n",
       "    <tr>\n",
       "      <th>2</th>\n",
       "      <td>C_ID_d639edf6cd</td>\n",
       "      <td>[5.0, 5.0, 5.0, 5.0, 5.0, 5.0, 5.0, 1.0, 5.0, ...</td>\n",
       "    </tr>\n",
       "    <tr>\n",
       "      <th>3</th>\n",
       "      <td>C_ID_186d6a6901</td>\n",
       "      <td>[4.0, 4.0, 4.0, 1.0, 4.0, 4.0, 0.0, 4.0, 4.0, ...</td>\n",
       "    </tr>\n",
       "    <tr>\n",
       "      <th>4</th>\n",
       "      <td>C_ID_cdbd2c0db2</td>\n",
       "      <td>[0.0, 4.0, 4.0, 0.0, 4.0, 4.0, 4.0, 4.0, 4.0, ...</td>\n",
       "    </tr>\n",
       "  </tbody>\n",
       "</table>\n",
       "</div>"
      ],
      "text/plain": [
       "           card_id                                         category_2\n",
       "0  C_ID_92a2005557  [1.0, 1.0, 1.0, 1.0, 1.0, 1.0, 1.0, 1.0, 1.0, ...\n",
       "1  C_ID_3d0044924f  [1.0, 1.0, 1.0, 1.0, 1.0, 1.0, 1.0, 1.0, 1.0, ...\n",
       "2  C_ID_d639edf6cd  [5.0, 5.0, 5.0, 5.0, 5.0, 5.0, 5.0, 1.0, 5.0, ...\n",
       "3  C_ID_186d6a6901  [4.0, 4.0, 4.0, 1.0, 4.0, 4.0, 0.0, 4.0, 4.0, ...\n",
       "4  C_ID_cdbd2c0db2  [0.0, 4.0, 4.0, 0.0, 4.0, 4.0, 4.0, 4.0, 4.0, ..."
      ]
     },
     "execution_count": 83,
     "metadata": {},
     "output_type": "execute_result"
    }
   ],
   "source": [
    "df_cat2_lst.head()"
   ]
  },
  {
   "cell_type": "code",
   "execution_count": 84,
   "metadata": {},
   "outputs": [],
   "source": [
    "df_train[\"category_2\"] = df_cat2_lst['category_2']"
   ]
  },
  {
   "cell_type": "code",
   "execution_count": 85,
   "metadata": {},
   "outputs": [],
   "source": [
    "df_cat3_lst = df_train_merg.groupby('card_id', sort=False)['category_3'].apply(list)"
   ]
  },
  {
   "cell_type": "code",
   "execution_count": 86,
   "metadata": {},
   "outputs": [],
   "source": [
    "df_cat3_lst = df_cat3_lst.reset_index()"
   ]
  },
  {
   "cell_type": "code",
   "execution_count": 87,
   "metadata": {},
   "outputs": [
    {
     "data": {
      "text/html": [
       "<div>\n",
       "<style scoped>\n",
       "    .dataframe tbody tr th:only-of-type {\n",
       "        vertical-align: middle;\n",
       "    }\n",
       "\n",
       "    .dataframe tbody tr th {\n",
       "        vertical-align: top;\n",
       "    }\n",
       "\n",
       "    .dataframe thead th {\n",
       "        text-align: right;\n",
       "    }\n",
       "</style>\n",
       "<table border=\"1\" class=\"dataframe\">\n",
       "  <thead>\n",
       "    <tr style=\"text-align: right;\">\n",
       "      <th></th>\n",
       "      <th>card_id</th>\n",
       "      <th>category_3</th>\n",
       "    </tr>\n",
       "  </thead>\n",
       "  <tbody>\n",
       "    <tr>\n",
       "      <th>201912</th>\n",
       "      <td>C_ID_963962de2c</td>\n",
       "      <td>[A, A, A, A, A, A, A, A, A, A, A, A, A, A, A, ...</td>\n",
       "    </tr>\n",
       "    <tr>\n",
       "      <th>201913</th>\n",
       "      <td>C_ID_1314773c0b</td>\n",
       "      <td>[A, A, A, A, A, A, A, A, A, A, A, A, A, A, A, ...</td>\n",
       "    </tr>\n",
       "    <tr>\n",
       "      <th>201914</th>\n",
       "      <td>C_ID_7666735b3d</td>\n",
       "      <td>[B, B, B, B, B, B, B, C, B, B, B, B, B, B, B, ...</td>\n",
       "    </tr>\n",
       "    <tr>\n",
       "      <th>201915</th>\n",
       "      <td>C_ID_73f5a0efd0</td>\n",
       "      <td>[A, A, A, A, A, A, A, A, A, A, A, A, A, A, A, ...</td>\n",
       "    </tr>\n",
       "    <tr>\n",
       "      <th>201916</th>\n",
       "      <td>C_ID_92c9984c58</td>\n",
       "      <td>[B, B, B, B, C, C, B, B, B, B, B, B, B, B, B, ...</td>\n",
       "    </tr>\n",
       "  </tbody>\n",
       "</table>\n",
       "</div>"
      ],
      "text/plain": [
       "                card_id                                         category_3\n",
       "201912  C_ID_963962de2c  [A, A, A, A, A, A, A, A, A, A, A, A, A, A, A, ...\n",
       "201913  C_ID_1314773c0b  [A, A, A, A, A, A, A, A, A, A, A, A, A, A, A, ...\n",
       "201914  C_ID_7666735b3d  [B, B, B, B, B, B, B, C, B, B, B, B, B, B, B, ...\n",
       "201915  C_ID_73f5a0efd0  [A, A, A, A, A, A, A, A, A, A, A, A, A, A, A, ...\n",
       "201916  C_ID_92c9984c58  [B, B, B, B, C, C, B, B, B, B, B, B, B, B, B, ..."
      ]
     },
     "execution_count": 87,
     "metadata": {},
     "output_type": "execute_result"
    }
   ],
   "source": [
    "df_cat3_lst.tail()"
   ]
  },
  {
   "cell_type": "code",
   "execution_count": 88,
   "metadata": {},
   "outputs": [],
   "source": [
    "df_train[\"category_3\"] = df_cat3_lst['category_3']"
   ]
  },
  {
   "cell_type": "code",
   "execution_count": 89,
   "metadata": {},
   "outputs": [],
   "source": [
    "df_cityID_lst = df_train_merg.groupby('card_id', sort=False)['city_id'].apply(list)"
   ]
  },
  {
   "cell_type": "code",
   "execution_count": 90,
   "metadata": {},
   "outputs": [],
   "source": [
    "df_cityID_lst = df_cityID_lst.reset_index()"
   ]
  },
  {
   "cell_type": "code",
   "execution_count": 91,
   "metadata": {},
   "outputs": [
    {
     "data": {
      "text/html": [
       "<div>\n",
       "<style scoped>\n",
       "    .dataframe tbody tr th:only-of-type {\n",
       "        vertical-align: middle;\n",
       "    }\n",
       "\n",
       "    .dataframe tbody tr th {\n",
       "        vertical-align: top;\n",
       "    }\n",
       "\n",
       "    .dataframe thead th {\n",
       "        text-align: right;\n",
       "    }\n",
       "</style>\n",
       "<table border=\"1\" class=\"dataframe\">\n",
       "  <thead>\n",
       "    <tr style=\"text-align: right;\">\n",
       "      <th></th>\n",
       "      <th>card_id</th>\n",
       "      <th>city_id</th>\n",
       "    </tr>\n",
       "  </thead>\n",
       "  <tbody>\n",
       "    <tr>\n",
       "      <th>0</th>\n",
       "      <td>C_ID_92a2005557</td>\n",
       "      <td>[69, 69, 69, 69, 69, 69, 69, 69, 69, 69, 69, 6...</td>\n",
       "    </tr>\n",
       "    <tr>\n",
       "      <th>1</th>\n",
       "      <td>C_ID_3d0044924f</td>\n",
       "      <td>[69, 69, 69, 69, 138, 69, 69, 69, 69, 69, 69, ...</td>\n",
       "    </tr>\n",
       "    <tr>\n",
       "      <th>2</th>\n",
       "      <td>C_ID_d639edf6cd</td>\n",
       "      <td>[143, 143, 143, 143, 143, 143, 143, 233, 143, ...</td>\n",
       "    </tr>\n",
       "    <tr>\n",
       "      <th>3</th>\n",
       "      <td>C_ID_186d6a6901</td>\n",
       "      <td>[17, 17, 17, 88, 17, 17, -1, 17, 17, 17, 69, 6...</td>\n",
       "    </tr>\n",
       "    <tr>\n",
       "      <th>4</th>\n",
       "      <td>C_ID_cdbd2c0db2</td>\n",
       "      <td>[-1, 17, 17, -1, 17, 17, 17, 17, 17, 107, 17, ...</td>\n",
       "    </tr>\n",
       "  </tbody>\n",
       "</table>\n",
       "</div>"
      ],
      "text/plain": [
       "           card_id                                            city_id\n",
       "0  C_ID_92a2005557  [69, 69, 69, 69, 69, 69, 69, 69, 69, 69, 69, 6...\n",
       "1  C_ID_3d0044924f  [69, 69, 69, 69, 138, 69, 69, 69, 69, 69, 69, ...\n",
       "2  C_ID_d639edf6cd  [143, 143, 143, 143, 143, 143, 143, 233, 143, ...\n",
       "3  C_ID_186d6a6901  [17, 17, 17, 88, 17, 17, -1, 17, 17, 17, 69, 6...\n",
       "4  C_ID_cdbd2c0db2  [-1, 17, 17, -1, 17, 17, 17, 17, 17, 107, 17, ..."
      ]
     },
     "execution_count": 91,
     "metadata": {},
     "output_type": "execute_result"
    }
   ],
   "source": [
    "df_cityID_lst.head()\n",
    "# Some cards were used at different cities"
   ]
  },
  {
   "cell_type": "code",
   "execution_count": 92,
   "metadata": {},
   "outputs": [],
   "source": [
    "df_train[\"city_id\"] = df_cityID_lst['city_id']"
   ]
  },
  {
   "cell_type": "code",
   "execution_count": 93,
   "metadata": {},
   "outputs": [],
   "source": [
    "df_stateID_lst = df_train_merg.groupby('card_id', sort=False)['state_id'].apply(list)"
   ]
  },
  {
   "cell_type": "code",
   "execution_count": 94,
   "metadata": {},
   "outputs": [],
   "source": [
    "df_stateID_lst = df_stateID_lst.reset_index()"
   ]
  },
  {
   "cell_type": "code",
   "execution_count": 95,
   "metadata": {},
   "outputs": [
    {
     "data": {
      "text/html": [
       "<div>\n",
       "<style scoped>\n",
       "    .dataframe tbody tr th:only-of-type {\n",
       "        vertical-align: middle;\n",
       "    }\n",
       "\n",
       "    .dataframe tbody tr th {\n",
       "        vertical-align: top;\n",
       "    }\n",
       "\n",
       "    .dataframe thead th {\n",
       "        text-align: right;\n",
       "    }\n",
       "</style>\n",
       "<table border=\"1\" class=\"dataframe\">\n",
       "  <thead>\n",
       "    <tr style=\"text-align: right;\">\n",
       "      <th></th>\n",
       "      <th>card_id</th>\n",
       "      <th>state_id</th>\n",
       "    </tr>\n",
       "  </thead>\n",
       "  <tbody>\n",
       "    <tr>\n",
       "      <th>0</th>\n",
       "      <td>C_ID_92a2005557</td>\n",
       "      <td>[9, 9, 9, 9, 9, 9, 9, 9, 9, 9, 9, 9, 9, 9, 9, ...</td>\n",
       "    </tr>\n",
       "    <tr>\n",
       "      <th>1</th>\n",
       "      <td>C_ID_3d0044924f</td>\n",
       "      <td>[9, 9, 9, 9, 15, 9, 9, 9, 9, 9, 9, 9, 9, 9, 9,...</td>\n",
       "    </tr>\n",
       "    <tr>\n",
       "      <th>2</th>\n",
       "      <td>C_ID_d639edf6cd</td>\n",
       "      <td>[5, 5, 5, 5, 5, 5, 5, 9, 5, 5, 5, 5, 5, 5, 9, ...</td>\n",
       "    </tr>\n",
       "    <tr>\n",
       "      <th>3</th>\n",
       "      <td>C_ID_186d6a6901</td>\n",
       "      <td>[22, 22, 22, 16, 22, 22, -1, 22, 22, 22, 9, 9,...</td>\n",
       "    </tr>\n",
       "    <tr>\n",
       "      <th>4</th>\n",
       "      <td>C_ID_cdbd2c0db2</td>\n",
       "      <td>[-1, 22, 22, -1, 22, 22, 22, 22, 22, 4, 22, 22...</td>\n",
       "    </tr>\n",
       "  </tbody>\n",
       "</table>\n",
       "</div>"
      ],
      "text/plain": [
       "           card_id                                           state_id\n",
       "0  C_ID_92a2005557  [9, 9, 9, 9, 9, 9, 9, 9, 9, 9, 9, 9, 9, 9, 9, ...\n",
       "1  C_ID_3d0044924f  [9, 9, 9, 9, 15, 9, 9, 9, 9, 9, 9, 9, 9, 9, 9,...\n",
       "2  C_ID_d639edf6cd  [5, 5, 5, 5, 5, 5, 5, 9, 5, 5, 5, 5, 5, 5, 9, ...\n",
       "3  C_ID_186d6a6901  [22, 22, 22, 16, 22, 22, -1, 22, 22, 22, 9, 9,...\n",
       "4  C_ID_cdbd2c0db2  [-1, 22, 22, -1, 22, 22, 22, 22, 22, 4, 22, 22..."
      ]
     },
     "execution_count": 95,
     "metadata": {},
     "output_type": "execute_result"
    }
   ],
   "source": [
    "df_stateID_lst.head()\n",
    "# Some cards were used at different ststes"
   ]
  },
  {
   "cell_type": "code",
   "execution_count": 96,
   "metadata": {},
   "outputs": [],
   "source": [
    "df_train['state_id'] = df_stateID_lst['state_id']"
   ]
  },
  {
   "cell_type": "code",
   "execution_count": 97,
   "metadata": {},
   "outputs": [
    {
     "data": {
      "text/html": [
       "<div>\n",
       "<style scoped>\n",
       "    .dataframe tbody tr th:only-of-type {\n",
       "        vertical-align: middle;\n",
       "    }\n",
       "\n",
       "    .dataframe tbody tr th {\n",
       "        vertical-align: top;\n",
       "    }\n",
       "\n",
       "    .dataframe thead th {\n",
       "        text-align: right;\n",
       "    }\n",
       "</style>\n",
       "<table border=\"1\" class=\"dataframe\">\n",
       "  <thead>\n",
       "    <tr style=\"text-align: right;\">\n",
       "      <th></th>\n",
       "      <th>first_active_month</th>\n",
       "      <th>card_id</th>\n",
       "      <th>feature_1</th>\n",
       "      <th>feature_2</th>\n",
       "      <th>feature_3</th>\n",
       "      <th>target</th>\n",
       "      <th>ave_installments</th>\n",
       "      <th>ave_month_lag</th>\n",
       "      <th>ave_purchase_amount</th>\n",
       "      <th>total_purchase_amount</th>\n",
       "      <th>total_purchase_numbers</th>\n",
       "      <th>merchant_category_id</th>\n",
       "      <th>category_1</th>\n",
       "      <th>category_2</th>\n",
       "      <th>category_3</th>\n",
       "      <th>city_id</th>\n",
       "      <th>state_id</th>\n",
       "    </tr>\n",
       "  </thead>\n",
       "  <tbody>\n",
       "    <tr>\n",
       "      <th>2</th>\n",
       "      <td>2016-08</td>\n",
       "      <td>C_ID_d639edf6cd</td>\n",
       "      <td>2</td>\n",
       "      <td>2</td>\n",
       "      <td>0</td>\n",
       "      <td>0.688056</td>\n",
       "      <td>0.000000</td>\n",
       "      <td>-8.604651</td>\n",
       "      <td>-0.678311</td>\n",
       "      <td>-29.167391</td>\n",
       "      <td>43</td>\n",
       "      <td>[705, 705, 705, 705, 705, 705, 705, 705, 705, ...</td>\n",
       "      <td>[N, N, N, N, N, N, N, N, N, N, N, N, N, N, N, ...</td>\n",
       "      <td>[5.0, 5.0, 5.0, 5.0, 5.0, 5.0, 5.0, 1.0, 5.0, ...</td>\n",
       "      <td>[A, A, A, A, A, A, A, A, A, A, A, A, A, A, A, ...</td>\n",
       "      <td>[143, 143, 143, 143, 143, 143, 143, 233, 143, ...</td>\n",
       "      <td>[5, 5, 5, 5, 5, 5, 5, 9, 5, 5, 5, 5, 5, 5, 9, ...</td>\n",
       "    </tr>\n",
       "    <tr>\n",
       "      <th>3</th>\n",
       "      <td>2017-09</td>\n",
       "      <td>C_ID_186d6a6901</td>\n",
       "      <td>4</td>\n",
       "      <td>3</td>\n",
       "      <td>0</td>\n",
       "      <td>0.142495</td>\n",
       "      <td>1.133712</td>\n",
       "      <td>-2.831169</td>\n",
       "      <td>-0.642745</td>\n",
       "      <td>-49.491364</td>\n",
       "      <td>77</td>\n",
       "      <td>[195, 683, 80, 651, 454, 278, 879, 386, 278, 8...</td>\n",
       "      <td>[N, N, N, N, N, N, Y, N, N, N, N, N, N, N, N, ...</td>\n",
       "      <td>[4.0, 4.0, 4.0, 1.0, 4.0, 4.0, 0.0, 4.0, 4.0, ...</td>\n",
       "      <td>[B, B, B, B, B, B, B, B, B, B, B, B, B, B, B, ...</td>\n",
       "      <td>[17, 17, 17, 88, 17, 17, -1, 17, 17, 17, 69, 6...</td>\n",
       "      <td>[22, 22, 22, 16, 22, 22, -1, 22, 22, 22, 9, 9,...</td>\n",
       "    </tr>\n",
       "    <tr>\n",
       "      <th>4</th>\n",
       "      <td>2017-11</td>\n",
       "      <td>C_ID_cdbd2c0db2</td>\n",
       "      <td>1</td>\n",
       "      <td>3</td>\n",
       "      <td>0</td>\n",
       "      <td>-0.159749</td>\n",
       "      <td>1.368421</td>\n",
       "      <td>-1.285714</td>\n",
       "      <td>-0.366073</td>\n",
       "      <td>-48.687656</td>\n",
       "      <td>133</td>\n",
       "      <td>[879, 278, 278, 656, 278, 80, 278, 705, 278, 8...</td>\n",
       "      <td>[Y, N, N, Y, N, N, N, N, N, N, N, N, N, N, N, ...</td>\n",
       "      <td>[0.0, 4.0, 4.0, 0.0, 4.0, 4.0, 4.0, 4.0, 4.0, ...</td>\n",
       "      <td>[B, B, B, C, B, B, B, B, B, B, B, B, B, B, B, ...</td>\n",
       "      <td>[-1, 17, 17, -1, 17, 17, 17, 17, 17, 107, 17, ...</td>\n",
       "      <td>[-1, 22, 22, -1, 22, 22, 22, 22, 22, 4, 22, 22...</td>\n",
       "    </tr>\n",
       "  </tbody>\n",
       "</table>\n",
       "</div>"
      ],
      "text/plain": [
       "  first_active_month          card_id  feature_1  feature_2  feature_3  \\\n",
       "2            2016-08  C_ID_d639edf6cd          2          2          0   \n",
       "3            2017-09  C_ID_186d6a6901          4          3          0   \n",
       "4            2017-11  C_ID_cdbd2c0db2          1          3          0   \n",
       "\n",
       "     target  ave_installments  ave_month_lag  ave_purchase_amount  \\\n",
       "2  0.688056          0.000000      -8.604651            -0.678311   \n",
       "3  0.142495          1.133712      -2.831169            -0.642745   \n",
       "4 -0.159749          1.368421      -1.285714            -0.366073   \n",
       "\n",
       "   total_purchase_amount  total_purchase_numbers  \\\n",
       "2             -29.167391                      43   \n",
       "3             -49.491364                      77   \n",
       "4             -48.687656                     133   \n",
       "\n",
       "                                merchant_category_id  \\\n",
       "2  [705, 705, 705, 705, 705, 705, 705, 705, 705, ...   \n",
       "3  [195, 683, 80, 651, 454, 278, 879, 386, 278, 8...   \n",
       "4  [879, 278, 278, 656, 278, 80, 278, 705, 278, 8...   \n",
       "\n",
       "                                          category_1  \\\n",
       "2  [N, N, N, N, N, N, N, N, N, N, N, N, N, N, N, ...   \n",
       "3  [N, N, N, N, N, N, Y, N, N, N, N, N, N, N, N, ...   \n",
       "4  [Y, N, N, Y, N, N, N, N, N, N, N, N, N, N, N, ...   \n",
       "\n",
       "                                          category_2  \\\n",
       "2  [5.0, 5.0, 5.0, 5.0, 5.0, 5.0, 5.0, 1.0, 5.0, ...   \n",
       "3  [4.0, 4.0, 4.0, 1.0, 4.0, 4.0, 0.0, 4.0, 4.0, ...   \n",
       "4  [0.0, 4.0, 4.0, 0.0, 4.0, 4.0, 4.0, 4.0, 4.0, ...   \n",
       "\n",
       "                                          category_3  \\\n",
       "2  [A, A, A, A, A, A, A, A, A, A, A, A, A, A, A, ...   \n",
       "3  [B, B, B, B, B, B, B, B, B, B, B, B, B, B, B, ...   \n",
       "4  [B, B, B, C, B, B, B, B, B, B, B, B, B, B, B, ...   \n",
       "\n",
       "                                             city_id  \\\n",
       "2  [143, 143, 143, 143, 143, 143, 143, 233, 143, ...   \n",
       "3  [17, 17, 17, 88, 17, 17, -1, 17, 17, 17, 69, 6...   \n",
       "4  [-1, 17, 17, -1, 17, 17, 17, 17, 17, 107, 17, ...   \n",
       "\n",
       "                                            state_id  \n",
       "2  [5, 5, 5, 5, 5, 5, 5, 9, 5, 5, 5, 5, 5, 5, 9, ...  \n",
       "3  [22, 22, 22, 16, 22, 22, -1, 22, 22, 22, 9, 9,...  \n",
       "4  [-1, 22, 22, -1, 22, 22, 22, 22, 22, 4, 22, 22...  "
      ]
     },
     "execution_count": 97,
     "metadata": {},
     "output_type": "execute_result"
    }
   ],
   "source": [
    "df_train[2:5]"
   ]
  },
  {
   "cell_type": "code",
   "execution_count": 98,
   "metadata": {},
   "outputs": [],
   "source": [
    "df_subsectorID_lst = df_train_merg.groupby('card_id', sort=False)['subsector_id'].apply(list)"
   ]
  },
  {
   "cell_type": "code",
   "execution_count": 99,
   "metadata": {},
   "outputs": [],
   "source": [
    "df_subsectorID_lst = df_subsectorID_lst.reset_index()"
   ]
  },
  {
   "cell_type": "code",
   "execution_count": 100,
   "metadata": {},
   "outputs": [
    {
     "data": {
      "text/html": [
       "<div>\n",
       "<style scoped>\n",
       "    .dataframe tbody tr th:only-of-type {\n",
       "        vertical-align: middle;\n",
       "    }\n",
       "\n",
       "    .dataframe tbody tr th {\n",
       "        vertical-align: top;\n",
       "    }\n",
       "\n",
       "    .dataframe thead th {\n",
       "        text-align: right;\n",
       "    }\n",
       "</style>\n",
       "<table border=\"1\" class=\"dataframe\">\n",
       "  <thead>\n",
       "    <tr style=\"text-align: right;\">\n",
       "      <th></th>\n",
       "      <th>card_id</th>\n",
       "      <th>subsector_id</th>\n",
       "    </tr>\n",
       "  </thead>\n",
       "  <tbody>\n",
       "    <tr>\n",
       "      <th>0</th>\n",
       "      <td>C_ID_92a2005557</td>\n",
       "      <td>[34, 37, 34, 21, 37, 34, 34, 34, 37, 34, 34, 4...</td>\n",
       "    </tr>\n",
       "    <tr>\n",
       "      <th>1</th>\n",
       "      <td>C_ID_3d0044924f</td>\n",
       "      <td>[27, 25, 27, 37, 37, 37, 29, 34, 19, 34, 37, 3...</td>\n",
       "    </tr>\n",
       "    <tr>\n",
       "      <th>2</th>\n",
       "      <td>C_ID_d639edf6cd</td>\n",
       "      <td>[33, 33, 33, 33, 33, 33, 33, 33, 33, 33, 33, 3...</td>\n",
       "    </tr>\n",
       "  </tbody>\n",
       "</table>\n",
       "</div>"
      ],
      "text/plain": [
       "           card_id                                       subsector_id\n",
       "0  C_ID_92a2005557  [34, 37, 34, 21, 37, 34, 34, 34, 37, 34, 34, 4...\n",
       "1  C_ID_3d0044924f  [27, 25, 27, 37, 37, 37, 29, 34, 19, 34, 37, 3...\n",
       "2  C_ID_d639edf6cd  [33, 33, 33, 33, 33, 33, 33, 33, 33, 33, 33, 3..."
      ]
     },
     "execution_count": 100,
     "metadata": {},
     "output_type": "execute_result"
    }
   ],
   "source": [
    "df_subsectorID_lst.head(3)"
   ]
  },
  {
   "cell_type": "code",
   "execution_count": 101,
   "metadata": {},
   "outputs": [],
   "source": [
    "df_train['subsector_id'] = df_subsectorID_lst['subsector_id']"
   ]
  },
  {
   "cell_type": "code",
   "execution_count": 102,
   "metadata": {},
   "outputs": [
    {
     "data": {
      "text/html": [
       "<div>\n",
       "<style scoped>\n",
       "    .dataframe tbody tr th:only-of-type {\n",
       "        vertical-align: middle;\n",
       "    }\n",
       "\n",
       "    .dataframe tbody tr th {\n",
       "        vertical-align: top;\n",
       "    }\n",
       "\n",
       "    .dataframe thead th {\n",
       "        text-align: right;\n",
       "    }\n",
       "</style>\n",
       "<table border=\"1\" class=\"dataframe\">\n",
       "  <thead>\n",
       "    <tr style=\"text-align: right;\">\n",
       "      <th></th>\n",
       "      <th>first_active_month</th>\n",
       "      <th>card_id</th>\n",
       "      <th>feature_1</th>\n",
       "      <th>feature_2</th>\n",
       "      <th>feature_3</th>\n",
       "      <th>target</th>\n",
       "      <th>ave_installments</th>\n",
       "      <th>ave_month_lag</th>\n",
       "      <th>ave_purchase_amount</th>\n",
       "      <th>total_purchase_amount</th>\n",
       "      <th>total_purchase_numbers</th>\n",
       "      <th>merchant_category_id</th>\n",
       "      <th>category_1</th>\n",
       "      <th>category_2</th>\n",
       "      <th>category_3</th>\n",
       "      <th>city_id</th>\n",
       "      <th>state_id</th>\n",
       "      <th>subsector_id</th>\n",
       "    </tr>\n",
       "  </thead>\n",
       "  <tbody>\n",
       "    <tr>\n",
       "      <th>0</th>\n",
       "      <td>2017-06</td>\n",
       "      <td>C_ID_92a2005557</td>\n",
       "      <td>5</td>\n",
       "      <td>2</td>\n",
       "      <td>1</td>\n",
       "      <td>-0.820283</td>\n",
       "      <td>0.015385</td>\n",
       "      <td>-3.911538</td>\n",
       "      <td>-0.638341</td>\n",
       "      <td>-165.968739</td>\n",
       "      <td>260</td>\n",
       "      <td>[195, 278, 683, 309, 278, 560, 560, 560, 80, 5...</td>\n",
       "      <td>[N, N, N, N, N, N, N, N, N, N, N, N, N, N, N, ...</td>\n",
       "      <td>[1.0, 1.0, 1.0, 1.0, 1.0, 1.0, 1.0, 1.0, 1.0, ...</td>\n",
       "      <td>[A, A, A, A, A, A, A, A, A, A, A, A, A, A, A, ...</td>\n",
       "      <td>[69, 69, 69, 69, 69, 69, 69, 69, 69, 69, 69, 6...</td>\n",
       "      <td>[9, 9, 9, 9, 9, 9, 9, 9, 9, 9, 9, 9, 9, 9, 9, ...</td>\n",
       "      <td>[34, 37, 34, 21, 37, 34, 34, 34, 37, 34, 34, 4...</td>\n",
       "    </tr>\n",
       "    <tr>\n",
       "      <th>1</th>\n",
       "      <td>2017-01</td>\n",
       "      <td>C_ID_3d0044924f</td>\n",
       "      <td>4</td>\n",
       "      <td>1</td>\n",
       "      <td>0</td>\n",
       "      <td>0.392913</td>\n",
       "      <td>1.560845</td>\n",
       "      <td>-5.031429</td>\n",
       "      <td>-0.600018</td>\n",
       "      <td>-210.006336</td>\n",
       "      <td>350</td>\n",
       "      <td>[68, 528, 68, 80, 278, 278, 879, 560, 307, 560...</td>\n",
       "      <td>[N, N, N, N, N, N, N, N, N, N, N, N, N, N, N, ...</td>\n",
       "      <td>[1.0, 1.0, 1.0, 1.0, 1.0, 1.0, 1.0, 1.0, 1.0, ...</td>\n",
       "      <td>[C, B, C, B, B, B, B, B, B, B, B, B, C, C, C, ...</td>\n",
       "      <td>[69, 69, 69, 69, 138, 69, 69, 69, 69, 69, 69, ...</td>\n",
       "      <td>[9, 9, 9, 9, 15, 9, 9, 9, 9, 9, 9, 9, 9, 9, 9,...</td>\n",
       "      <td>[27, 25, 27, 37, 37, 37, 29, 34, 19, 34, 37, 3...</td>\n",
       "    </tr>\n",
       "    <tr>\n",
       "      <th>2</th>\n",
       "      <td>2016-08</td>\n",
       "      <td>C_ID_d639edf6cd</td>\n",
       "      <td>2</td>\n",
       "      <td>2</td>\n",
       "      <td>0</td>\n",
       "      <td>0.688056</td>\n",
       "      <td>0.000000</td>\n",
       "      <td>-8.604651</td>\n",
       "      <td>-0.678311</td>\n",
       "      <td>-29.167391</td>\n",
       "      <td>43</td>\n",
       "      <td>[705, 705, 705, 705, 705, 705, 705, 705, 705, ...</td>\n",
       "      <td>[N, N, N, N, N, N, N, N, N, N, N, N, N, N, N, ...</td>\n",
       "      <td>[5.0, 5.0, 5.0, 5.0, 5.0, 5.0, 5.0, 1.0, 5.0, ...</td>\n",
       "      <td>[A, A, A, A, A, A, A, A, A, A, A, A, A, A, A, ...</td>\n",
       "      <td>[143, 143, 143, 143, 143, 143, 143, 233, 143, ...</td>\n",
       "      <td>[5, 5, 5, 5, 5, 5, 5, 9, 5, 5, 5, 5, 5, 5, 9, ...</td>\n",
       "      <td>[33, 33, 33, 33, 33, 33, 33, 33, 33, 33, 33, 3...</td>\n",
       "    </tr>\n",
       "  </tbody>\n",
       "</table>\n",
       "</div>"
      ],
      "text/plain": [
       "  first_active_month          card_id  feature_1  feature_2  feature_3  \\\n",
       "0            2017-06  C_ID_92a2005557          5          2          1   \n",
       "1            2017-01  C_ID_3d0044924f          4          1          0   \n",
       "2            2016-08  C_ID_d639edf6cd          2          2          0   \n",
       "\n",
       "     target  ave_installments  ave_month_lag  ave_purchase_amount  \\\n",
       "0 -0.820283          0.015385      -3.911538            -0.638341   \n",
       "1  0.392913          1.560845      -5.031429            -0.600018   \n",
       "2  0.688056          0.000000      -8.604651            -0.678311   \n",
       "\n",
       "   total_purchase_amount  total_purchase_numbers  \\\n",
       "0            -165.968739                     260   \n",
       "1            -210.006336                     350   \n",
       "2             -29.167391                      43   \n",
       "\n",
       "                                merchant_category_id  \\\n",
       "0  [195, 278, 683, 309, 278, 560, 560, 560, 80, 5...   \n",
       "1  [68, 528, 68, 80, 278, 278, 879, 560, 307, 560...   \n",
       "2  [705, 705, 705, 705, 705, 705, 705, 705, 705, ...   \n",
       "\n",
       "                                          category_1  \\\n",
       "0  [N, N, N, N, N, N, N, N, N, N, N, N, N, N, N, ...   \n",
       "1  [N, N, N, N, N, N, N, N, N, N, N, N, N, N, N, ...   \n",
       "2  [N, N, N, N, N, N, N, N, N, N, N, N, N, N, N, ...   \n",
       "\n",
       "                                          category_2  \\\n",
       "0  [1.0, 1.0, 1.0, 1.0, 1.0, 1.0, 1.0, 1.0, 1.0, ...   \n",
       "1  [1.0, 1.0, 1.0, 1.0, 1.0, 1.0, 1.0, 1.0, 1.0, ...   \n",
       "2  [5.0, 5.0, 5.0, 5.0, 5.0, 5.0, 5.0, 1.0, 5.0, ...   \n",
       "\n",
       "                                          category_3  \\\n",
       "0  [A, A, A, A, A, A, A, A, A, A, A, A, A, A, A, ...   \n",
       "1  [C, B, C, B, B, B, B, B, B, B, B, B, C, C, C, ...   \n",
       "2  [A, A, A, A, A, A, A, A, A, A, A, A, A, A, A, ...   \n",
       "\n",
       "                                             city_id  \\\n",
       "0  [69, 69, 69, 69, 69, 69, 69, 69, 69, 69, 69, 6...   \n",
       "1  [69, 69, 69, 69, 138, 69, 69, 69, 69, 69, 69, ...   \n",
       "2  [143, 143, 143, 143, 143, 143, 143, 233, 143, ...   \n",
       "\n",
       "                                            state_id  \\\n",
       "0  [9, 9, 9, 9, 9, 9, 9, 9, 9, 9, 9, 9, 9, 9, 9, ...   \n",
       "1  [9, 9, 9, 9, 15, 9, 9, 9, 9, 9, 9, 9, 9, 9, 9,...   \n",
       "2  [5, 5, 5, 5, 5, 5, 5, 9, 5, 5, 5, 5, 5, 5, 9, ...   \n",
       "\n",
       "                                        subsector_id  \n",
       "0  [34, 37, 34, 21, 37, 34, 34, 34, 37, 34, 34, 4...  \n",
       "1  [27, 25, 27, 37, 37, 37, 29, 34, 19, 34, 37, 3...  \n",
       "2  [33, 33, 33, 33, 33, 33, 33, 33, 33, 33, 33, 3...  "
      ]
     },
     "execution_count": 102,
     "metadata": {},
     "output_type": "execute_result"
    }
   ],
   "source": [
    "df_train.head(3)"
   ]
  },
  {
   "cell_type": "code",
   "execution_count": 103,
   "metadata": {},
   "outputs": [],
   "source": [
    "df_monthLag_lst = df_train_merg.groupby('card_id', sort=False)['month_lag'].apply(list)"
   ]
  },
  {
   "cell_type": "code",
   "execution_count": 104,
   "metadata": {},
   "outputs": [],
   "source": [
    "df_monthLag_lst =df_monthLag_lst.reset_index()"
   ]
  },
  {
   "cell_type": "code",
   "execution_count": 105,
   "metadata": {},
   "outputs": [
    {
     "data": {
      "text/html": [
       "<div>\n",
       "<style scoped>\n",
       "    .dataframe tbody tr th:only-of-type {\n",
       "        vertical-align: middle;\n",
       "    }\n",
       "\n",
       "    .dataframe tbody tr th {\n",
       "        vertical-align: top;\n",
       "    }\n",
       "\n",
       "    .dataframe thead th {\n",
       "        text-align: right;\n",
       "    }\n",
       "</style>\n",
       "<table border=\"1\" class=\"dataframe\">\n",
       "  <thead>\n",
       "    <tr style=\"text-align: right;\">\n",
       "      <th></th>\n",
       "      <th>card_id</th>\n",
       "      <th>month_lag</th>\n",
       "    </tr>\n",
       "  </thead>\n",
       "  <tbody>\n",
       "    <tr>\n",
       "      <th>0</th>\n",
       "      <td>C_ID_92a2005557</td>\n",
       "      <td>[-3, -7, -6, -2, -7, -6, -1, -7, -5, -7, 0, -2...</td>\n",
       "    </tr>\n",
       "    <tr>\n",
       "      <th>1</th>\n",
       "      <td>C_ID_3d0044924f</td>\n",
       "      <td>[-4, -12, -11, -12, -3, -1, 0, -1, -1, 0, -5, ...</td>\n",
       "    </tr>\n",
       "  </tbody>\n",
       "</table>\n",
       "</div>"
      ],
      "text/plain": [
       "           card_id                                          month_lag\n",
       "0  C_ID_92a2005557  [-3, -7, -6, -2, -7, -6, -1, -7, -5, -7, 0, -2...\n",
       "1  C_ID_3d0044924f  [-4, -12, -11, -12, -3, -1, 0, -1, -1, 0, -5, ..."
      ]
     },
     "execution_count": 105,
     "metadata": {},
     "output_type": "execute_result"
    }
   ],
   "source": [
    "df_monthLag_lst.head(2)"
   ]
  },
  {
   "cell_type": "code",
   "execution_count": 106,
   "metadata": {},
   "outputs": [],
   "source": [
    "df_train['month_lag'] = df_monthLag_lst['month_lag']"
   ]
  },
  {
   "cell_type": "code",
   "execution_count": 107,
   "metadata": {},
   "outputs": [
    {
     "data": {
      "text/html": [
       "<div>\n",
       "<style scoped>\n",
       "    .dataframe tbody tr th:only-of-type {\n",
       "        vertical-align: middle;\n",
       "    }\n",
       "\n",
       "    .dataframe tbody tr th {\n",
       "        vertical-align: top;\n",
       "    }\n",
       "\n",
       "    .dataframe thead th {\n",
       "        text-align: right;\n",
       "    }\n",
       "</style>\n",
       "<table border=\"1\" class=\"dataframe\">\n",
       "  <thead>\n",
       "    <tr style=\"text-align: right;\">\n",
       "      <th></th>\n",
       "      <th>first_active_month</th>\n",
       "      <th>card_id</th>\n",
       "      <th>feature_1</th>\n",
       "      <th>feature_2</th>\n",
       "      <th>feature_3</th>\n",
       "      <th>target</th>\n",
       "      <th>ave_installments</th>\n",
       "      <th>ave_month_lag</th>\n",
       "      <th>ave_purchase_amount</th>\n",
       "      <th>total_purchase_amount</th>\n",
       "      <th>total_purchase_numbers</th>\n",
       "      <th>merchant_category_id</th>\n",
       "      <th>category_1</th>\n",
       "      <th>category_2</th>\n",
       "      <th>category_3</th>\n",
       "      <th>city_id</th>\n",
       "      <th>state_id</th>\n",
       "      <th>subsector_id</th>\n",
       "      <th>month_lag</th>\n",
       "    </tr>\n",
       "  </thead>\n",
       "  <tbody>\n",
       "    <tr>\n",
       "      <th>0</th>\n",
       "      <td>2017-06</td>\n",
       "      <td>C_ID_92a2005557</td>\n",
       "      <td>5</td>\n",
       "      <td>2</td>\n",
       "      <td>1</td>\n",
       "      <td>-0.820283</td>\n",
       "      <td>0.015385</td>\n",
       "      <td>-3.911538</td>\n",
       "      <td>-0.638341</td>\n",
       "      <td>-165.968739</td>\n",
       "      <td>260</td>\n",
       "      <td>[195, 278, 683, 309, 278, 560, 560, 560, 80, 5...</td>\n",
       "      <td>[N, N, N, N, N, N, N, N, N, N, N, N, N, N, N, ...</td>\n",
       "      <td>[1.0, 1.0, 1.0, 1.0, 1.0, 1.0, 1.0, 1.0, 1.0, ...</td>\n",
       "      <td>[A, A, A, A, A, A, A, A, A, A, A, A, A, A, A, ...</td>\n",
       "      <td>[69, 69, 69, 69, 69, 69, 69, 69, 69, 69, 69, 6...</td>\n",
       "      <td>[9, 9, 9, 9, 9, 9, 9, 9, 9, 9, 9, 9, 9, 9, 9, ...</td>\n",
       "      <td>[34, 37, 34, 21, 37, 34, 34, 34, 37, 34, 34, 4...</td>\n",
       "      <td>[-3, -7, -6, -2, -7, -6, -1, -7, -5, -7, 0, -2...</td>\n",
       "    </tr>\n",
       "    <tr>\n",
       "      <th>1</th>\n",
       "      <td>2017-01</td>\n",
       "      <td>C_ID_3d0044924f</td>\n",
       "      <td>4</td>\n",
       "      <td>1</td>\n",
       "      <td>0</td>\n",
       "      <td>0.392913</td>\n",
       "      <td>1.560845</td>\n",
       "      <td>-5.031429</td>\n",
       "      <td>-0.600018</td>\n",
       "      <td>-210.006336</td>\n",
       "      <td>350</td>\n",
       "      <td>[68, 528, 68, 80, 278, 278, 879, 560, 307, 560...</td>\n",
       "      <td>[N, N, N, N, N, N, N, N, N, N, N, N, N, N, N, ...</td>\n",
       "      <td>[1.0, 1.0, 1.0, 1.0, 1.0, 1.0, 1.0, 1.0, 1.0, ...</td>\n",
       "      <td>[C, B, C, B, B, B, B, B, B, B, B, B, C, C, C, ...</td>\n",
       "      <td>[69, 69, 69, 69, 138, 69, 69, 69, 69, 69, 69, ...</td>\n",
       "      <td>[9, 9, 9, 9, 15, 9, 9, 9, 9, 9, 9, 9, 9, 9, 9,...</td>\n",
       "      <td>[27, 25, 27, 37, 37, 37, 29, 34, 19, 34, 37, 3...</td>\n",
       "      <td>[-4, -12, -11, -12, -3, -1, 0, -1, -1, 0, -5, ...</td>\n",
       "    </tr>\n",
       "  </tbody>\n",
       "</table>\n",
       "</div>"
      ],
      "text/plain": [
       "  first_active_month          card_id  feature_1  feature_2  feature_3  \\\n",
       "0            2017-06  C_ID_92a2005557          5          2          1   \n",
       "1            2017-01  C_ID_3d0044924f          4          1          0   \n",
       "\n",
       "     target  ave_installments  ave_month_lag  ave_purchase_amount  \\\n",
       "0 -0.820283          0.015385      -3.911538            -0.638341   \n",
       "1  0.392913          1.560845      -5.031429            -0.600018   \n",
       "\n",
       "   total_purchase_amount  total_purchase_numbers  \\\n",
       "0            -165.968739                     260   \n",
       "1            -210.006336                     350   \n",
       "\n",
       "                                merchant_category_id  \\\n",
       "0  [195, 278, 683, 309, 278, 560, 560, 560, 80, 5...   \n",
       "1  [68, 528, 68, 80, 278, 278, 879, 560, 307, 560...   \n",
       "\n",
       "                                          category_1  \\\n",
       "0  [N, N, N, N, N, N, N, N, N, N, N, N, N, N, N, ...   \n",
       "1  [N, N, N, N, N, N, N, N, N, N, N, N, N, N, N, ...   \n",
       "\n",
       "                                          category_2  \\\n",
       "0  [1.0, 1.0, 1.0, 1.0, 1.0, 1.0, 1.0, 1.0, 1.0, ...   \n",
       "1  [1.0, 1.0, 1.0, 1.0, 1.0, 1.0, 1.0, 1.0, 1.0, ...   \n",
       "\n",
       "                                          category_3  \\\n",
       "0  [A, A, A, A, A, A, A, A, A, A, A, A, A, A, A, ...   \n",
       "1  [C, B, C, B, B, B, B, B, B, B, B, B, C, C, C, ...   \n",
       "\n",
       "                                             city_id  \\\n",
       "0  [69, 69, 69, 69, 69, 69, 69, 69, 69, 69, 69, 6...   \n",
       "1  [69, 69, 69, 69, 138, 69, 69, 69, 69, 69, 69, ...   \n",
       "\n",
       "                                            state_id  \\\n",
       "0  [9, 9, 9, 9, 9, 9, 9, 9, 9, 9, 9, 9, 9, 9, 9, ...   \n",
       "1  [9, 9, 9, 9, 15, 9, 9, 9, 9, 9, 9, 9, 9, 9, 9,...   \n",
       "\n",
       "                                        subsector_id  \\\n",
       "0  [34, 37, 34, 21, 37, 34, 34, 34, 37, 34, 34, 4...   \n",
       "1  [27, 25, 27, 37, 37, 37, 29, 34, 19, 34, 37, 3...   \n",
       "\n",
       "                                           month_lag  \n",
       "0  [-3, -7, -6, -2, -7, -6, -1, -7, -5, -7, 0, -2...  \n",
       "1  [-4, -12, -11, -12, -3, -1, 0, -1, -1, 0, -5, ...  "
      ]
     },
     "execution_count": 107,
     "metadata": {},
     "output_type": "execute_result"
    }
   ],
   "source": [
    "df_train.head(2)"
   ]
  },
  {
   "cell_type": "code",
   "execution_count": 108,
   "metadata": {},
   "outputs": [],
   "source": [
    "df_train.to_csv(\"traning_data_post_processing2\", index=False)"
   ]
  },
  {
   "cell_type": "code",
   "execution_count": 109,
   "metadata": {},
   "outputs": [],
   "source": [
    "df_reop = pd.read_csv(\"traning_data_post_processing2\")"
   ]
  },
  {
   "cell_type": "code",
   "execution_count": 110,
   "metadata": {},
   "outputs": [
    {
     "data": {
      "text/html": [
       "<div>\n",
       "<style scoped>\n",
       "    .dataframe tbody tr th:only-of-type {\n",
       "        vertical-align: middle;\n",
       "    }\n",
       "\n",
       "    .dataframe tbody tr th {\n",
       "        vertical-align: top;\n",
       "    }\n",
       "\n",
       "    .dataframe thead th {\n",
       "        text-align: right;\n",
       "    }\n",
       "</style>\n",
       "<table border=\"1\" class=\"dataframe\">\n",
       "  <thead>\n",
       "    <tr style=\"text-align: right;\">\n",
       "      <th></th>\n",
       "      <th>first_active_month</th>\n",
       "      <th>card_id</th>\n",
       "      <th>feature_1</th>\n",
       "      <th>feature_2</th>\n",
       "      <th>feature_3</th>\n",
       "      <th>target</th>\n",
       "      <th>ave_installments</th>\n",
       "      <th>ave_month_lag</th>\n",
       "      <th>ave_purchase_amount</th>\n",
       "      <th>total_purchase_amount</th>\n",
       "      <th>total_purchase_numbers</th>\n",
       "      <th>merchant_category_id</th>\n",
       "      <th>category_1</th>\n",
       "      <th>category_2</th>\n",
       "      <th>category_3</th>\n",
       "      <th>city_id</th>\n",
       "      <th>state_id</th>\n",
       "      <th>subsector_id</th>\n",
       "      <th>month_lag</th>\n",
       "    </tr>\n",
       "  </thead>\n",
       "  <tbody>\n",
       "    <tr>\n",
       "      <th>0</th>\n",
       "      <td>2017-06</td>\n",
       "      <td>C_ID_92a2005557</td>\n",
       "      <td>5</td>\n",
       "      <td>2</td>\n",
       "      <td>1</td>\n",
       "      <td>-0.820283</td>\n",
       "      <td>0.015385</td>\n",
       "      <td>-3.911538</td>\n",
       "      <td>-0.638341</td>\n",
       "      <td>-165.968739</td>\n",
       "      <td>260</td>\n",
       "      <td>[195, 278, 683, 309, 278, 560, 560, 560, 80, 5...</td>\n",
       "      <td>['N', 'N', 'N', 'N', 'N', 'N', 'N', 'N', 'N', ...</td>\n",
       "      <td>[1.0, 1.0, 1.0, 1.0, 1.0, 1.0, 1.0, 1.0, 1.0, ...</td>\n",
       "      <td>['A', 'A', 'A', 'A', 'A', 'A', 'A', 'A', 'A', ...</td>\n",
       "      <td>[69, 69, 69, 69, 69, 69, 69, 69, 69, 69, 69, 6...</td>\n",
       "      <td>[9, 9, 9, 9, 9, 9, 9, 9, 9, 9, 9, 9, 9, 9, 9, ...</td>\n",
       "      <td>[34, 37, 34, 21, 37, 34, 34, 34, 37, 34, 34, 4...</td>\n",
       "      <td>[-3, -7, -6, -2, -7, -6, -1, -7, -5, -7, 0, -2...</td>\n",
       "    </tr>\n",
       "    <tr>\n",
       "      <th>1</th>\n",
       "      <td>2017-01</td>\n",
       "      <td>C_ID_3d0044924f</td>\n",
       "      <td>4</td>\n",
       "      <td>1</td>\n",
       "      <td>0</td>\n",
       "      <td>0.392913</td>\n",
       "      <td>1.560845</td>\n",
       "      <td>-5.031429</td>\n",
       "      <td>-0.600018</td>\n",
       "      <td>-210.006336</td>\n",
       "      <td>350</td>\n",
       "      <td>[68, 528, 68, 80, 278, 278, 879, 560, 307, 560...</td>\n",
       "      <td>['N', 'N', 'N', 'N', 'N', 'N', 'N', 'N', 'N', ...</td>\n",
       "      <td>[1.0, 1.0, 1.0, 1.0, 1.0, 1.0, 1.0, 1.0, 1.0, ...</td>\n",
       "      <td>['C', 'B', 'C', 'B', 'B', 'B', 'B', 'B', 'B', ...</td>\n",
       "      <td>[69, 69, 69, 69, 138, 69, 69, 69, 69, 69, 69, ...</td>\n",
       "      <td>[9, 9, 9, 9, 15, 9, 9, 9, 9, 9, 9, 9, 9, 9, 9,...</td>\n",
       "      <td>[27, 25, 27, 37, 37, 37, 29, 34, 19, 34, 37, 3...</td>\n",
       "      <td>[-4, -12, -11, -12, -3, -1, 0, -1, -1, 0, -5, ...</td>\n",
       "    </tr>\n",
       "  </tbody>\n",
       "</table>\n",
       "</div>"
      ],
      "text/plain": [
       "  first_active_month          card_id  feature_1  feature_2  feature_3  \\\n",
       "0            2017-06  C_ID_92a2005557          5          2          1   \n",
       "1            2017-01  C_ID_3d0044924f          4          1          0   \n",
       "\n",
       "     target  ave_installments  ave_month_lag  ave_purchase_amount  \\\n",
       "0 -0.820283          0.015385      -3.911538            -0.638341   \n",
       "1  0.392913          1.560845      -5.031429            -0.600018   \n",
       "\n",
       "   total_purchase_amount  total_purchase_numbers  \\\n",
       "0            -165.968739                     260   \n",
       "1            -210.006336                     350   \n",
       "\n",
       "                                merchant_category_id  \\\n",
       "0  [195, 278, 683, 309, 278, 560, 560, 560, 80, 5...   \n",
       "1  [68, 528, 68, 80, 278, 278, 879, 560, 307, 560...   \n",
       "\n",
       "                                          category_1  \\\n",
       "0  ['N', 'N', 'N', 'N', 'N', 'N', 'N', 'N', 'N', ...   \n",
       "1  ['N', 'N', 'N', 'N', 'N', 'N', 'N', 'N', 'N', ...   \n",
       "\n",
       "                                          category_2  \\\n",
       "0  [1.0, 1.0, 1.0, 1.0, 1.0, 1.0, 1.0, 1.0, 1.0, ...   \n",
       "1  [1.0, 1.0, 1.0, 1.0, 1.0, 1.0, 1.0, 1.0, 1.0, ...   \n",
       "\n",
       "                                          category_3  \\\n",
       "0  ['A', 'A', 'A', 'A', 'A', 'A', 'A', 'A', 'A', ...   \n",
       "1  ['C', 'B', 'C', 'B', 'B', 'B', 'B', 'B', 'B', ...   \n",
       "\n",
       "                                             city_id  \\\n",
       "0  [69, 69, 69, 69, 69, 69, 69, 69, 69, 69, 69, 6...   \n",
       "1  [69, 69, 69, 69, 138, 69, 69, 69, 69, 69, 69, ...   \n",
       "\n",
       "                                            state_id  \\\n",
       "0  [9, 9, 9, 9, 9, 9, 9, 9, 9, 9, 9, 9, 9, 9, 9, ...   \n",
       "1  [9, 9, 9, 9, 15, 9, 9, 9, 9, 9, 9, 9, 9, 9, 9,...   \n",
       "\n",
       "                                        subsector_id  \\\n",
       "0  [34, 37, 34, 21, 37, 34, 34, 34, 37, 34, 34, 4...   \n",
       "1  [27, 25, 27, 37, 37, 37, 29, 34, 19, 34, 37, 3...   \n",
       "\n",
       "                                           month_lag  \n",
       "0  [-3, -7, -6, -2, -7, -6, -1, -7, -5, -7, 0, -2...  \n",
       "1  [-4, -12, -11, -12, -3, -1, 0, -1, -1, 0, -5, ...  "
      ]
     },
     "execution_count": 110,
     "metadata": {},
     "output_type": "execute_result"
    }
   ],
   "source": [
    "df_reop.head(2)\n",
    "### check saved the CSV file.  Seems to be fine"
   ]
  },
  {
   "cell_type": "code",
   "execution_count": 111,
   "metadata": {},
   "outputs": [],
   "source": [
    "df_test_merg = df_test.merge(df_trans, how=\"inner\", on=\"card_id\")"
   ]
  },
  {
   "cell_type": "code",
   "execution_count": 112,
   "metadata": {},
   "outputs": [
    {
     "data": {
      "text/html": [
       "<div>\n",
       "<style scoped>\n",
       "    .dataframe tbody tr th:only-of-type {\n",
       "        vertical-align: middle;\n",
       "    }\n",
       "\n",
       "    .dataframe tbody tr th {\n",
       "        vertical-align: top;\n",
       "    }\n",
       "\n",
       "    .dataframe thead th {\n",
       "        text-align: right;\n",
       "    }\n",
       "</style>\n",
       "<table border=\"1\" class=\"dataframe\">\n",
       "  <thead>\n",
       "    <tr style=\"text-align: right;\">\n",
       "      <th></th>\n",
       "      <th>first_active_month</th>\n",
       "      <th>card_id</th>\n",
       "      <th>feature_1</th>\n",
       "      <th>feature_2</th>\n",
       "      <th>feature_3</th>\n",
       "      <th>authorized_flag</th>\n",
       "      <th>city_id</th>\n",
       "      <th>category_1</th>\n",
       "      <th>installments</th>\n",
       "      <th>category_3</th>\n",
       "      <th>merchant_category_id</th>\n",
       "      <th>merchant_id</th>\n",
       "      <th>month_lag</th>\n",
       "      <th>purchase_amount</th>\n",
       "      <th>purchase_date</th>\n",
       "      <th>category_2</th>\n",
       "      <th>state_id</th>\n",
       "      <th>subsector_id</th>\n",
       "    </tr>\n",
       "  </thead>\n",
       "  <tbody>\n",
       "    <tr>\n",
       "      <th>0</th>\n",
       "      <td>2017-04</td>\n",
       "      <td>C_ID_0ab67a22ab</td>\n",
       "      <td>3</td>\n",
       "      <td>3</td>\n",
       "      <td>1</td>\n",
       "      <td>N</td>\n",
       "      <td>235</td>\n",
       "      <td>N</td>\n",
       "      <td>1</td>\n",
       "      <td>B</td>\n",
       "      <td>412</td>\n",
       "      <td>M_ID_85a5803161</td>\n",
       "      <td>-8</td>\n",
       "      <td>-0.697320</td>\n",
       "      <td>2017-04-27 14:17:27</td>\n",
       "      <td>1.0</td>\n",
       "      <td>12</td>\n",
       "      <td>18</td>\n",
       "    </tr>\n",
       "    <tr>\n",
       "      <th>1</th>\n",
       "      <td>2017-04</td>\n",
       "      <td>C_ID_0ab67a22ab</td>\n",
       "      <td>3</td>\n",
       "      <td>3</td>\n",
       "      <td>1</td>\n",
       "      <td>Y</td>\n",
       "      <td>235</td>\n",
       "      <td>N</td>\n",
       "      <td>1</td>\n",
       "      <td>B</td>\n",
       "      <td>278</td>\n",
       "      <td>M_ID_c873d839bd</td>\n",
       "      <td>-3</td>\n",
       "      <td>-0.716855</td>\n",
       "      <td>2017-09-21 22:11:57</td>\n",
       "      <td>1.0</td>\n",
       "      <td>12</td>\n",
       "      <td>37</td>\n",
       "    </tr>\n",
       "    <tr>\n",
       "      <th>2</th>\n",
       "      <td>2017-04</td>\n",
       "      <td>C_ID_0ab67a22ab</td>\n",
       "      <td>3</td>\n",
       "      <td>3</td>\n",
       "      <td>1</td>\n",
       "      <td>N</td>\n",
       "      <td>-1</td>\n",
       "      <td>Y</td>\n",
       "      <td>4</td>\n",
       "      <td>C</td>\n",
       "      <td>879</td>\n",
       "      <td>M_ID_9139332ccc</td>\n",
       "      <td>-6</td>\n",
       "      <td>-0.480082</td>\n",
       "      <td>2017-06-22 22:53:59</td>\n",
       "      <td>NaN</td>\n",
       "      <td>-1</td>\n",
       "      <td>29</td>\n",
       "    </tr>\n",
       "    <tr>\n",
       "      <th>3</th>\n",
       "      <td>2017-04</td>\n",
       "      <td>C_ID_0ab67a22ab</td>\n",
       "      <td>3</td>\n",
       "      <td>3</td>\n",
       "      <td>1</td>\n",
       "      <td>Y</td>\n",
       "      <td>235</td>\n",
       "      <td>N</td>\n",
       "      <td>1</td>\n",
       "      <td>B</td>\n",
       "      <td>80</td>\n",
       "      <td>M_ID_26c089d552</td>\n",
       "      <td>-8</td>\n",
       "      <td>-0.743902</td>\n",
       "      <td>2017-04-04 18:22:24</td>\n",
       "      <td>1.0</td>\n",
       "      <td>12</td>\n",
       "      <td>37</td>\n",
       "    </tr>\n",
       "    <tr>\n",
       "      <th>4</th>\n",
       "      <td>2017-04</td>\n",
       "      <td>C_ID_0ab67a22ab</td>\n",
       "      <td>3</td>\n",
       "      <td>3</td>\n",
       "      <td>1</td>\n",
       "      <td>Y</td>\n",
       "      <td>235</td>\n",
       "      <td>N</td>\n",
       "      <td>1</td>\n",
       "      <td>B</td>\n",
       "      <td>278</td>\n",
       "      <td>M_ID_26c089d552</td>\n",
       "      <td>-2</td>\n",
       "      <td>-0.711595</td>\n",
       "      <td>2017-10-06 23:51:21</td>\n",
       "      <td>1.0</td>\n",
       "      <td>12</td>\n",
       "      <td>37</td>\n",
       "    </tr>\n",
       "  </tbody>\n",
       "</table>\n",
       "</div>"
      ],
      "text/plain": [
       "  first_active_month          card_id  feature_1  feature_2  feature_3  \\\n",
       "0            2017-04  C_ID_0ab67a22ab          3          3          1   \n",
       "1            2017-04  C_ID_0ab67a22ab          3          3          1   \n",
       "2            2017-04  C_ID_0ab67a22ab          3          3          1   \n",
       "3            2017-04  C_ID_0ab67a22ab          3          3          1   \n",
       "4            2017-04  C_ID_0ab67a22ab          3          3          1   \n",
       "\n",
       "  authorized_flag  city_id category_1  installments category_3  \\\n",
       "0               N      235          N             1          B   \n",
       "1               Y      235          N             1          B   \n",
       "2               N       -1          Y             4          C   \n",
       "3               Y      235          N             1          B   \n",
       "4               Y      235          N             1          B   \n",
       "\n",
       "   merchant_category_id      merchant_id  month_lag  purchase_amount  \\\n",
       "0                   412  M_ID_85a5803161         -8        -0.697320   \n",
       "1                   278  M_ID_c873d839bd         -3        -0.716855   \n",
       "2                   879  M_ID_9139332ccc         -6        -0.480082   \n",
       "3                    80  M_ID_26c089d552         -8        -0.743902   \n",
       "4                   278  M_ID_26c089d552         -2        -0.711595   \n",
       "\n",
       "         purchase_date  category_2  state_id  subsector_id  \n",
       "0  2017-04-27 14:17:27         1.0        12            18  \n",
       "1  2017-09-21 22:11:57         1.0        12            37  \n",
       "2  2017-06-22 22:53:59         NaN        -1            29  \n",
       "3  2017-04-04 18:22:24         1.0        12            37  \n",
       "4  2017-10-06 23:51:21         1.0        12            37  "
      ]
     },
     "execution_count": 112,
     "metadata": {},
     "output_type": "execute_result"
    }
   ],
   "source": [
    "df_test_merg.head()"
   ]
  },
  {
   "cell_type": "code",
   "execution_count": 113,
   "metadata": {},
   "outputs": [
    {
     "data": {
      "text/plain": [
       "11825698"
      ]
     },
     "execution_count": 113,
     "metadata": {},
     "output_type": "execute_result"
    }
   ],
   "source": [
    "len(df_test_merg)"
   ]
  },
  {
   "cell_type": "code",
   "execution_count": 114,
   "metadata": {},
   "outputs": [
    {
     "data": {
      "text/plain": [
       "123623"
      ]
     },
     "execution_count": 114,
     "metadata": {},
     "output_type": "execute_result"
    }
   ],
   "source": [
    "len(df_test)"
   ]
  },
  {
   "cell_type": "code",
   "execution_count": 115,
   "metadata": {},
   "outputs": [
    {
     "data": {
      "text/plain": [
       "-2     1467489\n",
       "-1     1378962\n",
       " 0     1319527\n",
       "-3     1174693\n",
       "-4     1003880\n",
       "-5      898119\n",
       "-6      778489\n",
       "-7      671159\n",
       "-8      545430\n",
       "-9      473500\n",
       "-10     416191\n",
       " 1      388562\n",
       "-11     387678\n",
       " 2      354784\n",
       "-12     303766\n",
       "-13     263469\n",
       "Name: month_lag, dtype: int64"
      ]
     },
     "execution_count": 115,
     "metadata": {},
     "output_type": "execute_result"
    }
   ],
   "source": [
    "df_test_merg[\"month_lag\"].value_counts()  # max=2"
   ]
  },
  {
   "cell_type": "code",
   "execution_count": 116,
   "metadata": {},
   "outputs": [
    {
     "data": {
      "text/plain": [
       "<BarContainer object of 16 artists>"
      ]
     },
     "execution_count": 116,
     "metadata": {},
     "output_type": "execute_result"
    },
    {
     "data": {
      "image/png": "[encoded data removed]",
      "text/plain": [
       "<Figure size 432x288 with 1 Axes>"
      ]
     },
     "metadata": {},
     "output_type": "display_data"
    }
   ],
   "source": [
    "plt.bar(x=df_test_merg[\"month_lag\"].value_counts().index, height=df_test_merg[\"month_lag\"].value_counts())"
   ]
  },
  {
   "cell_type": "code",
   "execution_count": 117,
   "metadata": {},
   "outputs": [
    {
     "data": {
      "text/plain": [
       "(-2, 3)"
      ]
     },
     "execution_count": 117,
     "metadata": {},
     "output_type": "execute_result"
    },
    {
     "data": {
      "image/png": "[encoded data removed]",
      "text/plain": [
       "<Figure size 432x720 with 1 Axes>"
      ]
     },
     "metadata": {},
     "output_type": "display_data"
    }
   ],
   "source": [
    "plt.figure(figsize=(6,10))\n",
    "sns.boxplot(x='feature_1', y= \"purchase_amount\", data=df_test_merg.iloc[0:100000])\n",
    "plt.ylim(-2, 3)"
   ]
  },
  {
   "cell_type": "code",
   "execution_count": 118,
   "metadata": {},
   "outputs": [
    {
     "data": {
      "text/plain": [
       "array([  1,   4,   6,   2,   5,   3,  12,  10,  -1,   0,   8,   7,  11,\n",
       "         9, 999])"
      ]
     },
     "execution_count": 118,
     "metadata": {},
     "output_type": "execute_result"
    }
   ],
   "source": [
    "df_test_merg['installments'].unique()"
   ]
  },
  {
   "cell_type": "code",
   "execution_count": 119,
   "metadata": {},
   "outputs": [],
   "source": [
    "df_test_merg.loc[(df_test_merg['installments']==-1),'installments'] = a\n",
    "# -1 is missing value\n",
    "df_test_merg.loc[(df_test_merg['installments']==999),'installments'] = a\n",
    "# 999 is missing value\n",
    "# filled in with average from training data, that training and testing filled with the same data"
   ]
  },
  {
   "cell_type": "code",
   "execution_count": 120,
   "metadata": {},
   "outputs": [
    {
     "data": {
      "text/plain": [
       "array([ 1.        ,  4.        ,  6.        ,  2.        ,  5.        ,\n",
       "        3.        , 12.        , 10.        ,  0.64790406,  0.        ,\n",
       "        8.        ,  7.        , 11.        ,  9.        ])"
      ]
     },
     "execution_count": 120,
     "metadata": {},
     "output_type": "execute_result"
    }
   ],
   "source": [
    "df_test_merg['installments'].unique()"
   ]
  },
  {
   "cell_type": "code",
   "execution_count": 121,
   "metadata": {},
   "outputs": [],
   "source": [
    "df_test_mean = df_test_merg.groupby(by=\"card_id\", sort=False).mean()"
   ]
  },
  {
   "cell_type": "code",
   "execution_count": 122,
   "metadata": {},
   "outputs": [
    {
     "data": {
      "text/plain": [
       "123623"
      ]
     },
     "execution_count": 122,
     "metadata": {},
     "output_type": "execute_result"
    }
   ],
   "source": [
    "len(df_test_mean)"
   ]
  },
  {
   "cell_type": "code",
   "execution_count": 123,
   "metadata": {},
   "outputs": [
    {
     "data": {
      "text/plain": [
       "123623"
      ]
     },
     "execution_count": 123,
     "metadata": {},
     "output_type": "execute_result"
    }
   ],
   "source": [
    "len(df_test)"
   ]
  },
  {
   "cell_type": "code",
   "execution_count": 124,
   "metadata": {},
   "outputs": [],
   "source": [
    "df_test_mean.reset_index(inplace=True)"
   ]
  },
  {
   "cell_type": "code",
   "execution_count": 125,
   "metadata": {},
   "outputs": [
    {
     "data": {
      "text/html": [
       "<div>\n",
       "<style scoped>\n",
       "    .dataframe tbody tr th:only-of-type {\n",
       "        vertical-align: middle;\n",
       "    }\n",
       "\n",
       "    .dataframe tbody tr th {\n",
       "        vertical-align: top;\n",
       "    }\n",
       "\n",
       "    .dataframe thead th {\n",
       "        text-align: right;\n",
       "    }\n",
       "</style>\n",
       "<table border=\"1\" class=\"dataframe\">\n",
       "  <thead>\n",
       "    <tr style=\"text-align: right;\">\n",
       "      <th></th>\n",
       "      <th>card_id</th>\n",
       "      <th>feature_1</th>\n",
       "      <th>feature_2</th>\n",
       "      <th>feature_3</th>\n",
       "      <th>city_id</th>\n",
       "      <th>installments</th>\n",
       "      <th>merchant_category_id</th>\n",
       "      <th>month_lag</th>\n",
       "      <th>purchase_amount</th>\n",
       "      <th>category_2</th>\n",
       "      <th>state_id</th>\n",
       "      <th>subsector_id</th>\n",
       "    </tr>\n",
       "  </thead>\n",
       "  <tbody>\n",
       "    <tr>\n",
       "      <th>0</th>\n",
       "      <td>C_ID_0ab67a22ab</td>\n",
       "      <td>3.0</td>\n",
       "      <td>3.0</td>\n",
       "      <td>1.0</td>\n",
       "      <td>108.563380</td>\n",
       "      <td>2.056338</td>\n",
       "      <td>533.239437</td>\n",
       "      <td>-3.394366</td>\n",
       "      <td>-0.598745</td>\n",
       "      <td>1.000000</td>\n",
       "      <td>7.661972</td>\n",
       "      <td>25.225352</td>\n",
       "    </tr>\n",
       "    <tr>\n",
       "      <th>1</th>\n",
       "      <td>C_ID_130fd0cbdd</td>\n",
       "      <td>2.0</td>\n",
       "      <td>3.0</td>\n",
       "      <td>0.0</td>\n",
       "      <td>115.862069</td>\n",
       "      <td>1.080460</td>\n",
       "      <td>462.310345</td>\n",
       "      <td>-9.183908</td>\n",
       "      <td>-0.633117</td>\n",
       "      <td>3.987952</td>\n",
       "      <td>12.402299</td>\n",
       "      <td>28.287356</td>\n",
       "    </tr>\n",
       "    <tr>\n",
       "      <th>2</th>\n",
       "      <td>C_ID_b709037bc5</td>\n",
       "      <td>5.0</td>\n",
       "      <td>1.0</td>\n",
       "      <td>1.0</td>\n",
       "      <td>149.533333</td>\n",
       "      <td>3.996247</td>\n",
       "      <td>471.866667</td>\n",
       "      <td>-1.666667</td>\n",
       "      <td>0.313932</td>\n",
       "      <td>4.692308</td>\n",
       "      <td>6.533333</td>\n",
       "      <td>24.200000</td>\n",
       "    </tr>\n",
       "    <tr>\n",
       "      <th>3</th>\n",
       "      <td>C_ID_d27d835a9f</td>\n",
       "      <td>2.0</td>\n",
       "      <td>1.0</td>\n",
       "      <td>0.0</td>\n",
       "      <td>69.111111</td>\n",
       "      <td>1.952661</td>\n",
       "      <td>432.694444</td>\n",
       "      <td>-0.527778</td>\n",
       "      <td>-0.539844</td>\n",
       "      <td>1.114286</td>\n",
       "      <td>8.611111</td>\n",
       "      <td>25.000000</td>\n",
       "    </tr>\n",
       "    <tr>\n",
       "      <th>4</th>\n",
       "      <td>C_ID_2b5e3df5c2</td>\n",
       "      <td>5.0</td>\n",
       "      <td>1.0</td>\n",
       "      <td>1.0</td>\n",
       "      <td>268.672414</td>\n",
       "      <td>1.091792</td>\n",
       "      <td>455.094828</td>\n",
       "      <td>-5.844828</td>\n",
       "      <td>0.320727</td>\n",
       "      <td>3.844828</td>\n",
       "      <td>12.250000</td>\n",
       "      <td>25.215517</td>\n",
       "    </tr>\n",
       "  </tbody>\n",
       "</table>\n",
       "</div>"
      ],
      "text/plain": [
       "           card_id  feature_1  feature_2  feature_3     city_id  installments  \\\n",
       "0  C_ID_0ab67a22ab        3.0        3.0        1.0  108.563380      2.056338   \n",
       "1  C_ID_130fd0cbdd        2.0        3.0        0.0  115.862069      1.080460   \n",
       "2  C_ID_b709037bc5        5.0        1.0        1.0  149.533333      3.996247   \n",
       "3  C_ID_d27d835a9f        2.0        1.0        0.0   69.111111      1.952661   \n",
       "4  C_ID_2b5e3df5c2        5.0        1.0        1.0  268.672414      1.091792   \n",
       "\n",
       "   merchant_category_id  month_lag  purchase_amount  category_2   state_id  \\\n",
       "0            533.239437  -3.394366        -0.598745    1.000000   7.661972   \n",
       "1            462.310345  -9.183908        -0.633117    3.987952  12.402299   \n",
       "2            471.866667  -1.666667         0.313932    4.692308   6.533333   \n",
       "3            432.694444  -0.527778        -0.539844    1.114286   8.611111   \n",
       "4            455.094828  -5.844828         0.320727    3.844828  12.250000   \n",
       "\n",
       "   subsector_id  \n",
       "0     25.225352  \n",
       "1     28.287356  \n",
       "2     24.200000  \n",
       "3     25.000000  \n",
       "4     25.215517  "
      ]
     },
     "execution_count": 125,
     "metadata": {},
     "output_type": "execute_result"
    }
   ],
   "source": [
    "df_test_mean.head()"
   ]
  },
  {
   "cell_type": "code",
   "execution_count": 126,
   "metadata": {},
   "outputs": [
    {
     "data": {
      "text/html": [
       "<div>\n",
       "<style scoped>\n",
       "    .dataframe tbody tr th:only-of-type {\n",
       "        vertical-align: middle;\n",
       "    }\n",
       "\n",
       "    .dataframe tbody tr th {\n",
       "        vertical-align: top;\n",
       "    }\n",
       "\n",
       "    .dataframe thead th {\n",
       "        text-align: right;\n",
       "    }\n",
       "</style>\n",
       "<table border=\"1\" class=\"dataframe\">\n",
       "  <thead>\n",
       "    <tr style=\"text-align: right;\">\n",
       "      <th></th>\n",
       "      <th>first_active_month</th>\n",
       "      <th>card_id</th>\n",
       "      <th>feature_1</th>\n",
       "      <th>feature_2</th>\n",
       "      <th>feature_3</th>\n",
       "    </tr>\n",
       "  </thead>\n",
       "  <tbody>\n",
       "    <tr>\n",
       "      <th>0</th>\n",
       "      <td>2017-04</td>\n",
       "      <td>C_ID_0ab67a22ab</td>\n",
       "      <td>3</td>\n",
       "      <td>3</td>\n",
       "      <td>1</td>\n",
       "    </tr>\n",
       "    <tr>\n",
       "      <th>1</th>\n",
       "      <td>2017-01</td>\n",
       "      <td>C_ID_130fd0cbdd</td>\n",
       "      <td>2</td>\n",
       "      <td>3</td>\n",
       "      <td>0</td>\n",
       "    </tr>\n",
       "    <tr>\n",
       "      <th>2</th>\n",
       "      <td>2017-08</td>\n",
       "      <td>C_ID_b709037bc5</td>\n",
       "      <td>5</td>\n",
       "      <td>1</td>\n",
       "      <td>1</td>\n",
       "    </tr>\n",
       "    <tr>\n",
       "      <th>3</th>\n",
       "      <td>2017-12</td>\n",
       "      <td>C_ID_d27d835a9f</td>\n",
       "      <td>2</td>\n",
       "      <td>1</td>\n",
       "      <td>0</td>\n",
       "    </tr>\n",
       "    <tr>\n",
       "      <th>4</th>\n",
       "      <td>2015-12</td>\n",
       "      <td>C_ID_2b5e3df5c2</td>\n",
       "      <td>5</td>\n",
       "      <td>1</td>\n",
       "      <td>1</td>\n",
       "    </tr>\n",
       "  </tbody>\n",
       "</table>\n",
       "</div>"
      ],
      "text/plain": [
       "  first_active_month          card_id  feature_1  feature_2  feature_3\n",
       "0            2017-04  C_ID_0ab67a22ab          3          3          1\n",
       "1            2017-01  C_ID_130fd0cbdd          2          3          0\n",
       "2            2017-08  C_ID_b709037bc5          5          1          1\n",
       "3            2017-12  C_ID_d27d835a9f          2          1          0\n",
       "4            2015-12  C_ID_2b5e3df5c2          5          1          1"
      ]
     },
     "execution_count": 126,
     "metadata": {},
     "output_type": "execute_result"
    }
   ],
   "source": [
    "df_test.head()"
   ]
  },
  {
   "cell_type": "code",
   "execution_count": 127,
   "metadata": {},
   "outputs": [],
   "source": [
    "df_test[[\"ave_installments\", \"ave_month_lag\", \"ave_purchase_amount\"]] = df_test_mean[[\"installments\", \"month_lag\", \"purchase_amount\"]] "
   ]
  },
  {
   "cell_type": "code",
   "execution_count": 128,
   "metadata": {},
   "outputs": [
    {
     "data": {
      "text/html": [
       "<div>\n",
       "<style scoped>\n",
       "    .dataframe tbody tr th:only-of-type {\n",
       "        vertical-align: middle;\n",
       "    }\n",
       "\n",
       "    .dataframe tbody tr th {\n",
       "        vertical-align: top;\n",
       "    }\n",
       "\n",
       "    .dataframe thead th {\n",
       "        text-align: right;\n",
       "    }\n",
       "</style>\n",
       "<table border=\"1\" class=\"dataframe\">\n",
       "  <thead>\n",
       "    <tr style=\"text-align: right;\">\n",
       "      <th></th>\n",
       "      <th>first_active_month</th>\n",
       "      <th>card_id</th>\n",
       "      <th>feature_1</th>\n",
       "      <th>feature_2</th>\n",
       "      <th>feature_3</th>\n",
       "      <th>ave_installments</th>\n",
       "      <th>ave_month_lag</th>\n",
       "      <th>ave_purchase_amount</th>\n",
       "    </tr>\n",
       "  </thead>\n",
       "  <tbody>\n",
       "    <tr>\n",
       "      <th>0</th>\n",
       "      <td>2017-04</td>\n",
       "      <td>C_ID_0ab67a22ab</td>\n",
       "      <td>3</td>\n",
       "      <td>3</td>\n",
       "      <td>1</td>\n",
       "      <td>2.056338</td>\n",
       "      <td>-3.394366</td>\n",
       "      <td>-0.598745</td>\n",
       "    </tr>\n",
       "    <tr>\n",
       "      <th>1</th>\n",
       "      <td>2017-01</td>\n",
       "      <td>C_ID_130fd0cbdd</td>\n",
       "      <td>2</td>\n",
       "      <td>3</td>\n",
       "      <td>0</td>\n",
       "      <td>1.080460</td>\n",
       "      <td>-9.183908</td>\n",
       "      <td>-0.633117</td>\n",
       "    </tr>\n",
       "    <tr>\n",
       "      <th>2</th>\n",
       "      <td>2017-08</td>\n",
       "      <td>C_ID_b709037bc5</td>\n",
       "      <td>5</td>\n",
       "      <td>1</td>\n",
       "      <td>1</td>\n",
       "      <td>3.996247</td>\n",
       "      <td>-1.666667</td>\n",
       "      <td>0.313932</td>\n",
       "    </tr>\n",
       "    <tr>\n",
       "      <th>3</th>\n",
       "      <td>2017-12</td>\n",
       "      <td>C_ID_d27d835a9f</td>\n",
       "      <td>2</td>\n",
       "      <td>1</td>\n",
       "      <td>0</td>\n",
       "      <td>1.952661</td>\n",
       "      <td>-0.527778</td>\n",
       "      <td>-0.539844</td>\n",
       "    </tr>\n",
       "    <tr>\n",
       "      <th>4</th>\n",
       "      <td>2015-12</td>\n",
       "      <td>C_ID_2b5e3df5c2</td>\n",
       "      <td>5</td>\n",
       "      <td>1</td>\n",
       "      <td>1</td>\n",
       "      <td>1.091792</td>\n",
       "      <td>-5.844828</td>\n",
       "      <td>0.320727</td>\n",
       "    </tr>\n",
       "  </tbody>\n",
       "</table>\n",
       "</div>"
      ],
      "text/plain": [
       "  first_active_month          card_id  feature_1  feature_2  feature_3  \\\n",
       "0            2017-04  C_ID_0ab67a22ab          3          3          1   \n",
       "1            2017-01  C_ID_130fd0cbdd          2          3          0   \n",
       "2            2017-08  C_ID_b709037bc5          5          1          1   \n",
       "3            2017-12  C_ID_d27d835a9f          2          1          0   \n",
       "4            2015-12  C_ID_2b5e3df5c2          5          1          1   \n",
       "\n",
       "   ave_installments  ave_month_lag  ave_purchase_amount  \n",
       "0          2.056338      -3.394366            -0.598745  \n",
       "1          1.080460      -9.183908            -0.633117  \n",
       "2          3.996247      -1.666667             0.313932  \n",
       "3          1.952661      -0.527778            -0.539844  \n",
       "4          1.091792      -5.844828             0.320727  "
      ]
     },
     "execution_count": 128,
     "metadata": {},
     "output_type": "execute_result"
    }
   ],
   "source": [
    "df_test.head()"
   ]
  },
  {
   "cell_type": "code",
   "execution_count": 129,
   "metadata": {},
   "outputs": [],
   "source": [
    "df_test_merg.loc[:, \"for_count\"] = 1"
   ]
  },
  {
   "cell_type": "code",
   "execution_count": 130,
   "metadata": {},
   "outputs": [
    {
     "data": {
      "text/html": [
       "<div>\n",
       "<style scoped>\n",
       "    .dataframe tbody tr th:only-of-type {\n",
       "        vertical-align: middle;\n",
       "    }\n",
       "\n",
       "    .dataframe tbody tr th {\n",
       "        vertical-align: top;\n",
       "    }\n",
       "\n",
       "    .dataframe thead th {\n",
       "        text-align: right;\n",
       "    }\n",
       "</style>\n",
       "<table border=\"1\" class=\"dataframe\">\n",
       "  <thead>\n",
       "    <tr style=\"text-align: right;\">\n",
       "      <th></th>\n",
       "      <th>first_active_month</th>\n",
       "      <th>card_id</th>\n",
       "      <th>feature_1</th>\n",
       "      <th>feature_2</th>\n",
       "      <th>feature_3</th>\n",
       "      <th>authorized_flag</th>\n",
       "      <th>city_id</th>\n",
       "      <th>category_1</th>\n",
       "      <th>installments</th>\n",
       "      <th>category_3</th>\n",
       "      <th>merchant_category_id</th>\n",
       "      <th>merchant_id</th>\n",
       "      <th>month_lag</th>\n",
       "      <th>purchase_amount</th>\n",
       "      <th>purchase_date</th>\n",
       "      <th>category_2</th>\n",
       "      <th>state_id</th>\n",
       "      <th>subsector_id</th>\n",
       "      <th>for_count</th>\n",
       "    </tr>\n",
       "  </thead>\n",
       "  <tbody>\n",
       "    <tr>\n",
       "      <th>0</th>\n",
       "      <td>2017-04</td>\n",
       "      <td>C_ID_0ab67a22ab</td>\n",
       "      <td>3</td>\n",
       "      <td>3</td>\n",
       "      <td>1</td>\n",
       "      <td>N</td>\n",
       "      <td>235</td>\n",
       "      <td>N</td>\n",
       "      <td>1.0</td>\n",
       "      <td>B</td>\n",
       "      <td>412</td>\n",
       "      <td>M_ID_85a5803161</td>\n",
       "      <td>-8</td>\n",
       "      <td>-0.697320</td>\n",
       "      <td>2017-04-27 14:17:27</td>\n",
       "      <td>1.0</td>\n",
       "      <td>12</td>\n",
       "      <td>18</td>\n",
       "      <td>1</td>\n",
       "    </tr>\n",
       "    <tr>\n",
       "      <th>1</th>\n",
       "      <td>2017-04</td>\n",
       "      <td>C_ID_0ab67a22ab</td>\n",
       "      <td>3</td>\n",
       "      <td>3</td>\n",
       "      <td>1</td>\n",
       "      <td>Y</td>\n",
       "      <td>235</td>\n",
       "      <td>N</td>\n",
       "      <td>1.0</td>\n",
       "      <td>B</td>\n",
       "      <td>278</td>\n",
       "      <td>M_ID_c873d839bd</td>\n",
       "      <td>-3</td>\n",
       "      <td>-0.716855</td>\n",
       "      <td>2017-09-21 22:11:57</td>\n",
       "      <td>1.0</td>\n",
       "      <td>12</td>\n",
       "      <td>37</td>\n",
       "      <td>1</td>\n",
       "    </tr>\n",
       "  </tbody>\n",
       "</table>\n",
       "</div>"
      ],
      "text/plain": [
       "  first_active_month          card_id  feature_1  feature_2  feature_3  \\\n",
       "0            2017-04  C_ID_0ab67a22ab          3          3          1   \n",
       "1            2017-04  C_ID_0ab67a22ab          3          3          1   \n",
       "\n",
       "  authorized_flag  city_id category_1  installments category_3  \\\n",
       "0               N      235          N           1.0          B   \n",
       "1               Y      235          N           1.0          B   \n",
       "\n",
       "   merchant_category_id      merchant_id  month_lag  purchase_amount  \\\n",
       "0                   412  M_ID_85a5803161         -8        -0.697320   \n",
       "1                   278  M_ID_c873d839bd         -3        -0.716855   \n",
       "\n",
       "         purchase_date  category_2  state_id  subsector_id  for_count  \n",
       "0  2017-04-27 14:17:27         1.0        12            18          1  \n",
       "1  2017-09-21 22:11:57         1.0        12            37          1  "
      ]
     },
     "execution_count": 130,
     "metadata": {},
     "output_type": "execute_result"
    }
   ],
   "source": [
    "df_test_merg.head(2)\n",
    "# To check if \"for_count\" column was added properly"
   ]
  },
  {
   "cell_type": "code",
   "execution_count": 131,
   "metadata": {},
   "outputs": [],
   "source": [
    "df_test_sum = df_test_merg.groupby(by=\"card_id\", sort=False).sum()"
   ]
  },
  {
   "cell_type": "code",
   "execution_count": 132,
   "metadata": {},
   "outputs": [],
   "source": [
    "df_test_sum.reset_index(inplace=True)"
   ]
  },
  {
   "cell_type": "code",
   "execution_count": 133,
   "metadata": {},
   "outputs": [],
   "source": [
    "df_test[[\"total_purchase_amount\", \"total_purchase_numbers\"]] = df_test_sum[[\"purchase_amount\",\"for_count\"]]"
   ]
  },
  {
   "cell_type": "code",
   "execution_count": 134,
   "metadata": {},
   "outputs": [
    {
     "data": {
      "text/html": [
       "<div>\n",
       "<style scoped>\n",
       "    .dataframe tbody tr th:only-of-type {\n",
       "        vertical-align: middle;\n",
       "    }\n",
       "\n",
       "    .dataframe tbody tr th {\n",
       "        vertical-align: top;\n",
       "    }\n",
       "\n",
       "    .dataframe thead th {\n",
       "        text-align: right;\n",
       "    }\n",
       "</style>\n",
       "<table border=\"1\" class=\"dataframe\">\n",
       "  <thead>\n",
       "    <tr style=\"text-align: right;\">\n",
       "      <th></th>\n",
       "      <th>first_active_month</th>\n",
       "      <th>card_id</th>\n",
       "      <th>feature_1</th>\n",
       "      <th>feature_2</th>\n",
       "      <th>feature_3</th>\n",
       "      <th>ave_installments</th>\n",
       "      <th>ave_month_lag</th>\n",
       "      <th>ave_purchase_amount</th>\n",
       "      <th>total_purchase_amount</th>\n",
       "      <th>total_purchase_numbers</th>\n",
       "    </tr>\n",
       "  </thead>\n",
       "  <tbody>\n",
       "    <tr>\n",
       "      <th>0</th>\n",
       "      <td>2017-04</td>\n",
       "      <td>C_ID_0ab67a22ab</td>\n",
       "      <td>3</td>\n",
       "      <td>3</td>\n",
       "      <td>1</td>\n",
       "      <td>2.056338</td>\n",
       "      <td>-3.394366</td>\n",
       "      <td>-0.598745</td>\n",
       "      <td>-42.510888</td>\n",
       "      <td>71</td>\n",
       "    </tr>\n",
       "    <tr>\n",
       "      <th>1</th>\n",
       "      <td>2017-01</td>\n",
       "      <td>C_ID_130fd0cbdd</td>\n",
       "      <td>2</td>\n",
       "      <td>3</td>\n",
       "      <td>0</td>\n",
       "      <td>1.080460</td>\n",
       "      <td>-9.183908</td>\n",
       "      <td>-0.633117</td>\n",
       "      <td>-55.081212</td>\n",
       "      <td>87</td>\n",
       "    </tr>\n",
       "    <tr>\n",
       "      <th>2</th>\n",
       "      <td>2017-08</td>\n",
       "      <td>C_ID_b709037bc5</td>\n",
       "      <td>5</td>\n",
       "      <td>1</td>\n",
       "      <td>1</td>\n",
       "      <td>3.996247</td>\n",
       "      <td>-1.666667</td>\n",
       "      <td>0.313932</td>\n",
       "      <td>4.708978</td>\n",
       "      <td>15</td>\n",
       "    </tr>\n",
       "    <tr>\n",
       "      <th>3</th>\n",
       "      <td>2017-12</td>\n",
       "      <td>C_ID_d27d835a9f</td>\n",
       "      <td>2</td>\n",
       "      <td>1</td>\n",
       "      <td>0</td>\n",
       "      <td>1.952661</td>\n",
       "      <td>-0.527778</td>\n",
       "      <td>-0.539844</td>\n",
       "      <td>-19.434389</td>\n",
       "      <td>36</td>\n",
       "    </tr>\n",
       "    <tr>\n",
       "      <th>4</th>\n",
       "      <td>2015-12</td>\n",
       "      <td>C_ID_2b5e3df5c2</td>\n",
       "      <td>5</td>\n",
       "      <td>1</td>\n",
       "      <td>1</td>\n",
       "      <td>1.091792</td>\n",
       "      <td>-5.844828</td>\n",
       "      <td>0.320727</td>\n",
       "      <td>37.204381</td>\n",
       "      <td>116</td>\n",
       "    </tr>\n",
       "  </tbody>\n",
       "</table>\n",
       "</div>"
      ],
      "text/plain": [
       "  first_active_month          card_id  feature_1  feature_2  feature_3  \\\n",
       "0            2017-04  C_ID_0ab67a22ab          3          3          1   \n",
       "1            2017-01  C_ID_130fd0cbdd          2          3          0   \n",
       "2            2017-08  C_ID_b709037bc5          5          1          1   \n",
       "3            2017-12  C_ID_d27d835a9f          2          1          0   \n",
       "4            2015-12  C_ID_2b5e3df5c2          5          1          1   \n",
       "\n",
       "   ave_installments  ave_month_lag  ave_purchase_amount  \\\n",
       "0          2.056338      -3.394366            -0.598745   \n",
       "1          1.080460      -9.183908            -0.633117   \n",
       "2          3.996247      -1.666667             0.313932   \n",
       "3          1.952661      -0.527778            -0.539844   \n",
       "4          1.091792      -5.844828             0.320727   \n",
       "\n",
       "   total_purchase_amount  total_purchase_numbers  \n",
       "0             -42.510888                      71  \n",
       "1             -55.081212                      87  \n",
       "2               4.708978                      15  \n",
       "3             -19.434389                      36  \n",
       "4              37.204381                     116  "
      ]
     },
     "execution_count": 134,
     "metadata": {},
     "output_type": "execute_result"
    }
   ],
   "source": [
    "df_test.head()"
   ]
  },
  {
   "cell_type": "code",
   "execution_count": 135,
   "metadata": {},
   "outputs": [],
   "source": [
    "df_merch_cat_id_test = df_test_merg.groupby('card_id', sort=False)['merchant_category_id'].apply(list)"
   ]
  },
  {
   "cell_type": "code",
   "execution_count": 136,
   "metadata": {},
   "outputs": [],
   "source": [
    "df_merch_cat_id_test = df_merch_cat_id_test.reset_index()"
   ]
  },
  {
   "cell_type": "code",
   "execution_count": 137,
   "metadata": {},
   "outputs": [
    {
     "data": {
      "text/html": [
       "<div>\n",
       "<style scoped>\n",
       "    .dataframe tbody tr th:only-of-type {\n",
       "        vertical-align: middle;\n",
       "    }\n",
       "\n",
       "    .dataframe tbody tr th {\n",
       "        vertical-align: top;\n",
       "    }\n",
       "\n",
       "    .dataframe thead th {\n",
       "        text-align: right;\n",
       "    }\n",
       "</style>\n",
       "<table border=\"1\" class=\"dataframe\">\n",
       "  <thead>\n",
       "    <tr style=\"text-align: right;\">\n",
       "      <th></th>\n",
       "      <th>card_id</th>\n",
       "      <th>merchant_category_id</th>\n",
       "    </tr>\n",
       "  </thead>\n",
       "  <tbody>\n",
       "    <tr>\n",
       "      <th>0</th>\n",
       "      <td>C_ID_0ab67a22ab</td>\n",
       "      <td>[412, 278, 879, 80, 278, 307, 879, 879, 80, 29...</td>\n",
       "    </tr>\n",
       "    <tr>\n",
       "      <th>1</th>\n",
       "      <td>C_ID_130fd0cbdd</td>\n",
       "      <td>[705, 705, 705, 705, 130, 87, 367, 705, 195, 1...</td>\n",
       "    </tr>\n",
       "    <tr>\n",
       "      <th>2</th>\n",
       "      <td>C_ID_b709037bc5</td>\n",
       "      <td>[273, 422, 793, 769, 422, 529, 273, 87, 87, 87...</td>\n",
       "    </tr>\n",
       "    <tr>\n",
       "      <th>3</th>\n",
       "      <td>C_ID_d27d835a9f</td>\n",
       "      <td>[273, 560, 884, 774, 80, 63, 367, 683, 307, 42...</td>\n",
       "    </tr>\n",
       "    <tr>\n",
       "      <th>4</th>\n",
       "      <td>C_ID_2b5e3df5c2</td>\n",
       "      <td>[360, 437, 307, 222, 222, 437, 332, 307, 568, ...</td>\n",
       "    </tr>\n",
       "  </tbody>\n",
       "</table>\n",
       "</div>"
      ],
      "text/plain": [
       "           card_id                               merchant_category_id\n",
       "0  C_ID_0ab67a22ab  [412, 278, 879, 80, 278, 307, 879, 879, 80, 29...\n",
       "1  C_ID_130fd0cbdd  [705, 705, 705, 705, 130, 87, 367, 705, 195, 1...\n",
       "2  C_ID_b709037bc5  [273, 422, 793, 769, 422, 529, 273, 87, 87, 87...\n",
       "3  C_ID_d27d835a9f  [273, 560, 884, 774, 80, 63, 367, 683, 307, 42...\n",
       "4  C_ID_2b5e3df5c2  [360, 437, 307, 222, 222, 437, 332, 307, 568, ..."
      ]
     },
     "execution_count": 137,
     "metadata": {},
     "output_type": "execute_result"
    }
   ],
   "source": [
    "df_merch_cat_id_test.head()"
   ]
  },
  {
   "cell_type": "code",
   "execution_count": 138,
   "metadata": {},
   "outputs": [],
   "source": [
    "df_test[\"merchant_category_id\"] = df_merch_cat_id_test[\"merchant_category_id\"]"
   ]
  },
  {
   "cell_type": "code",
   "execution_count": 139,
   "metadata": {},
   "outputs": [
    {
     "data": {
      "text/html": [
       "<div>\n",
       "<style scoped>\n",
       "    .dataframe tbody tr th:only-of-type {\n",
       "        vertical-align: middle;\n",
       "    }\n",
       "\n",
       "    .dataframe tbody tr th {\n",
       "        vertical-align: top;\n",
       "    }\n",
       "\n",
       "    .dataframe thead th {\n",
       "        text-align: right;\n",
       "    }\n",
       "</style>\n",
       "<table border=\"1\" class=\"dataframe\">\n",
       "  <thead>\n",
       "    <tr style=\"text-align: right;\">\n",
       "      <th></th>\n",
       "      <th>first_active_month</th>\n",
       "      <th>card_id</th>\n",
       "      <th>feature_1</th>\n",
       "      <th>feature_2</th>\n",
       "      <th>feature_3</th>\n",
       "      <th>ave_installments</th>\n",
       "      <th>ave_month_lag</th>\n",
       "      <th>ave_purchase_amount</th>\n",
       "      <th>total_purchase_amount</th>\n",
       "      <th>total_purchase_numbers</th>\n",
       "      <th>merchant_category_id</th>\n",
       "    </tr>\n",
       "  </thead>\n",
       "  <tbody>\n",
       "    <tr>\n",
       "      <th>0</th>\n",
       "      <td>2017-04</td>\n",
       "      <td>C_ID_0ab67a22ab</td>\n",
       "      <td>3</td>\n",
       "      <td>3</td>\n",
       "      <td>1</td>\n",
       "      <td>2.056338</td>\n",
       "      <td>-3.394366</td>\n",
       "      <td>-0.598745</td>\n",
       "      <td>-42.510888</td>\n",
       "      <td>71</td>\n",
       "      <td>[412, 278, 879, 80, 278, 307, 879, 879, 80, 29...</td>\n",
       "    </tr>\n",
       "    <tr>\n",
       "      <th>1</th>\n",
       "      <td>2017-01</td>\n",
       "      <td>C_ID_130fd0cbdd</td>\n",
       "      <td>2</td>\n",
       "      <td>3</td>\n",
       "      <td>0</td>\n",
       "      <td>1.080460</td>\n",
       "      <td>-9.183908</td>\n",
       "      <td>-0.633117</td>\n",
       "      <td>-55.081212</td>\n",
       "      <td>87</td>\n",
       "      <td>[705, 705, 705, 705, 130, 87, 367, 705, 195, 1...</td>\n",
       "    </tr>\n",
       "  </tbody>\n",
       "</table>\n",
       "</div>"
      ],
      "text/plain": [
       "  first_active_month          card_id  feature_1  feature_2  feature_3  \\\n",
       "0            2017-04  C_ID_0ab67a22ab          3          3          1   \n",
       "1            2017-01  C_ID_130fd0cbdd          2          3          0   \n",
       "\n",
       "   ave_installments  ave_month_lag  ave_purchase_amount  \\\n",
       "0          2.056338      -3.394366            -0.598745   \n",
       "1          1.080460      -9.183908            -0.633117   \n",
       "\n",
       "   total_purchase_amount  total_purchase_numbers  \\\n",
       "0             -42.510888                      71   \n",
       "1             -55.081212                      87   \n",
       "\n",
       "                                merchant_category_id  \n",
       "0  [412, 278, 879, 80, 278, 307, 879, 879, 80, 29...  \n",
       "1  [705, 705, 705, 705, 130, 87, 367, 705, 195, 1...  "
      ]
     },
     "execution_count": 139,
     "metadata": {},
     "output_type": "execute_result"
    }
   ],
   "source": [
    "df_test.head(2)"
   ]
  },
  {
   "cell_type": "code",
   "execution_count": 140,
   "metadata": {},
   "outputs": [
    {
     "data": {
      "text/plain": [
       "array(['N', 'Y'], dtype=object)"
      ]
     },
     "execution_count": 140,
     "metadata": {},
     "output_type": "execute_result"
    }
   ],
   "source": [
    "df_test_merg['category_1'].unique()"
   ]
  },
  {
   "cell_type": "code",
   "execution_count": 141,
   "metadata": {},
   "outputs": [
    {
     "data": {
      "text/plain": [
       "array([ 1., nan,  4.,  3.,  5.,  2.])"
      ]
     },
     "execution_count": 141,
     "metadata": {},
     "output_type": "execute_result"
    }
   ],
   "source": [
    "df_test_merg['category_2'].unique()\n",
    "# nan will be treated as a seperate class bucket"
   ]
  },
  {
   "cell_type": "code",
   "execution_count": 142,
   "metadata": {},
   "outputs": [],
   "source": [
    "df_test_merg['category_2'].replace(to_replace=repl, value=None, inplace=True, limit=None, regex=False, method='pad')"
   ]
  },
  {
   "cell_type": "code",
   "execution_count": 143,
   "metadata": {},
   "outputs": [
    {
     "data": {
      "text/plain": [
       "array([1., 0., 4., 3., 5., 2.])"
      ]
     },
     "execution_count": 143,
     "metadata": {},
     "output_type": "execute_result"
    }
   ],
   "source": [
    "df_test_merg['category_2'].unique()"
   ]
  },
  {
   "cell_type": "code",
   "execution_count": 144,
   "metadata": {},
   "outputs": [
    {
     "data": {
      "text/plain": [
       "array(['B', 'C', nan, 'A'], dtype=object)"
      ]
     },
     "execution_count": 144,
     "metadata": {},
     "output_type": "execute_result"
    }
   ],
   "source": [
    "df_test_merg['category_3'].unique()\n",
    "# nan will be treated as a seperate class bucket"
   ]
  },
  {
   "cell_type": "code",
   "execution_count": 145,
   "metadata": {},
   "outputs": [],
   "source": [
    "df_test_merg['category_3'].replace(to_replace={np.nan: \"D\"}, value=None, inplace=True, limit=None, regex=False, method='pad')"
   ]
  },
  {
   "cell_type": "code",
   "execution_count": 146,
   "metadata": {},
   "outputs": [
    {
     "data": {
      "text/plain": [
       "array(['B', 'C', 'D', 'A'], dtype=object)"
      ]
     },
     "execution_count": 146,
     "metadata": {},
     "output_type": "execute_result"
    }
   ],
   "source": [
    "df_test_merg['category_3'].unique()"
   ]
  },
  {
   "cell_type": "code",
   "execution_count": 147,
   "metadata": {},
   "outputs": [],
   "source": [
    "df_cat1_lst_test = df_test_merg.groupby('card_id', sort=False)['category_1'].apply(list)"
   ]
  },
  {
   "cell_type": "code",
   "execution_count": 148,
   "metadata": {},
   "outputs": [],
   "source": [
    "df_cat1_lst_test = df_cat1_lst_test.reset_index()"
   ]
  },
  {
   "cell_type": "code",
   "execution_count": 149,
   "metadata": {},
   "outputs": [
    {
     "data": {
      "text/html": [
       "<div>\n",
       "<style scoped>\n",
       "    .dataframe tbody tr th:only-of-type {\n",
       "        vertical-align: middle;\n",
       "    }\n",
       "\n",
       "    .dataframe tbody tr th {\n",
       "        vertical-align: top;\n",
       "    }\n",
       "\n",
       "    .dataframe thead th {\n",
       "        text-align: right;\n",
       "    }\n",
       "</style>\n",
       "<table border=\"1\" class=\"dataframe\">\n",
       "  <thead>\n",
       "    <tr style=\"text-align: right;\">\n",
       "      <th></th>\n",
       "      <th>card_id</th>\n",
       "      <th>category_1</th>\n",
       "    </tr>\n",
       "  </thead>\n",
       "  <tbody>\n",
       "    <tr>\n",
       "      <th>0</th>\n",
       "      <td>C_ID_0ab67a22ab</td>\n",
       "      <td>[N, N, Y, N, N, N, N, Y, N, N, Y, Y, Y, N, N, ...</td>\n",
       "    </tr>\n",
       "    <tr>\n",
       "      <th>1</th>\n",
       "      <td>C_ID_130fd0cbdd</td>\n",
       "      <td>[N, N, N, N, N, N, N, N, N, N, N, N, N, N, N, ...</td>\n",
       "    </tr>\n",
       "  </tbody>\n",
       "</table>\n",
       "</div>"
      ],
      "text/plain": [
       "           card_id                                         category_1\n",
       "0  C_ID_0ab67a22ab  [N, N, Y, N, N, N, N, Y, N, N, Y, Y, Y, N, N, ...\n",
       "1  C_ID_130fd0cbdd  [N, N, N, N, N, N, N, N, N, N, N, N, N, N, N, ..."
      ]
     },
     "execution_count": 149,
     "metadata": {},
     "output_type": "execute_result"
    }
   ],
   "source": [
    "df_cat1_lst_test.head(2)"
   ]
  },
  {
   "cell_type": "code",
   "execution_count": 150,
   "metadata": {},
   "outputs": [],
   "source": [
    "df_test[\"category_1\"] = df_cat1_lst_test['category_1']"
   ]
  },
  {
   "cell_type": "code",
   "execution_count": 151,
   "metadata": {},
   "outputs": [
    {
     "data": {
      "text/html": [
       "<div>\n",
       "<style scoped>\n",
       "    .dataframe tbody tr th:only-of-type {\n",
       "        vertical-align: middle;\n",
       "    }\n",
       "\n",
       "    .dataframe tbody tr th {\n",
       "        vertical-align: top;\n",
       "    }\n",
       "\n",
       "    .dataframe thead th {\n",
       "        text-align: right;\n",
       "    }\n",
       "</style>\n",
       "<table border=\"1\" class=\"dataframe\">\n",
       "  <thead>\n",
       "    <tr style=\"text-align: right;\">\n",
       "      <th></th>\n",
       "      <th>first_active_month</th>\n",
       "      <th>card_id</th>\n",
       "      <th>feature_1</th>\n",
       "      <th>feature_2</th>\n",
       "      <th>feature_3</th>\n",
       "      <th>ave_installments</th>\n",
       "      <th>ave_month_lag</th>\n",
       "      <th>ave_purchase_amount</th>\n",
       "      <th>total_purchase_amount</th>\n",
       "      <th>total_purchase_numbers</th>\n",
       "      <th>merchant_category_id</th>\n",
       "      <th>category_1</th>\n",
       "    </tr>\n",
       "  </thead>\n",
       "  <tbody>\n",
       "    <tr>\n",
       "      <th>0</th>\n",
       "      <td>2017-04</td>\n",
       "      <td>C_ID_0ab67a22ab</td>\n",
       "      <td>3</td>\n",
       "      <td>3</td>\n",
       "      <td>1</td>\n",
       "      <td>2.056338</td>\n",
       "      <td>-3.394366</td>\n",
       "      <td>-0.598745</td>\n",
       "      <td>-42.510888</td>\n",
       "      <td>71</td>\n",
       "      <td>[412, 278, 879, 80, 278, 307, 879, 879, 80, 29...</td>\n",
       "      <td>[N, N, Y, N, N, N, N, Y, N, N, Y, Y, Y, N, N, ...</td>\n",
       "    </tr>\n",
       "    <tr>\n",
       "      <th>1</th>\n",
       "      <td>2017-01</td>\n",
       "      <td>C_ID_130fd0cbdd</td>\n",
       "      <td>2</td>\n",
       "      <td>3</td>\n",
       "      <td>0</td>\n",
       "      <td>1.080460</td>\n",
       "      <td>-9.183908</td>\n",
       "      <td>-0.633117</td>\n",
       "      <td>-55.081212</td>\n",
       "      <td>87</td>\n",
       "      <td>[705, 705, 705, 705, 130, 87, 367, 705, 195, 1...</td>\n",
       "      <td>[N, N, N, N, N, N, N, N, N, N, N, N, N, N, N, ...</td>\n",
       "    </tr>\n",
       "  </tbody>\n",
       "</table>\n",
       "</div>"
      ],
      "text/plain": [
       "  first_active_month          card_id  feature_1  feature_2  feature_3  \\\n",
       "0            2017-04  C_ID_0ab67a22ab          3          3          1   \n",
       "1            2017-01  C_ID_130fd0cbdd          2          3          0   \n",
       "\n",
       "   ave_installments  ave_month_lag  ave_purchase_amount  \\\n",
       "0          2.056338      -3.394366            -0.598745   \n",
       "1          1.080460      -9.183908            -0.633117   \n",
       "\n",
       "   total_purchase_amount  total_purchase_numbers  \\\n",
       "0             -42.510888                      71   \n",
       "1             -55.081212                      87   \n",
       "\n",
       "                                merchant_category_id  \\\n",
       "0  [412, 278, 879, 80, 278, 307, 879, 879, 80, 29...   \n",
       "1  [705, 705, 705, 705, 130, 87, 367, 705, 195, 1...   \n",
       "\n",
       "                                          category_1  \n",
       "0  [N, N, Y, N, N, N, N, Y, N, N, Y, Y, Y, N, N, ...  \n",
       "1  [N, N, N, N, N, N, N, N, N, N, N, N, N, N, N, ...  "
      ]
     },
     "execution_count": 151,
     "metadata": {},
     "output_type": "execute_result"
    }
   ],
   "source": [
    "df_test.head(2)"
   ]
  },
  {
   "cell_type": "code",
   "execution_count": 152,
   "metadata": {},
   "outputs": [],
   "source": [
    "df_cat2_lst_test = df_test_merg.groupby('card_id', sort=False)['category_2'].apply(list)"
   ]
  },
  {
   "cell_type": "code",
   "execution_count": 153,
   "metadata": {},
   "outputs": [],
   "source": [
    "df_cat2_lst_test = df_cat2_lst_test.reset_index()"
   ]
  },
  {
   "cell_type": "code",
   "execution_count": 154,
   "metadata": {},
   "outputs": [
    {
     "data": {
      "text/html": [
       "<div>\n",
       "<style scoped>\n",
       "    .dataframe tbody tr th:only-of-type {\n",
       "        vertical-align: middle;\n",
       "    }\n",
       "\n",
       "    .dataframe tbody tr th {\n",
       "        vertical-align: top;\n",
       "    }\n",
       "\n",
       "    .dataframe thead th {\n",
       "        text-align: right;\n",
       "    }\n",
       "</style>\n",
       "<table border=\"1\" class=\"dataframe\">\n",
       "  <thead>\n",
       "    <tr style=\"text-align: right;\">\n",
       "      <th></th>\n",
       "      <th>card_id</th>\n",
       "      <th>category_2</th>\n",
       "    </tr>\n",
       "  </thead>\n",
       "  <tbody>\n",
       "    <tr>\n",
       "      <th>0</th>\n",
       "      <td>C_ID_0ab67a22ab</td>\n",
       "      <td>[1.0, 1.0, 0.0, 1.0, 1.0, 1.0, 1.0, 0.0, 1.0, ...</td>\n",
       "    </tr>\n",
       "    <tr>\n",
       "      <th>1</th>\n",
       "      <td>C_ID_130fd0cbdd</td>\n",
       "      <td>[4.0, 4.0, 4.0, 4.0, 4.0, 4.0, 4.0, 4.0, 4.0, ...</td>\n",
       "    </tr>\n",
       "  </tbody>\n",
       "</table>\n",
       "</div>"
      ],
      "text/plain": [
       "           card_id                                         category_2\n",
       "0  C_ID_0ab67a22ab  [1.0, 1.0, 0.0, 1.0, 1.0, 1.0, 1.0, 0.0, 1.0, ...\n",
       "1  C_ID_130fd0cbdd  [4.0, 4.0, 4.0, 4.0, 4.0, 4.0, 4.0, 4.0, 4.0, ..."
      ]
     },
     "execution_count": 154,
     "metadata": {},
     "output_type": "execute_result"
    }
   ],
   "source": [
    "df_cat2_lst_test.head(2)"
   ]
  },
  {
   "cell_type": "code",
   "execution_count": 155,
   "metadata": {},
   "outputs": [],
   "source": [
    "df_test[\"category_2\"] = df_cat2_lst_test['category_2']"
   ]
  },
  {
   "cell_type": "code",
   "execution_count": 156,
   "metadata": {},
   "outputs": [
    {
     "data": {
      "text/html": [
       "<div>\n",
       "<style scoped>\n",
       "    .dataframe tbody tr th:only-of-type {\n",
       "        vertical-align: middle;\n",
       "    }\n",
       "\n",
       "    .dataframe tbody tr th {\n",
       "        vertical-align: top;\n",
       "    }\n",
       "\n",
       "    .dataframe thead th {\n",
       "        text-align: right;\n",
       "    }\n",
       "</style>\n",
       "<table border=\"1\" class=\"dataframe\">\n",
       "  <thead>\n",
       "    <tr style=\"text-align: right;\">\n",
       "      <th></th>\n",
       "      <th>first_active_month</th>\n",
       "      <th>card_id</th>\n",
       "      <th>feature_1</th>\n",
       "      <th>feature_2</th>\n",
       "      <th>feature_3</th>\n",
       "      <th>ave_installments</th>\n",
       "      <th>ave_month_lag</th>\n",
       "      <th>ave_purchase_amount</th>\n",
       "      <th>total_purchase_amount</th>\n",
       "      <th>total_purchase_numbers</th>\n",
       "      <th>merchant_category_id</th>\n",
       "      <th>category_1</th>\n",
       "      <th>category_2</th>\n",
       "    </tr>\n",
       "  </thead>\n",
       "  <tbody>\n",
       "    <tr>\n",
       "      <th>0</th>\n",
       "      <td>2017-04</td>\n",
       "      <td>C_ID_0ab67a22ab</td>\n",
       "      <td>3</td>\n",
       "      <td>3</td>\n",
       "      <td>1</td>\n",
       "      <td>2.056338</td>\n",
       "      <td>-3.394366</td>\n",
       "      <td>-0.598745</td>\n",
       "      <td>-42.510888</td>\n",
       "      <td>71</td>\n",
       "      <td>[412, 278, 879, 80, 278, 307, 879, 879, 80, 29...</td>\n",
       "      <td>[N, N, Y, N, N, N, N, Y, N, N, Y, Y, Y, N, N, ...</td>\n",
       "      <td>[1.0, 1.0, 0.0, 1.0, 1.0, 1.0, 1.0, 0.0, 1.0, ...</td>\n",
       "    </tr>\n",
       "    <tr>\n",
       "      <th>1</th>\n",
       "      <td>2017-01</td>\n",
       "      <td>C_ID_130fd0cbdd</td>\n",
       "      <td>2</td>\n",
       "      <td>3</td>\n",
       "      <td>0</td>\n",
       "      <td>1.080460</td>\n",
       "      <td>-9.183908</td>\n",
       "      <td>-0.633117</td>\n",
       "      <td>-55.081212</td>\n",
       "      <td>87</td>\n",
       "      <td>[705, 705, 705, 705, 130, 87, 367, 705, 195, 1...</td>\n",
       "      <td>[N, N, N, N, N, N, N, N, N, N, N, N, N, N, N, ...</td>\n",
       "      <td>[4.0, 4.0, 4.0, 4.0, 4.0, 4.0, 4.0, 4.0, 4.0, ...</td>\n",
       "    </tr>\n",
       "  </tbody>\n",
       "</table>\n",
       "</div>"
      ],
      "text/plain": [
       "  first_active_month          card_id  feature_1  feature_2  feature_3  \\\n",
       "0            2017-04  C_ID_0ab67a22ab          3          3          1   \n",
       "1            2017-01  C_ID_130fd0cbdd          2          3          0   \n",
       "\n",
       "   ave_installments  ave_month_lag  ave_purchase_amount  \\\n",
       "0          2.056338      -3.394366            -0.598745   \n",
       "1          1.080460      -9.183908            -0.633117   \n",
       "\n",
       "   total_purchase_amount  total_purchase_numbers  \\\n",
       "0             -42.510888                      71   \n",
       "1             -55.081212                      87   \n",
       "\n",
       "                                merchant_category_id  \\\n",
       "0  [412, 278, 879, 80, 278, 307, 879, 879, 80, 29...   \n",
       "1  [705, 705, 705, 705, 130, 87, 367, 705, 195, 1...   \n",
       "\n",
       "                                          category_1  \\\n",
       "0  [N, N, Y, N, N, N, N, Y, N, N, Y, Y, Y, N, N, ...   \n",
       "1  [N, N, N, N, N, N, N, N, N, N, N, N, N, N, N, ...   \n",
       "\n",
       "                                          category_2  \n",
       "0  [1.0, 1.0, 0.0, 1.0, 1.0, 1.0, 1.0, 0.0, 1.0, ...  \n",
       "1  [4.0, 4.0, 4.0, 4.0, 4.0, 4.0, 4.0, 4.0, 4.0, ...  "
      ]
     },
     "execution_count": 156,
     "metadata": {},
     "output_type": "execute_result"
    }
   ],
   "source": [
    "df_test.head(2)"
   ]
  },
  {
   "cell_type": "code",
   "execution_count": 157,
   "metadata": {},
   "outputs": [],
   "source": [
    "df_cat3_lst_test = df_test_merg.groupby('card_id', sort=False)['category_3'].apply(list)"
   ]
  },
  {
   "cell_type": "code",
   "execution_count": 158,
   "metadata": {},
   "outputs": [],
   "source": [
    "df_cat3_lst_test = df_cat3_lst_test.reset_index()"
   ]
  },
  {
   "cell_type": "code",
   "execution_count": 159,
   "metadata": {},
   "outputs": [
    {
     "data": {
      "text/html": [
       "<div>\n",
       "<style scoped>\n",
       "    .dataframe tbody tr th:only-of-type {\n",
       "        vertical-align: middle;\n",
       "    }\n",
       "\n",
       "    .dataframe tbody tr th {\n",
       "        vertical-align: top;\n",
       "    }\n",
       "\n",
       "    .dataframe thead th {\n",
       "        text-align: right;\n",
       "    }\n",
       "</style>\n",
       "<table border=\"1\" class=\"dataframe\">\n",
       "  <thead>\n",
       "    <tr style=\"text-align: right;\">\n",
       "      <th></th>\n",
       "      <th>card_id</th>\n",
       "      <th>category_3</th>\n",
       "    </tr>\n",
       "  </thead>\n",
       "  <tbody>\n",
       "    <tr>\n",
       "      <th>0</th>\n",
       "      <td>C_ID_0ab67a22ab</td>\n",
       "      <td>[B, B, C, B, B, B, B, C, B, B, C, C, C, B, B, ...</td>\n",
       "    </tr>\n",
       "    <tr>\n",
       "      <th>1</th>\n",
       "      <td>C_ID_130fd0cbdd</td>\n",
       "      <td>[B, B, B, B, B, C, B, B, B, B, B, B, B, B, B, ...</td>\n",
       "    </tr>\n",
       "  </tbody>\n",
       "</table>\n",
       "</div>"
      ],
      "text/plain": [
       "           card_id                                         category_3\n",
       "0  C_ID_0ab67a22ab  [B, B, C, B, B, B, B, C, B, B, C, C, C, B, B, ...\n",
       "1  C_ID_130fd0cbdd  [B, B, B, B, B, C, B, B, B, B, B, B, B, B, B, ..."
      ]
     },
     "execution_count": 159,
     "metadata": {},
     "output_type": "execute_result"
    }
   ],
   "source": [
    "df_cat3_lst_test.head(2)"
   ]
  },
  {
   "cell_type": "code",
   "execution_count": 160,
   "metadata": {},
   "outputs": [],
   "source": [
    "df_test[\"category_3\"] = df_cat3_lst_test['category_3']"
   ]
  },
  {
   "cell_type": "code",
   "execution_count": 161,
   "metadata": {},
   "outputs": [
    {
     "data": {
      "text/html": [
       "<div>\n",
       "<style scoped>\n",
       "    .dataframe tbody tr th:only-of-type {\n",
       "        vertical-align: middle;\n",
       "    }\n",
       "\n",
       "    .dataframe tbody tr th {\n",
       "        vertical-align: top;\n",
       "    }\n",
       "\n",
       "    .dataframe thead th {\n",
       "        text-align: right;\n",
       "    }\n",
       "</style>\n",
       "<table border=\"1\" class=\"dataframe\">\n",
       "  <thead>\n",
       "    <tr style=\"text-align: right;\">\n",
       "      <th></th>\n",
       "      <th>first_active_month</th>\n",
       "      <th>card_id</th>\n",
       "      <th>feature_1</th>\n",
       "      <th>feature_2</th>\n",
       "      <th>feature_3</th>\n",
       "      <th>ave_installments</th>\n",
       "      <th>ave_month_lag</th>\n",
       "      <th>ave_purchase_amount</th>\n",
       "      <th>total_purchase_amount</th>\n",
       "      <th>total_purchase_numbers</th>\n",
       "      <th>merchant_category_id</th>\n",
       "      <th>category_1</th>\n",
       "      <th>category_2</th>\n",
       "      <th>category_3</th>\n",
       "    </tr>\n",
       "  </thead>\n",
       "  <tbody>\n",
       "    <tr>\n",
       "      <th>0</th>\n",
       "      <td>2017-04</td>\n",
       "      <td>C_ID_0ab67a22ab</td>\n",
       "      <td>3</td>\n",
       "      <td>3</td>\n",
       "      <td>1</td>\n",
       "      <td>2.056338</td>\n",
       "      <td>-3.394366</td>\n",
       "      <td>-0.598745</td>\n",
       "      <td>-42.510888</td>\n",
       "      <td>71</td>\n",
       "      <td>[412, 278, 879, 80, 278, 307, 879, 879, 80, 29...</td>\n",
       "      <td>[N, N, Y, N, N, N, N, Y, N, N, Y, Y, Y, N, N, ...</td>\n",
       "      <td>[1.0, 1.0, 0.0, 1.0, 1.0, 1.0, 1.0, 0.0, 1.0, ...</td>\n",
       "      <td>[B, B, C, B, B, B, B, C, B, B, C, C, C, B, B, ...</td>\n",
       "    </tr>\n",
       "    <tr>\n",
       "      <th>1</th>\n",
       "      <td>2017-01</td>\n",
       "      <td>C_ID_130fd0cbdd</td>\n",
       "      <td>2</td>\n",
       "      <td>3</td>\n",
       "      <td>0</td>\n",
       "      <td>1.080460</td>\n",
       "      <td>-9.183908</td>\n",
       "      <td>-0.633117</td>\n",
       "      <td>-55.081212</td>\n",
       "      <td>87</td>\n",
       "      <td>[705, 705, 705, 705, 130, 87, 367, 705, 195, 1...</td>\n",
       "      <td>[N, N, N, N, N, N, N, N, N, N, N, N, N, N, N, ...</td>\n",
       "      <td>[4.0, 4.0, 4.0, 4.0, 4.0, 4.0, 4.0, 4.0, 4.0, ...</td>\n",
       "      <td>[B, B, B, B, B, C, B, B, B, B, B, B, B, B, B, ...</td>\n",
       "    </tr>\n",
       "  </tbody>\n",
       "</table>\n",
       "</div>"
      ],
      "text/plain": [
       "  first_active_month          card_id  feature_1  feature_2  feature_3  \\\n",
       "0            2017-04  C_ID_0ab67a22ab          3          3          1   \n",
       "1            2017-01  C_ID_130fd0cbdd          2          3          0   \n",
       "\n",
       "   ave_installments  ave_month_lag  ave_purchase_amount  \\\n",
       "0          2.056338      -3.394366            -0.598745   \n",
       "1          1.080460      -9.183908            -0.633117   \n",
       "\n",
       "   total_purchase_amount  total_purchase_numbers  \\\n",
       "0             -42.510888                      71   \n",
       "1             -55.081212                      87   \n",
       "\n",
       "                                merchant_category_id  \\\n",
       "0  [412, 278, 879, 80, 278, 307, 879, 879, 80, 29...   \n",
       "1  [705, 705, 705, 705, 130, 87, 367, 705, 195, 1...   \n",
       "\n",
       "                                          category_1  \\\n",
       "0  [N, N, Y, N, N, N, N, Y, N, N, Y, Y, Y, N, N, ...   \n",
       "1  [N, N, N, N, N, N, N, N, N, N, N, N, N, N, N, ...   \n",
       "\n",
       "                                          category_2  \\\n",
       "0  [1.0, 1.0, 0.0, 1.0, 1.0, 1.0, 1.0, 0.0, 1.0, ...   \n",
       "1  [4.0, 4.0, 4.0, 4.0, 4.0, 4.0, 4.0, 4.0, 4.0, ...   \n",
       "\n",
       "                                          category_3  \n",
       "0  [B, B, C, B, B, B, B, C, B, B, C, C, C, B, B, ...  \n",
       "1  [B, B, B, B, B, C, B, B, B, B, B, B, B, B, B, ...  "
      ]
     },
     "execution_count": 161,
     "metadata": {},
     "output_type": "execute_result"
    }
   ],
   "source": [
    "df_test.head(2)"
   ]
  },
  {
   "cell_type": "code",
   "execution_count": 162,
   "metadata": {},
   "outputs": [],
   "source": [
    "df_cityID_lst_test = df_test_merg.groupby('card_id', sort=False)['city_id'].apply(list)"
   ]
  },
  {
   "cell_type": "code",
   "execution_count": 163,
   "metadata": {},
   "outputs": [],
   "source": [
    "df_cityID_lst_test = df_cityID_lst_test.reset_index()"
   ]
  },
  {
   "cell_type": "code",
   "execution_count": 164,
   "metadata": {},
   "outputs": [
    {
     "data": {
      "text/html": [
       "<div>\n",
       "<style scoped>\n",
       "    .dataframe tbody tr th:only-of-type {\n",
       "        vertical-align: middle;\n",
       "    }\n",
       "\n",
       "    .dataframe tbody tr th {\n",
       "        vertical-align: top;\n",
       "    }\n",
       "\n",
       "    .dataframe thead th {\n",
       "        text-align: right;\n",
       "    }\n",
       "</style>\n",
       "<table border=\"1\" class=\"dataframe\">\n",
       "  <thead>\n",
       "    <tr style=\"text-align: right;\">\n",
       "      <th></th>\n",
       "      <th>card_id</th>\n",
       "      <th>city_id</th>\n",
       "    </tr>\n",
       "  </thead>\n",
       "  <tbody>\n",
       "    <tr>\n",
       "      <th>0</th>\n",
       "      <td>C_ID_0ab67a22ab</td>\n",
       "      <td>[235, 235, -1, 235, 235, 79, 69, -1, 235, 235,...</td>\n",
       "    </tr>\n",
       "    <tr>\n",
       "      <th>1</th>\n",
       "      <td>C_ID_130fd0cbdd</td>\n",
       "      <td>[117, 117, 117, 117, 117, 117, 117, 117, 117, ...</td>\n",
       "    </tr>\n",
       "  </tbody>\n",
       "</table>\n",
       "</div>"
      ],
      "text/plain": [
       "           card_id                                            city_id\n",
       "0  C_ID_0ab67a22ab  [235, 235, -1, 235, 235, 79, 69, -1, 235, 235,...\n",
       "1  C_ID_130fd0cbdd  [117, 117, 117, 117, 117, 117, 117, 117, 117, ..."
      ]
     },
     "execution_count": 164,
     "metadata": {},
     "output_type": "execute_result"
    }
   ],
   "source": [
    "df_cityID_lst_test.head(2)"
   ]
  },
  {
   "cell_type": "code",
   "execution_count": 165,
   "metadata": {},
   "outputs": [],
   "source": [
    "df_test[\"city_id\"] = df_cityID_lst_test['city_id']"
   ]
  },
  {
   "cell_type": "code",
   "execution_count": 166,
   "metadata": {},
   "outputs": [
    {
     "data": {
      "text/html": [
       "<div>\n",
       "<style scoped>\n",
       "    .dataframe tbody tr th:only-of-type {\n",
       "        vertical-align: middle;\n",
       "    }\n",
       "\n",
       "    .dataframe tbody tr th {\n",
       "        vertical-align: top;\n",
       "    }\n",
       "\n",
       "    .dataframe thead th {\n",
       "        text-align: right;\n",
       "    }\n",
       "</style>\n",
       "<table border=\"1\" class=\"dataframe\">\n",
       "  <thead>\n",
       "    <tr style=\"text-align: right;\">\n",
       "      <th></th>\n",
       "      <th>first_active_month</th>\n",
       "      <th>card_id</th>\n",
       "      <th>feature_1</th>\n",
       "      <th>feature_2</th>\n",
       "      <th>feature_3</th>\n",
       "      <th>ave_installments</th>\n",
       "      <th>ave_month_lag</th>\n",
       "      <th>ave_purchase_amount</th>\n",
       "      <th>total_purchase_amount</th>\n",
       "      <th>total_purchase_numbers</th>\n",
       "      <th>merchant_category_id</th>\n",
       "      <th>category_1</th>\n",
       "      <th>category_2</th>\n",
       "      <th>category_3</th>\n",
       "      <th>city_id</th>\n",
       "    </tr>\n",
       "  </thead>\n",
       "  <tbody>\n",
       "    <tr>\n",
       "      <th>0</th>\n",
       "      <td>2017-04</td>\n",
       "      <td>C_ID_0ab67a22ab</td>\n",
       "      <td>3</td>\n",
       "      <td>3</td>\n",
       "      <td>1</td>\n",
       "      <td>2.056338</td>\n",
       "      <td>-3.394366</td>\n",
       "      <td>-0.598745</td>\n",
       "      <td>-42.510888</td>\n",
       "      <td>71</td>\n",
       "      <td>[412, 278, 879, 80, 278, 307, 879, 879, 80, 29...</td>\n",
       "      <td>[N, N, Y, N, N, N, N, Y, N, N, Y, Y, Y, N, N, ...</td>\n",
       "      <td>[1.0, 1.0, 0.0, 1.0, 1.0, 1.0, 1.0, 0.0, 1.0, ...</td>\n",
       "      <td>[B, B, C, B, B, B, B, C, B, B, C, C, C, B, B, ...</td>\n",
       "      <td>[235, 235, -1, 235, 235, 79, 69, -1, 235, 235,...</td>\n",
       "    </tr>\n",
       "    <tr>\n",
       "      <th>1</th>\n",
       "      <td>2017-01</td>\n",
       "      <td>C_ID_130fd0cbdd</td>\n",
       "      <td>2</td>\n",
       "      <td>3</td>\n",
       "      <td>0</td>\n",
       "      <td>1.080460</td>\n",
       "      <td>-9.183908</td>\n",
       "      <td>-0.633117</td>\n",
       "      <td>-55.081212</td>\n",
       "      <td>87</td>\n",
       "      <td>[705, 705, 705, 705, 130, 87, 367, 705, 195, 1...</td>\n",
       "      <td>[N, N, N, N, N, N, N, N, N, N, N, N, N, N, N, ...</td>\n",
       "      <td>[4.0, 4.0, 4.0, 4.0, 4.0, 4.0, 4.0, 4.0, 4.0, ...</td>\n",
       "      <td>[B, B, B, B, B, C, B, B, B, B, B, B, B, B, B, ...</td>\n",
       "      <td>[117, 117, 117, 117, 117, 117, 117, 117, 117, ...</td>\n",
       "    </tr>\n",
       "  </tbody>\n",
       "</table>\n",
       "</div>"
      ],
      "text/plain": [
       "  first_active_month          card_id  feature_1  feature_2  feature_3  \\\n",
       "0            2017-04  C_ID_0ab67a22ab          3          3          1   \n",
       "1            2017-01  C_ID_130fd0cbdd          2          3          0   \n",
       "\n",
       "   ave_installments  ave_month_lag  ave_purchase_amount  \\\n",
       "0          2.056338      -3.394366            -0.598745   \n",
       "1          1.080460      -9.183908            -0.633117   \n",
       "\n",
       "   total_purchase_amount  total_purchase_numbers  \\\n",
       "0             -42.510888                      71   \n",
       "1             -55.081212                      87   \n",
       "\n",
       "                                merchant_category_id  \\\n",
       "0  [412, 278, 879, 80, 278, 307, 879, 879, 80, 29...   \n",
       "1  [705, 705, 705, 705, 130, 87, 367, 705, 195, 1...   \n",
       "\n",
       "                                          category_1  \\\n",
       "0  [N, N, Y, N, N, N, N, Y, N, N, Y, Y, Y, N, N, ...   \n",
       "1  [N, N, N, N, N, N, N, N, N, N, N, N, N, N, N, ...   \n",
       "\n",
       "                                          category_2  \\\n",
       "0  [1.0, 1.0, 0.0, 1.0, 1.0, 1.0, 1.0, 0.0, 1.0, ...   \n",
       "1  [4.0, 4.0, 4.0, 4.0, 4.0, 4.0, 4.0, 4.0, 4.0, ...   \n",
       "\n",
       "                                          category_3  \\\n",
       "0  [B, B, C, B, B, B, B, C, B, B, C, C, C, B, B, ...   \n",
       "1  [B, B, B, B, B, C, B, B, B, B, B, B, B, B, B, ...   \n",
       "\n",
       "                                             city_id  \n",
       "0  [235, 235, -1, 235, 235, 79, 69, -1, 235, 235,...  \n",
       "1  [117, 117, 117, 117, 117, 117, 117, 117, 117, ...  "
      ]
     },
     "execution_count": 166,
     "metadata": {},
     "output_type": "execute_result"
    }
   ],
   "source": [
    "df_test.head(2)"
   ]
  },
  {
   "cell_type": "code",
   "execution_count": 167,
   "metadata": {},
   "outputs": [],
   "source": [
    "df_stateID_lst_test = df_test_merg.groupby('card_id', sort=False)['state_id'].apply(list)"
   ]
  },
  {
   "cell_type": "code",
   "execution_count": 168,
   "metadata": {},
   "outputs": [],
   "source": [
    "df_stateID_lst_test = df_stateID_lst_test.reset_index()"
   ]
  },
  {
   "cell_type": "code",
   "execution_count": 169,
   "metadata": {},
   "outputs": [
    {
     "data": {
      "text/html": [
       "<div>\n",
       "<style scoped>\n",
       "    .dataframe tbody tr th:only-of-type {\n",
       "        vertical-align: middle;\n",
       "    }\n",
       "\n",
       "    .dataframe tbody tr th {\n",
       "        vertical-align: top;\n",
       "    }\n",
       "\n",
       "    .dataframe thead th {\n",
       "        text-align: right;\n",
       "    }\n",
       "</style>\n",
       "<table border=\"1\" class=\"dataframe\">\n",
       "  <thead>\n",
       "    <tr style=\"text-align: right;\">\n",
       "      <th></th>\n",
       "      <th>card_id</th>\n",
       "      <th>state_id</th>\n",
       "    </tr>\n",
       "  </thead>\n",
       "  <tbody>\n",
       "    <tr>\n",
       "      <th>0</th>\n",
       "      <td>C_ID_0ab67a22ab</td>\n",
       "      <td>[12, 12, -1, 12, 12, 12, 9, -1, 12, 12, -1, -1...</td>\n",
       "    </tr>\n",
       "    <tr>\n",
       "      <th>1</th>\n",
       "      <td>C_ID_130fd0cbdd</td>\n",
       "      <td>[13, 13, 13, 13, 13, 13, 13, 13, 13, 13, 13, 1...</td>\n",
       "    </tr>\n",
       "  </tbody>\n",
       "</table>\n",
       "</div>"
      ],
      "text/plain": [
       "           card_id                                           state_id\n",
       "0  C_ID_0ab67a22ab  [12, 12, -1, 12, 12, 12, 9, -1, 12, 12, -1, -1...\n",
       "1  C_ID_130fd0cbdd  [13, 13, 13, 13, 13, 13, 13, 13, 13, 13, 13, 1..."
      ]
     },
     "execution_count": 169,
     "metadata": {},
     "output_type": "execute_result"
    }
   ],
   "source": [
    "df_stateID_lst_test.head(2)"
   ]
  },
  {
   "cell_type": "code",
   "execution_count": 170,
   "metadata": {},
   "outputs": [],
   "source": [
    "df_test[\"state_id\"] = df_stateID_lst_test['state_id']"
   ]
  },
  {
   "cell_type": "code",
   "execution_count": 171,
   "metadata": {},
   "outputs": [
    {
     "data": {
      "text/html": [
       "<div>\n",
       "<style scoped>\n",
       "    .dataframe tbody tr th:only-of-type {\n",
       "        vertical-align: middle;\n",
       "    }\n",
       "\n",
       "    .dataframe tbody tr th {\n",
       "        vertical-align: top;\n",
       "    }\n",
       "\n",
       "    .dataframe thead th {\n",
       "        text-align: right;\n",
       "    }\n",
       "</style>\n",
       "<table border=\"1\" class=\"dataframe\">\n",
       "  <thead>\n",
       "    <tr style=\"text-align: right;\">\n",
       "      <th></th>\n",
       "      <th>first_active_month</th>\n",
       "      <th>card_id</th>\n",
       "      <th>feature_1</th>\n",
       "      <th>feature_2</th>\n",
       "      <th>feature_3</th>\n",
       "      <th>ave_installments</th>\n",
       "      <th>ave_month_lag</th>\n",
       "      <th>ave_purchase_amount</th>\n",
       "      <th>total_purchase_amount</th>\n",
       "      <th>total_purchase_numbers</th>\n",
       "      <th>merchant_category_id</th>\n",
       "      <th>category_1</th>\n",
       "      <th>category_2</th>\n",
       "      <th>category_3</th>\n",
       "      <th>city_id</th>\n",
       "      <th>state_id</th>\n",
       "    </tr>\n",
       "  </thead>\n",
       "  <tbody>\n",
       "    <tr>\n",
       "      <th>0</th>\n",
       "      <td>2017-04</td>\n",
       "      <td>C_ID_0ab67a22ab</td>\n",
       "      <td>3</td>\n",
       "      <td>3</td>\n",
       "      <td>1</td>\n",
       "      <td>2.056338</td>\n",
       "      <td>-3.394366</td>\n",
       "      <td>-0.598745</td>\n",
       "      <td>-42.510888</td>\n",
       "      <td>71</td>\n",
       "      <td>[412, 278, 879, 80, 278, 307, 879, 879, 80, 29...</td>\n",
       "      <td>[N, N, Y, N, N, N, N, Y, N, N, Y, Y, Y, N, N, ...</td>\n",
       "      <td>[1.0, 1.0, 0.0, 1.0, 1.0, 1.0, 1.0, 0.0, 1.0, ...</td>\n",
       "      <td>[B, B, C, B, B, B, B, C, B, B, C, C, C, B, B, ...</td>\n",
       "      <td>[235, 235, -1, 235, 235, 79, 69, -1, 235, 235,...</td>\n",
       "      <td>[12, 12, -1, 12, 12, 12, 9, -1, 12, 12, -1, -1...</td>\n",
       "    </tr>\n",
       "    <tr>\n",
       "      <th>1</th>\n",
       "      <td>2017-01</td>\n",
       "      <td>C_ID_130fd0cbdd</td>\n",
       "      <td>2</td>\n",
       "      <td>3</td>\n",
       "      <td>0</td>\n",
       "      <td>1.080460</td>\n",
       "      <td>-9.183908</td>\n",
       "      <td>-0.633117</td>\n",
       "      <td>-55.081212</td>\n",
       "      <td>87</td>\n",
       "      <td>[705, 705, 705, 705, 130, 87, 367, 705, 195, 1...</td>\n",
       "      <td>[N, N, N, N, N, N, N, N, N, N, N, N, N, N, N, ...</td>\n",
       "      <td>[4.0, 4.0, 4.0, 4.0, 4.0, 4.0, 4.0, 4.0, 4.0, ...</td>\n",
       "      <td>[B, B, B, B, B, C, B, B, B, B, B, B, B, B, B, ...</td>\n",
       "      <td>[117, 117, 117, 117, 117, 117, 117, 117, 117, ...</td>\n",
       "      <td>[13, 13, 13, 13, 13, 13, 13, 13, 13, 13, 13, 1...</td>\n",
       "    </tr>\n",
       "  </tbody>\n",
       "</table>\n",
       "</div>"
      ],
      "text/plain": [
       "  first_active_month          card_id  feature_1  feature_2  feature_3  \\\n",
       "0            2017-04  C_ID_0ab67a22ab          3          3          1   \n",
       "1            2017-01  C_ID_130fd0cbdd          2          3          0   \n",
       "\n",
       "   ave_installments  ave_month_lag  ave_purchase_amount  \\\n",
       "0          2.056338      -3.394366            -0.598745   \n",
       "1          1.080460      -9.183908            -0.633117   \n",
       "\n",
       "   total_purchase_amount  total_purchase_numbers  \\\n",
       "0             -42.510888                      71   \n",
       "1             -55.081212                      87   \n",
       "\n",
       "                                merchant_category_id  \\\n",
       "0  [412, 278, 879, 80, 278, 307, 879, 879, 80, 29...   \n",
       "1  [705, 705, 705, 705, 130, 87, 367, 705, 195, 1...   \n",
       "\n",
       "                                          category_1  \\\n",
       "0  [N, N, Y, N, N, N, N, Y, N, N, Y, Y, Y, N, N, ...   \n",
       "1  [N, N, N, N, N, N, N, N, N, N, N, N, N, N, N, ...   \n",
       "\n",
       "                                          category_2  \\\n",
       "0  [1.0, 1.0, 0.0, 1.0, 1.0, 1.0, 1.0, 0.0, 1.0, ...   \n",
       "1  [4.0, 4.0, 4.0, 4.0, 4.0, 4.0, 4.0, 4.0, 4.0, ...   \n",
       "\n",
       "                                          category_3  \\\n",
       "0  [B, B, C, B, B, B, B, C, B, B, C, C, C, B, B, ...   \n",
       "1  [B, B, B, B, B, C, B, B, B, B, B, B, B, B, B, ...   \n",
       "\n",
       "                                             city_id  \\\n",
       "0  [235, 235, -1, 235, 235, 79, 69, -1, 235, 235,...   \n",
       "1  [117, 117, 117, 117, 117, 117, 117, 117, 117, ...   \n",
       "\n",
       "                                            state_id  \n",
       "0  [12, 12, -1, 12, 12, 12, 9, -1, 12, 12, -1, -1...  \n",
       "1  [13, 13, 13, 13, 13, 13, 13, 13, 13, 13, 13, 1...  "
      ]
     },
     "execution_count": 171,
     "metadata": {},
     "output_type": "execute_result"
    }
   ],
   "source": [
    "df_test.head(2)"
   ]
  },
  {
   "cell_type": "code",
   "execution_count": 172,
   "metadata": {},
   "outputs": [],
   "source": [
    "df_subsectorID_lst_test = df_test_merg.groupby('card_id', sort=False)['subsector_id'].apply(list)"
   ]
  },
  {
   "cell_type": "code",
   "execution_count": 173,
   "metadata": {},
   "outputs": [],
   "source": [
    "df_subsectorID_lst_test =df_subsectorID_lst_test.reset_index()"
   ]
  },
  {
   "cell_type": "code",
   "execution_count": 174,
   "metadata": {},
   "outputs": [
    {
     "data": {
      "text/html": [
       "<div>\n",
       "<style scoped>\n",
       "    .dataframe tbody tr th:only-of-type {\n",
       "        vertical-align: middle;\n",
       "    }\n",
       "\n",
       "    .dataframe tbody tr th {\n",
       "        vertical-align: top;\n",
       "    }\n",
       "\n",
       "    .dataframe thead th {\n",
       "        text-align: right;\n",
       "    }\n",
       "</style>\n",
       "<table border=\"1\" class=\"dataframe\">\n",
       "  <thead>\n",
       "    <tr style=\"text-align: right;\">\n",
       "      <th></th>\n",
       "      <th>card_id</th>\n",
       "      <th>subsector_id</th>\n",
       "    </tr>\n",
       "  </thead>\n",
       "  <tbody>\n",
       "    <tr>\n",
       "      <th>0</th>\n",
       "      <td>C_ID_0ab67a22ab</td>\n",
       "      <td>[18, 37, 29, 37, 37, 19, 29, 29, 37, 10, 29, 7...</td>\n",
       "    </tr>\n",
       "    <tr>\n",
       "      <th>1</th>\n",
       "      <td>C_ID_130fd0cbdd</td>\n",
       "      <td>[33, 33, 33, 33, 41, 27, 16, 33, 34, 41, 33, 1...</td>\n",
       "    </tr>\n",
       "  </tbody>\n",
       "</table>\n",
       "</div>"
      ],
      "text/plain": [
       "           card_id                                       subsector_id\n",
       "0  C_ID_0ab67a22ab  [18, 37, 29, 37, 37, 19, 29, 29, 37, 10, 29, 7...\n",
       "1  C_ID_130fd0cbdd  [33, 33, 33, 33, 41, 27, 16, 33, 34, 41, 33, 1..."
      ]
     },
     "execution_count": 174,
     "metadata": {},
     "output_type": "execute_result"
    }
   ],
   "source": [
    "df_subsectorID_lst_test.head(2)"
   ]
  },
  {
   "cell_type": "code",
   "execution_count": 175,
   "metadata": {},
   "outputs": [],
   "source": [
    "df_test[\"subsector_id\"] = df_subsectorID_lst_test['subsector_id']"
   ]
  },
  {
   "cell_type": "code",
   "execution_count": 176,
   "metadata": {},
   "outputs": [
    {
     "data": {
      "text/html": [
       "<div>\n",
       "<style scoped>\n",
       "    .dataframe tbody tr th:only-of-type {\n",
       "        vertical-align: middle;\n",
       "    }\n",
       "\n",
       "    .dataframe tbody tr th {\n",
       "        vertical-align: top;\n",
       "    }\n",
       "\n",
       "    .dataframe thead th {\n",
       "        text-align: right;\n",
       "    }\n",
       "</style>\n",
       "<table border=\"1\" class=\"dataframe\">\n",
       "  <thead>\n",
       "    <tr style=\"text-align: right;\">\n",
       "      <th></th>\n",
       "      <th>first_active_month</th>\n",
       "      <th>card_id</th>\n",
       "      <th>feature_1</th>\n",
       "      <th>feature_2</th>\n",
       "      <th>feature_3</th>\n",
       "      <th>ave_installments</th>\n",
       "      <th>ave_month_lag</th>\n",
       "      <th>ave_purchase_amount</th>\n",
       "      <th>total_purchase_amount</th>\n",
       "      <th>total_purchase_numbers</th>\n",
       "      <th>merchant_category_id</th>\n",
       "      <th>category_1</th>\n",
       "      <th>category_2</th>\n",
       "      <th>category_3</th>\n",
       "      <th>city_id</th>\n",
       "      <th>state_id</th>\n",
       "      <th>subsector_id</th>\n",
       "    </tr>\n",
       "  </thead>\n",
       "  <tbody>\n",
       "    <tr>\n",
       "      <th>0</th>\n",
       "      <td>2017-04</td>\n",
       "      <td>C_ID_0ab67a22ab</td>\n",
       "      <td>3</td>\n",
       "      <td>3</td>\n",
       "      <td>1</td>\n",
       "      <td>2.056338</td>\n",
       "      <td>-3.394366</td>\n",
       "      <td>-0.598745</td>\n",
       "      <td>-42.510888</td>\n",
       "      <td>71</td>\n",
       "      <td>[412, 278, 879, 80, 278, 307, 879, 879, 80, 29...</td>\n",
       "      <td>[N, N, Y, N, N, N, N, Y, N, N, Y, Y, Y, N, N, ...</td>\n",
       "      <td>[1.0, 1.0, 0.0, 1.0, 1.0, 1.0, 1.0, 0.0, 1.0, ...</td>\n",
       "      <td>[B, B, C, B, B, B, B, C, B, B, C, C, C, B, B, ...</td>\n",
       "      <td>[235, 235, -1, 235, 235, 79, 69, -1, 235, 235,...</td>\n",
       "      <td>[12, 12, -1, 12, 12, 12, 9, -1, 12, 12, -1, -1...</td>\n",
       "      <td>[18, 37, 29, 37, 37, 19, 29, 29, 37, 10, 29, 7...</td>\n",
       "    </tr>\n",
       "    <tr>\n",
       "      <th>1</th>\n",
       "      <td>2017-01</td>\n",
       "      <td>C_ID_130fd0cbdd</td>\n",
       "      <td>2</td>\n",
       "      <td>3</td>\n",
       "      <td>0</td>\n",
       "      <td>1.080460</td>\n",
       "      <td>-9.183908</td>\n",
       "      <td>-0.633117</td>\n",
       "      <td>-55.081212</td>\n",
       "      <td>87</td>\n",
       "      <td>[705, 705, 705, 705, 130, 87, 367, 705, 195, 1...</td>\n",
       "      <td>[N, N, N, N, N, N, N, N, N, N, N, N, N, N, N, ...</td>\n",
       "      <td>[4.0, 4.0, 4.0, 4.0, 4.0, 4.0, 4.0, 4.0, 4.0, ...</td>\n",
       "      <td>[B, B, B, B, B, C, B, B, B, B, B, B, B, B, B, ...</td>\n",
       "      <td>[117, 117, 117, 117, 117, 117, 117, 117, 117, ...</td>\n",
       "      <td>[13, 13, 13, 13, 13, 13, 13, 13, 13, 13, 13, 1...</td>\n",
       "      <td>[33, 33, 33, 33, 41, 27, 16, 33, 34, 41, 33, 1...</td>\n",
       "    </tr>\n",
       "  </tbody>\n",
       "</table>\n",
       "</div>"
      ],
      "text/plain": [
       "  first_active_month          card_id  feature_1  feature_2  feature_3  \\\n",
       "0            2017-04  C_ID_0ab67a22ab          3          3          1   \n",
       "1            2017-01  C_ID_130fd0cbdd          2          3          0   \n",
       "\n",
       "   ave_installments  ave_month_lag  ave_purchase_amount  \\\n",
       "0          2.056338      -3.394366            -0.598745   \n",
       "1          1.080460      -9.183908            -0.633117   \n",
       "\n",
       "   total_purchase_amount  total_purchase_numbers  \\\n",
       "0             -42.510888                      71   \n",
       "1             -55.081212                      87   \n",
       "\n",
       "                                merchant_category_id  \\\n",
       "0  [412, 278, 879, 80, 278, 307, 879, 879, 80, 29...   \n",
       "1  [705, 705, 705, 705, 130, 87, 367, 705, 195, 1...   \n",
       "\n",
       "                                          category_1  \\\n",
       "0  [N, N, Y, N, N, N, N, Y, N, N, Y, Y, Y, N, N, ...   \n",
       "1  [N, N, N, N, N, N, N, N, N, N, N, N, N, N, N, ...   \n",
       "\n",
       "                                          category_2  \\\n",
       "0  [1.0, 1.0, 0.0, 1.0, 1.0, 1.0, 1.0, 0.0, 1.0, ...   \n",
       "1  [4.0, 4.0, 4.0, 4.0, 4.0, 4.0, 4.0, 4.0, 4.0, ...   \n",
       "\n",
       "                                          category_3  \\\n",
       "0  [B, B, C, B, B, B, B, C, B, B, C, C, C, B, B, ...   \n",
       "1  [B, B, B, B, B, C, B, B, B, B, B, B, B, B, B, ...   \n",
       "\n",
       "                                             city_id  \\\n",
       "0  [235, 235, -1, 235, 235, 79, 69, -1, 235, 235,...   \n",
       "1  [117, 117, 117, 117, 117, 117, 117, 117, 117, ...   \n",
       "\n",
       "                                            state_id  \\\n",
       "0  [12, 12, -1, 12, 12, 12, 9, -1, 12, 12, -1, -1...   \n",
       "1  [13, 13, 13, 13, 13, 13, 13, 13, 13, 13, 13, 1...   \n",
       "\n",
       "                                        subsector_id  \n",
       "0  [18, 37, 29, 37, 37, 19, 29, 29, 37, 10, 29, 7...  \n",
       "1  [33, 33, 33, 33, 41, 27, 16, 33, 34, 41, 33, 1...  "
      ]
     },
     "execution_count": 176,
     "metadata": {},
     "output_type": "execute_result"
    }
   ],
   "source": [
    "df_test.head(2)"
   ]
  },
  {
   "cell_type": "code",
   "execution_count": 177,
   "metadata": {},
   "outputs": [],
   "source": [
    "df_monthLag_lst_test = df_test_merg.groupby('card_id', sort=False)['month_lag'].apply(list)"
   ]
  },
  {
   "cell_type": "code",
   "execution_count": 178,
   "metadata": {},
   "outputs": [],
   "source": [
    "df_monthLag_lst_test = df_monthLag_lst_test.reset_index()"
   ]
  },
  {
   "cell_type": "code",
   "execution_count": 179,
   "metadata": {},
   "outputs": [
    {
     "data": {
      "text/html": [
       "<div>\n",
       "<style scoped>\n",
       "    .dataframe tbody tr th:only-of-type {\n",
       "        vertical-align: middle;\n",
       "    }\n",
       "\n",
       "    .dataframe tbody tr th {\n",
       "        vertical-align: top;\n",
       "    }\n",
       "\n",
       "    .dataframe thead th {\n",
       "        text-align: right;\n",
       "    }\n",
       "</style>\n",
       "<table border=\"1\" class=\"dataframe\">\n",
       "  <thead>\n",
       "    <tr style=\"text-align: right;\">\n",
       "      <th></th>\n",
       "      <th>card_id</th>\n",
       "      <th>month_lag</th>\n",
       "    </tr>\n",
       "  </thead>\n",
       "  <tbody>\n",
       "    <tr>\n",
       "      <th>0</th>\n",
       "      <td>C_ID_0ab67a22ab</td>\n",
       "      <td>[-8, -3, -6, -8, -2, 0, -5, -6, -2, -6, -8, -8...</td>\n",
       "    </tr>\n",
       "    <tr>\n",
       "      <th>1</th>\n",
       "      <td>C_ID_130fd0cbdd</td>\n",
       "      <td>[-10, -13, -10, -11, -9, -10, -9, -10, -11, -1...</td>\n",
       "    </tr>\n",
       "  </tbody>\n",
       "</table>\n",
       "</div>"
      ],
      "text/plain": [
       "           card_id                                          month_lag\n",
       "0  C_ID_0ab67a22ab  [-8, -3, -6, -8, -2, 0, -5, -6, -2, -6, -8, -8...\n",
       "1  C_ID_130fd0cbdd  [-10, -13, -10, -11, -9, -10, -9, -10, -11, -1..."
      ]
     },
     "execution_count": 179,
     "metadata": {},
     "output_type": "execute_result"
    }
   ],
   "source": [
    "df_monthLag_lst_test.head(2)"
   ]
  },
  {
   "cell_type": "code",
   "execution_count": 180,
   "metadata": {},
   "outputs": [],
   "source": [
    "df_test[\"month_lag\"] = df_monthLag_lst_test['month_lag']"
   ]
  },
  {
   "cell_type": "code",
   "execution_count": 181,
   "metadata": {},
   "outputs": [
    {
     "data": {
      "text/html": [
       "<div>\n",
       "<style scoped>\n",
       "    .dataframe tbody tr th:only-of-type {\n",
       "        vertical-align: middle;\n",
       "    }\n",
       "\n",
       "    .dataframe tbody tr th {\n",
       "        vertical-align: top;\n",
       "    }\n",
       "\n",
       "    .dataframe thead th {\n",
       "        text-align: right;\n",
       "    }\n",
       "</style>\n",
       "<table border=\"1\" class=\"dataframe\">\n",
       "  <thead>\n",
       "    <tr style=\"text-align: right;\">\n",
       "      <th></th>\n",
       "      <th>first_active_month</th>\n",
       "      <th>card_id</th>\n",
       "      <th>feature_1</th>\n",
       "      <th>feature_2</th>\n",
       "      <th>feature_3</th>\n",
       "      <th>ave_installments</th>\n",
       "      <th>ave_month_lag</th>\n",
       "      <th>ave_purchase_amount</th>\n",
       "      <th>total_purchase_amount</th>\n",
       "      <th>total_purchase_numbers</th>\n",
       "      <th>merchant_category_id</th>\n",
       "      <th>category_1</th>\n",
       "      <th>category_2</th>\n",
       "      <th>category_3</th>\n",
       "      <th>city_id</th>\n",
       "      <th>state_id</th>\n",
       "      <th>subsector_id</th>\n",
       "      <th>month_lag</th>\n",
       "    </tr>\n",
       "  </thead>\n",
       "  <tbody>\n",
       "    <tr>\n",
       "      <th>0</th>\n",
       "      <td>2017-04</td>\n",
       "      <td>C_ID_0ab67a22ab</td>\n",
       "      <td>3</td>\n",
       "      <td>3</td>\n",
       "      <td>1</td>\n",
       "      <td>2.056338</td>\n",
       "      <td>-3.394366</td>\n",
       "      <td>-0.598745</td>\n",
       "      <td>-42.510888</td>\n",
       "      <td>71</td>\n",
       "      <td>[412, 278, 879, 80, 278, 307, 879, 879, 80, 29...</td>\n",
       "      <td>[N, N, Y, N, N, N, N, Y, N, N, Y, Y, Y, N, N, ...</td>\n",
       "      <td>[1.0, 1.0, 0.0, 1.0, 1.0, 1.0, 1.0, 0.0, 1.0, ...</td>\n",
       "      <td>[B, B, C, B, B, B, B, C, B, B, C, C, C, B, B, ...</td>\n",
       "      <td>[235, 235, -1, 235, 235, 79, 69, -1, 235, 235,...</td>\n",
       "      <td>[12, 12, -1, 12, 12, 12, 9, -1, 12, 12, -1, -1...</td>\n",
       "      <td>[18, 37, 29, 37, 37, 19, 29, 29, 37, 10, 29, 7...</td>\n",
       "      <td>[-8, -3, -6, -8, -2, 0, -5, -6, -2, -6, -8, -8...</td>\n",
       "    </tr>\n",
       "    <tr>\n",
       "      <th>1</th>\n",
       "      <td>2017-01</td>\n",
       "      <td>C_ID_130fd0cbdd</td>\n",
       "      <td>2</td>\n",
       "      <td>3</td>\n",
       "      <td>0</td>\n",
       "      <td>1.080460</td>\n",
       "      <td>-9.183908</td>\n",
       "      <td>-0.633117</td>\n",
       "      <td>-55.081212</td>\n",
       "      <td>87</td>\n",
       "      <td>[705, 705, 705, 705, 130, 87, 367, 705, 195, 1...</td>\n",
       "      <td>[N, N, N, N, N, N, N, N, N, N, N, N, N, N, N, ...</td>\n",
       "      <td>[4.0, 4.0, 4.0, 4.0, 4.0, 4.0, 4.0, 4.0, 4.0, ...</td>\n",
       "      <td>[B, B, B, B, B, C, B, B, B, B, B, B, B, B, B, ...</td>\n",
       "      <td>[117, 117, 117, 117, 117, 117, 117, 117, 117, ...</td>\n",
       "      <td>[13, 13, 13, 13, 13, 13, 13, 13, 13, 13, 13, 1...</td>\n",
       "      <td>[33, 33, 33, 33, 41, 27, 16, 33, 34, 41, 33, 1...</td>\n",
       "      <td>[-10, -13, -10, -11, -9, -10, -9, -10, -11, -1...</td>\n",
       "    </tr>\n",
       "  </tbody>\n",
       "</table>\n",
       "</div>"
      ],
      "text/plain": [
       "  first_active_month          card_id  feature_1  feature_2  feature_3  \\\n",
       "0            2017-04  C_ID_0ab67a22ab          3          3          1   \n",
       "1            2017-01  C_ID_130fd0cbdd          2          3          0   \n",
       "\n",
       "   ave_installments  ave_month_lag  ave_purchase_amount  \\\n",
       "0          2.056338      -3.394366            -0.598745   \n",
       "1          1.080460      -9.183908            -0.633117   \n",
       "\n",
       "   total_purchase_amount  total_purchase_numbers  \\\n",
       "0             -42.510888                      71   \n",
       "1             -55.081212                      87   \n",
       "\n",
       "                                merchant_category_id  \\\n",
       "0  [412, 278, 879, 80, 278, 307, 879, 879, 80, 29...   \n",
       "1  [705, 705, 705, 705, 130, 87, 367, 705, 195, 1...   \n",
       "\n",
       "                                          category_1  \\\n",
       "0  [N, N, Y, N, N, N, N, Y, N, N, Y, Y, Y, N, N, ...   \n",
       "1  [N, N, N, N, N, N, N, N, N, N, N, N, N, N, N, ...   \n",
       "\n",
       "                                          category_2  \\\n",
       "0  [1.0, 1.0, 0.0, 1.0, 1.0, 1.0, 1.0, 0.0, 1.0, ...   \n",
       "1  [4.0, 4.0, 4.0, 4.0, 4.0, 4.0, 4.0, 4.0, 4.0, ...   \n",
       "\n",
       "                                          category_3  \\\n",
       "0  [B, B, C, B, B, B, B, C, B, B, C, C, C, B, B, ...   \n",
       "1  [B, B, B, B, B, C, B, B, B, B, B, B, B, B, B, ...   \n",
       "\n",
       "                                             city_id  \\\n",
       "0  [235, 235, -1, 235, 235, 79, 69, -1, 235, 235,...   \n",
       "1  [117, 117, 117, 117, 117, 117, 117, 117, 117, ...   \n",
       "\n",
       "                                            state_id  \\\n",
       "0  [12, 12, -1, 12, 12, 12, 9, -1, 12, 12, -1, -1...   \n",
       "1  [13, 13, 13, 13, 13, 13, 13, 13, 13, 13, 13, 1...   \n",
       "\n",
       "                                        subsector_id  \\\n",
       "0  [18, 37, 29, 37, 37, 19, 29, 29, 37, 10, 29, 7...   \n",
       "1  [33, 33, 33, 33, 41, 27, 16, 33, 34, 41, 33, 1...   \n",
       "\n",
       "                                           month_lag  \n",
       "0  [-8, -3, -6, -8, -2, 0, -5, -6, -2, -6, -8, -8...  \n",
       "1  [-10, -13, -10, -11, -9, -10, -9, -10, -11, -1...  "
      ]
     },
     "execution_count": 181,
     "metadata": {},
     "output_type": "execute_result"
    }
   ],
   "source": [
    "df_test.head(2)"
   ]
  },
  {
   "cell_type": "code",
   "execution_count": 182,
   "metadata": {},
   "outputs": [
    {
     "data": {
      "text/html": [
       "<div>\n",
       "<style scoped>\n",
       "    .dataframe tbody tr th:only-of-type {\n",
       "        vertical-align: middle;\n",
       "    }\n",
       "\n",
       "    .dataframe tbody tr th {\n",
       "        vertical-align: top;\n",
       "    }\n",
       "\n",
       "    .dataframe thead th {\n",
       "        text-align: right;\n",
       "    }\n",
       "</style>\n",
       "<table border=\"1\" class=\"dataframe\">\n",
       "  <thead>\n",
       "    <tr style=\"text-align: right;\">\n",
       "      <th></th>\n",
       "      <th>first_active_month</th>\n",
       "      <th>card_id</th>\n",
       "      <th>feature_1</th>\n",
       "      <th>feature_2</th>\n",
       "      <th>feature_3</th>\n",
       "      <th>ave_installments</th>\n",
       "      <th>ave_month_lag</th>\n",
       "      <th>ave_purchase_amount</th>\n",
       "      <th>total_purchase_amount</th>\n",
       "      <th>total_purchase_numbers</th>\n",
       "      <th>merchant_category_id</th>\n",
       "      <th>category_1</th>\n",
       "      <th>category_2</th>\n",
       "      <th>category_3</th>\n",
       "      <th>city_id</th>\n",
       "      <th>state_id</th>\n",
       "      <th>subsector_id</th>\n",
       "      <th>month_lag</th>\n",
       "    </tr>\n",
       "  </thead>\n",
       "  <tbody>\n",
       "    <tr>\n",
       "      <th>123621</th>\n",
       "      <td>2017-06</td>\n",
       "      <td>C_ID_6c46fc5a9d</td>\n",
       "      <td>2</td>\n",
       "      <td>1</td>\n",
       "      <td>0</td>\n",
       "      <td>1.886703</td>\n",
       "      <td>-1.867647</td>\n",
       "      <td>-0.630934</td>\n",
       "      <td>-42.903516</td>\n",
       "      <td>68</td>\n",
       "      <td>[222, 879, 367, 222, 307, 705, 705, 307, 574, ...</td>\n",
       "      <td>[N, N, N, N, N, N, N, N, N, N, N, N, N, N, N, ...</td>\n",
       "      <td>[3.0, 1.0, 3.0, 3.0, 3.0, 3.0, 3.0, 3.0, 3.0, ...</td>\n",
       "      <td>[C, C, B, C, B, B, C, B, C, C, B, C, C, C, C, ...</td>\n",
       "      <td>[302, 69, 302, 302, 25, 302, 302, 302, 25, 302...</td>\n",
       "      <td>[7, 9, 7, 7, 7, 7, 7, 7, 7, 7, 7, 7, 7, 7, 7, ...</td>\n",
       "      <td>[21, 29, 16, 21, 19, 33, 33, 19, 22, 18, 16, 1...</td>\n",
       "      <td>[-3, -4, -1, -2, -4, -1, -3, -2, -3, -1, -2, -...</td>\n",
       "    </tr>\n",
       "    <tr>\n",
       "      <th>123622</th>\n",
       "      <td>2016-10</td>\n",
       "      <td>C_ID_87e7979a5f</td>\n",
       "      <td>5</td>\n",
       "      <td>1</td>\n",
       "      <td>1</td>\n",
       "      <td>1.619719</td>\n",
       "      <td>-6.790698</td>\n",
       "      <td>-0.600306</td>\n",
       "      <td>-25.813173</td>\n",
       "      <td>43</td>\n",
       "      <td>[307, 690, 307, 307, 842, 842, 879, 834, 367, ...</td>\n",
       "      <td>[N, N, N, N, N, N, N, Y, N, N, N, N, N, N, N, ...</td>\n",
       "      <td>[1.0, 1.0, 1.0, 1.0, 1.0, 1.0, 1.0, 0.0, 1.0, ...</td>\n",
       "      <td>[B, C, B, B, B, B, B, C, B, B, B, C, B, B, B, ...</td>\n",
       "      <td>[331, 331, 331, 331, 331, 331, 69, -1, 331, 33...</td>\n",
       "      <td>[16, 16, 16, 16, 16, 16, 9, -1, 16, 16, 16, 16...</td>\n",
       "      <td>[19, 1, 19, 19, 37, 37, 29, 27, 16, 33, 19, 20...</td>\n",
       "      <td>[-7, -9, -5, -13, -11, -9, -3, -3, 0, -6, -12,...</td>\n",
       "    </tr>\n",
       "  </tbody>\n",
       "</table>\n",
       "</div>"
      ],
      "text/plain": [
       "       first_active_month          card_id  feature_1  feature_2  feature_3  \\\n",
       "123621            2017-06  C_ID_6c46fc5a9d          2          1          0   \n",
       "123622            2016-10  C_ID_87e7979a5f          5          1          1   \n",
       "\n",
       "        ave_installments  ave_month_lag  ave_purchase_amount  \\\n",
       "123621          1.886703      -1.867647            -0.630934   \n",
       "123622          1.619719      -6.790698            -0.600306   \n",
       "\n",
       "        total_purchase_amount  total_purchase_numbers  \\\n",
       "123621             -42.903516                      68   \n",
       "123622             -25.813173                      43   \n",
       "\n",
       "                                     merchant_category_id  \\\n",
       "123621  [222, 879, 367, 222, 307, 705, 705, 307, 574, ...   \n",
       "123622  [307, 690, 307, 307, 842, 842, 879, 834, 367, ...   \n",
       "\n",
       "                                               category_1  \\\n",
       "123621  [N, N, N, N, N, N, N, N, N, N, N, N, N, N, N, ...   \n",
       "123622  [N, N, N, N, N, N, N, Y, N, N, N, N, N, N, N, ...   \n",
       "\n",
       "                                               category_2  \\\n",
       "123621  [3.0, 1.0, 3.0, 3.0, 3.0, 3.0, 3.0, 3.0, 3.0, ...   \n",
       "123622  [1.0, 1.0, 1.0, 1.0, 1.0, 1.0, 1.0, 0.0, 1.0, ...   \n",
       "\n",
       "                                               category_3  \\\n",
       "123621  [C, C, B, C, B, B, C, B, C, C, B, C, C, C, C, ...   \n",
       "123622  [B, C, B, B, B, B, B, C, B, B, B, C, B, B, B, ...   \n",
       "\n",
       "                                                  city_id  \\\n",
       "123621  [302, 69, 302, 302, 25, 302, 302, 302, 25, 302...   \n",
       "123622  [331, 331, 331, 331, 331, 331, 69, -1, 331, 33...   \n",
       "\n",
       "                                                 state_id  \\\n",
       "123621  [7, 9, 7, 7, 7, 7, 7, 7, 7, 7, 7, 7, 7, 7, 7, ...   \n",
       "123622  [16, 16, 16, 16, 16, 16, 9, -1, 16, 16, 16, 16...   \n",
       "\n",
       "                                             subsector_id  \\\n",
       "123621  [21, 29, 16, 21, 19, 33, 33, 19, 22, 18, 16, 1...   \n",
       "123622  [19, 1, 19, 19, 37, 37, 29, 27, 16, 33, 19, 20...   \n",
       "\n",
       "                                                month_lag  \n",
       "123621  [-3, -4, -1, -2, -4, -1, -3, -2, -3, -1, -2, -...  \n",
       "123622  [-7, -9, -5, -13, -11, -9, -3, -3, 0, -6, -12,...  "
      ]
     },
     "execution_count": 182,
     "metadata": {},
     "output_type": "execute_result"
    }
   ],
   "source": [
    "df_test.tail(2)"
   ]
  },
  {
   "cell_type": "code",
   "execution_count": 183,
   "metadata": {},
   "outputs": [],
   "source": [
    "df_test.to_csv(\"test_data_post_processing2\", index=False)"
   ]
  },
  {
   "cell_type": "code",
   "execution_count": 184,
   "metadata": {},
   "outputs": [],
   "source": [
    "df_tt = pd.read_csv(\"test_data_post_processing2\")\n",
    "# reopen to check if it's saved properly"
   ]
  },
  {
   "cell_type": "code",
   "execution_count": 185,
   "metadata": {},
   "outputs": [
    {
     "data": {
      "text/html": [
       "<div>\n",
       "<style scoped>\n",
       "    .dataframe tbody tr th:only-of-type {\n",
       "        vertical-align: middle;\n",
       "    }\n",
       "\n",
       "    .dataframe tbody tr th {\n",
       "        vertical-align: top;\n",
       "    }\n",
       "\n",
       "    .dataframe thead th {\n",
       "        text-align: right;\n",
       "    }\n",
       "</style>\n",
       "<table border=\"1\" class=\"dataframe\">\n",
       "  <thead>\n",
       "    <tr style=\"text-align: right;\">\n",
       "      <th></th>\n",
       "      <th>first_active_month</th>\n",
       "      <th>card_id</th>\n",
       "      <th>feature_1</th>\n",
       "      <th>feature_2</th>\n",
       "      <th>feature_3</th>\n",
       "      <th>ave_installments</th>\n",
       "      <th>ave_month_lag</th>\n",
       "      <th>ave_purchase_amount</th>\n",
       "      <th>total_purchase_amount</th>\n",
       "      <th>total_purchase_numbers</th>\n",
       "      <th>merchant_category_id</th>\n",
       "      <th>category_1</th>\n",
       "      <th>category_2</th>\n",
       "      <th>category_3</th>\n",
       "      <th>city_id</th>\n",
       "      <th>state_id</th>\n",
       "      <th>subsector_id</th>\n",
       "      <th>month_lag</th>\n",
       "    </tr>\n",
       "  </thead>\n",
       "  <tbody>\n",
       "    <tr>\n",
       "      <th>0</th>\n",
       "      <td>2017-04</td>\n",
       "      <td>C_ID_0ab67a22ab</td>\n",
       "      <td>3</td>\n",
       "      <td>3</td>\n",
       "      <td>1</td>\n",
       "      <td>2.056338</td>\n",
       "      <td>-3.394366</td>\n",
       "      <td>-0.598745</td>\n",
       "      <td>-42.510888</td>\n",
       "      <td>71</td>\n",
       "      <td>[412, 278, 879, 80, 278, 307, 879, 879, 80, 29...</td>\n",
       "      <td>['N', 'N', 'Y', 'N', 'N', 'N', 'N', 'Y', 'N', ...</td>\n",
       "      <td>[1.0, 1.0, 0.0, 1.0, 1.0, 1.0, 1.0, 0.0, 1.0, ...</td>\n",
       "      <td>['B', 'B', 'C', 'B', 'B', 'B', 'B', 'C', 'B', ...</td>\n",
       "      <td>[235, 235, -1, 235, 235, 79, 69, -1, 235, 235,...</td>\n",
       "      <td>[12, 12, -1, 12, 12, 12, 9, -1, 12, 12, -1, -1...</td>\n",
       "      <td>[18, 37, 29, 37, 37, 19, 29, 29, 37, 10, 29, 7...</td>\n",
       "      <td>[-8, -3, -6, -8, -2, 0, -5, -6, -2, -6, -8, -8...</td>\n",
       "    </tr>\n",
       "    <tr>\n",
       "      <th>1</th>\n",
       "      <td>2017-01</td>\n",
       "      <td>C_ID_130fd0cbdd</td>\n",
       "      <td>2</td>\n",
       "      <td>3</td>\n",
       "      <td>0</td>\n",
       "      <td>1.080460</td>\n",
       "      <td>-9.183908</td>\n",
       "      <td>-0.633117</td>\n",
       "      <td>-55.081212</td>\n",
       "      <td>87</td>\n",
       "      <td>[705, 705, 705, 705, 130, 87, 367, 705, 195, 1...</td>\n",
       "      <td>['N', 'N', 'N', 'N', 'N', 'N', 'N', 'N', 'N', ...</td>\n",
       "      <td>[4.0, 4.0, 4.0, 4.0, 4.0, 4.0, 4.0, 4.0, 4.0, ...</td>\n",
       "      <td>['B', 'B', 'B', 'B', 'B', 'C', 'B', 'B', 'B', ...</td>\n",
       "      <td>[117, 117, 117, 117, 117, 117, 117, 117, 117, ...</td>\n",
       "      <td>[13, 13, 13, 13, 13, 13, 13, 13, 13, 13, 13, 1...</td>\n",
       "      <td>[33, 33, 33, 33, 41, 27, 16, 33, 34, 41, 33, 1...</td>\n",
       "      <td>[-10, -13, -10, -11, -9, -10, -9, -10, -11, -1...</td>\n",
       "    </tr>\n",
       "  </tbody>\n",
       "</table>\n",
       "</div>"
      ],
      "text/plain": [
       "  first_active_month          card_id  feature_1  feature_2  feature_3  \\\n",
       "0            2017-04  C_ID_0ab67a22ab          3          3          1   \n",
       "1            2017-01  C_ID_130fd0cbdd          2          3          0   \n",
       "\n",
       "   ave_installments  ave_month_lag  ave_purchase_amount  \\\n",
       "0          2.056338      -3.394366            -0.598745   \n",
       "1          1.080460      -9.183908            -0.633117   \n",
       "\n",
       "   total_purchase_amount  total_purchase_numbers  \\\n",
       "0             -42.510888                      71   \n",
       "1             -55.081212                      87   \n",
       "\n",
       "                                merchant_category_id  \\\n",
       "0  [412, 278, 879, 80, 278, 307, 879, 879, 80, 29...   \n",
       "1  [705, 705, 705, 705, 130, 87, 367, 705, 195, 1...   \n",
       "\n",
       "                                          category_1  \\\n",
       "0  ['N', 'N', 'Y', 'N', 'N', 'N', 'N', 'Y', 'N', ...   \n",
       "1  ['N', 'N', 'N', 'N', 'N', 'N', 'N', 'N', 'N', ...   \n",
       "\n",
       "                                          category_2  \\\n",
       "0  [1.0, 1.0, 0.0, 1.0, 1.0, 1.0, 1.0, 0.0, 1.0, ...   \n",
       "1  [4.0, 4.0, 4.0, 4.0, 4.0, 4.0, 4.0, 4.0, 4.0, ...   \n",
       "\n",
       "                                          category_3  \\\n",
       "0  ['B', 'B', 'C', 'B', 'B', 'B', 'B', 'C', 'B', ...   \n",
       "1  ['B', 'B', 'B', 'B', 'B', 'C', 'B', 'B', 'B', ...   \n",
       "\n",
       "                                             city_id  \\\n",
       "0  [235, 235, -1, 235, 235, 79, 69, -1, 235, 235,...   \n",
       "1  [117, 117, 117, 117, 117, 117, 117, 117, 117, ...   \n",
       "\n",
       "                                            state_id  \\\n",
       "0  [12, 12, -1, 12, 12, 12, 9, -1, 12, 12, -1, -1...   \n",
       "1  [13, 13, 13, 13, 13, 13, 13, 13, 13, 13, 13, 1...   \n",
       "\n",
       "                                        subsector_id  \\\n",
       "0  [18, 37, 29, 37, 37, 19, 29, 29, 37, 10, 29, 7...   \n",
       "1  [33, 33, 33, 33, 41, 27, 16, 33, 34, 41, 33, 1...   \n",
       "\n",
       "                                           month_lag  \n",
       "0  [-8, -3, -6, -8, -2, 0, -5, -6, -2, -6, -8, -8...  \n",
       "1  [-10, -13, -10, -11, -9, -10, -9, -10, -11, -1...  "
      ]
     },
     "execution_count": 185,
     "metadata": {},
     "output_type": "execute_result"
    }
   ],
   "source": [
    "df_tt.head(2)"
   ]
  },
  {
   "cell_type": "code",
   "execution_count": null,
   "metadata": {},
   "outputs": [],
   "source": []
  }
 ],
 "metadata": {
  "kernelspec": {
   "display_name": "Python 3",
   "language": "python",
   "name": "python3"
  },
  "language_info": {
   "codemirror_mode": {
    "name": "ipython",
    "version": 3
   },
   "file_extension": ".py",
   "mimetype": "text/x-python",
   "name": "python",
   "nbconvert_exporter": "python",
   "pygments_lexer": "ipython3",
   "version": "3.6.6"
  }
 },
 "nbformat": 4,
 "nbformat_minor": 2
}
